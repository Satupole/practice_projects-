{
 "cells": [
  {
   "cell_type": "markdown",
   "id": "5106d669",
   "metadata": {},
   "source": [
    "Problem Statement:\n",
    " The Titanic Problem is based on the sinking of the ‘Unsinkable’ ship Titanic in early 1912. It gives you information about multiple people like their ages, sexes, sibling counts, embarkment points, and whether or not they survived the disaster. Based on these features, you have to predict if an arbitrary passenger on Titanic would survive the sinking or not. "
   ]
  },
  {
   "cell_type": "code",
   "execution_count": 322,
   "id": "a3c4019b",
   "metadata": {},
   "outputs": [],
   "source": [
    "#importing pandas and numpy libraries\n",
    "import numpy as np\n",
    "import pandas as pd"
   ]
  },
  {
   "cell_type": "code",
   "execution_count": 323,
   "id": "1735fc42",
   "metadata": {
    "scrolled": true
   },
   "outputs": [
    {
     "data": {
      "text/html": [
       "<div>\n",
       "<style scoped>\n",
       "    .dataframe tbody tr th:only-of-type {\n",
       "        vertical-align: middle;\n",
       "    }\n",
       "\n",
       "    .dataframe tbody tr th {\n",
       "        vertical-align: top;\n",
       "    }\n",
       "\n",
       "    .dataframe thead th {\n",
       "        text-align: right;\n",
       "    }\n",
       "</style>\n",
       "<table border=\"1\" class=\"dataframe\">\n",
       "  <thead>\n",
       "    <tr style=\"text-align: right;\">\n",
       "      <th></th>\n",
       "      <th>PassengerId</th>\n",
       "      <th>Survived</th>\n",
       "      <th>Pclass</th>\n",
       "      <th>Name</th>\n",
       "      <th>Sex</th>\n",
       "      <th>Age</th>\n",
       "      <th>SibSp</th>\n",
       "      <th>Parch</th>\n",
       "      <th>Ticket</th>\n",
       "      <th>Fare</th>\n",
       "      <th>Cabin</th>\n",
       "      <th>Embarked</th>\n",
       "    </tr>\n",
       "  </thead>\n",
       "  <tbody>\n",
       "    <tr>\n",
       "      <th>0</th>\n",
       "      <td>1</td>\n",
       "      <td>0</td>\n",
       "      <td>3</td>\n",
       "      <td>Braund, Mr. Owen Harris</td>\n",
       "      <td>male</td>\n",
       "      <td>22.0</td>\n",
       "      <td>1</td>\n",
       "      <td>0</td>\n",
       "      <td>A/5 21171</td>\n",
       "      <td>7.2500</td>\n",
       "      <td>NaN</td>\n",
       "      <td>S</td>\n",
       "    </tr>\n",
       "    <tr>\n",
       "      <th>1</th>\n",
       "      <td>2</td>\n",
       "      <td>1</td>\n",
       "      <td>1</td>\n",
       "      <td>Cumings, Mrs. John Bradley (Florence Briggs Th...</td>\n",
       "      <td>female</td>\n",
       "      <td>38.0</td>\n",
       "      <td>1</td>\n",
       "      <td>0</td>\n",
       "      <td>PC 17599</td>\n",
       "      <td>71.2833</td>\n",
       "      <td>C85</td>\n",
       "      <td>C</td>\n",
       "    </tr>\n",
       "    <tr>\n",
       "      <th>2</th>\n",
       "      <td>3</td>\n",
       "      <td>1</td>\n",
       "      <td>3</td>\n",
       "      <td>Heikkinen, Miss. Laina</td>\n",
       "      <td>female</td>\n",
       "      <td>26.0</td>\n",
       "      <td>0</td>\n",
       "      <td>0</td>\n",
       "      <td>STON/O2. 3101282</td>\n",
       "      <td>7.9250</td>\n",
       "      <td>NaN</td>\n",
       "      <td>S</td>\n",
       "    </tr>\n",
       "    <tr>\n",
       "      <th>3</th>\n",
       "      <td>4</td>\n",
       "      <td>1</td>\n",
       "      <td>1</td>\n",
       "      <td>Futrelle, Mrs. Jacques Heath (Lily May Peel)</td>\n",
       "      <td>female</td>\n",
       "      <td>35.0</td>\n",
       "      <td>1</td>\n",
       "      <td>0</td>\n",
       "      <td>113803</td>\n",
       "      <td>53.1000</td>\n",
       "      <td>C123</td>\n",
       "      <td>S</td>\n",
       "    </tr>\n",
       "    <tr>\n",
       "      <th>4</th>\n",
       "      <td>5</td>\n",
       "      <td>0</td>\n",
       "      <td>3</td>\n",
       "      <td>Allen, Mr. William Henry</td>\n",
       "      <td>male</td>\n",
       "      <td>35.0</td>\n",
       "      <td>0</td>\n",
       "      <td>0</td>\n",
       "      <td>373450</td>\n",
       "      <td>8.0500</td>\n",
       "      <td>NaN</td>\n",
       "      <td>S</td>\n",
       "    </tr>\n",
       "  </tbody>\n",
       "</table>\n",
       "</div>"
      ],
      "text/plain": [
       "   PassengerId  Survived  Pclass  \\\n",
       "0            1         0       3   \n",
       "1            2         1       1   \n",
       "2            3         1       3   \n",
       "3            4         1       1   \n",
       "4            5         0       3   \n",
       "\n",
       "                                                Name     Sex   Age  SibSp  \\\n",
       "0                            Braund, Mr. Owen Harris    male  22.0      1   \n",
       "1  Cumings, Mrs. John Bradley (Florence Briggs Th...  female  38.0      1   \n",
       "2                             Heikkinen, Miss. Laina  female  26.0      0   \n",
       "3       Futrelle, Mrs. Jacques Heath (Lily May Peel)  female  35.0      1   \n",
       "4                           Allen, Mr. William Henry    male  35.0      0   \n",
       "\n",
       "   Parch            Ticket     Fare Cabin Embarked  \n",
       "0      0         A/5 21171   7.2500   NaN        S  \n",
       "1      0          PC 17599  71.2833   C85        C  \n",
       "2      0  STON/O2. 3101282   7.9250   NaN        S  \n",
       "3      0            113803  53.1000  C123        S  \n",
       "4      0            373450   8.0500   NaN        S  "
      ]
     },
     "execution_count": 323,
     "metadata": {},
     "output_type": "execute_result"
    }
   ],
   "source": [
    "#importing dataset\n",
    "data=pd.read_csv('titanic_train.csv')\n",
    "data.head()"
   ]
  },
  {
   "cell_type": "code",
   "execution_count": 324,
   "id": "90e7fb82",
   "metadata": {},
   "outputs": [
    {
     "data": {
      "text/plain": [
       "(891, 12)"
      ]
     },
     "execution_count": 324,
     "metadata": {},
     "output_type": "execute_result"
    }
   ],
   "source": [
    "data.shape"
   ]
  },
  {
   "cell_type": "markdown",
   "id": "a0707170",
   "metadata": {},
   "source": [
    "The dataset contains 891 rows and 12 columns."
   ]
  },
  {
   "cell_type": "code",
   "execution_count": 325,
   "id": "18d3a07a",
   "metadata": {
    "scrolled": true
   },
   "outputs": [
    {
     "name": "stdout",
     "output_type": "stream",
     "text": [
      "Index(['PassengerId', 'Survived', 'Pclass', 'Name', 'Sex', 'Age', 'SibSp',\n",
      "       'Parch', 'Ticket', 'Fare', 'Cabin', 'Embarked'],\n",
      "      dtype='object')\n"
     ]
    }
   ],
   "source": [
    "print(data.columns)"
   ]
  },
  {
   "cell_type": "markdown",
   "id": "cb18c9f1",
   "metadata": {},
   "source": [
    "Above is a list of columns of which 'Survived' column is a label and rest are considered as features. "
   ]
  },
  {
   "cell_type": "code",
   "execution_count": 326,
   "id": "2ce99f12",
   "metadata": {},
   "outputs": [
    {
     "data": {
      "text/plain": [
       "PassengerId      0\n",
       "Survived         0\n",
       "Pclass           0\n",
       "Name             0\n",
       "Sex              0\n",
       "Age            177\n",
       "SibSp            0\n",
       "Parch            0\n",
       "Ticket           0\n",
       "Fare             0\n",
       "Cabin          687\n",
       "Embarked         2\n",
       "dtype: int64"
      ]
     },
     "execution_count": 326,
     "metadata": {},
     "output_type": "execute_result"
    }
   ],
   "source": [
    "#checking for nulls in dataset.\n",
    "data.isnull().sum()"
   ]
  },
  {
   "cell_type": "markdown",
   "id": "da39b4a7",
   "metadata": {},
   "source": [
    "Observation:\n",
    "- It seems like 2 columns have null values i.e. Age and Cabin\n",
    "- Need to remove nulls before proceeding with creating model."
   ]
  },
  {
   "cell_type": "code",
   "execution_count": 327,
   "id": "c9c0ec56",
   "metadata": {},
   "outputs": [],
   "source": [
    "#since age is a continuous data i'll apply mean of age to fill null values and saving it\n",
    "\n",
    "data['Age'].fillna(data['Age'].mean(),inplace=True)"
   ]
  },
  {
   "cell_type": "code",
   "execution_count": 328,
   "id": "e9e39c8b",
   "metadata": {},
   "outputs": [
    {
     "data": {
      "text/plain": [
       "0"
      ]
     },
     "execution_count": 328,
     "metadata": {},
     "output_type": "execute_result"
    }
   ],
   "source": [
    "#checking if there are any null values remaining\n",
    "data['Age'].isnull().sum()"
   ]
  },
  {
   "cell_type": "code",
   "execution_count": 329,
   "id": "dece4fe6",
   "metadata": {
    "scrolled": true
   },
   "outputs": [
    {
     "name": "stdout",
     "output_type": "stream",
     "text": [
      "Null values present in Cabin column in %  77.10437710437711\n"
     ]
    },
    {
     "data": {
      "text/plain": [
       "array([nan, 'C85', 'C123', 'E46', 'G6', 'C103', 'D56', 'A6',\n",
       "       'C23 C25 C27', 'B78', 'D33', 'B30', 'C52', 'B28', 'C83', 'F33',\n",
       "       'F G73', 'E31', 'A5', 'D10 D12', 'D26', 'C110', 'B58 B60', 'E101',\n",
       "       'F E69', 'D47', 'B86', 'F2', 'C2', 'E33', 'B19', 'A7', 'C49', 'F4',\n",
       "       'A32', 'B4', 'B80', 'A31', 'D36', 'D15', 'C93', 'C78', 'D35',\n",
       "       'C87', 'B77', 'E67', 'B94', 'C125', 'C99', 'C118', 'D7', 'A19',\n",
       "       'B49', 'D', 'C22 C26', 'C106', 'C65', 'E36', 'C54',\n",
       "       'B57 B59 B63 B66', 'C7', 'E34', 'C32', 'B18', 'C124', 'C91', 'E40',\n",
       "       'T', 'C128', 'D37', 'B35', 'E50', 'C82', 'B96 B98', 'E10', 'E44',\n",
       "       'A34', 'C104', 'C111', 'C92', 'E38', 'D21', 'E12', 'E63', 'A14',\n",
       "       'B37', 'C30', 'D20', 'B79', 'E25', 'D46', 'B73', 'C95', 'B38',\n",
       "       'B39', 'B22', 'C86', 'C70', 'A16', 'C101', 'C68', 'A10', 'E68',\n",
       "       'B41', 'A20', 'D19', 'D50', 'D9', 'A23', 'B50', 'A26', 'D48',\n",
       "       'E58', 'C126', 'B71', 'B51 B53 B55', 'D49', 'B5', 'B20', 'F G63',\n",
       "       'C62 C64', 'E24', 'C90', 'C45', 'E8', 'B101', 'D45', 'C46', 'D30',\n",
       "       'E121', 'D11', 'E77', 'F38', 'B3', 'D6', 'B82 B84', 'D17', 'A36',\n",
       "       'B102', 'B69', 'E49', 'C47', 'D28', 'E17', 'A24', 'C50', 'B42',\n",
       "       'C148'], dtype=object)"
      ]
     },
     "execution_count": 329,
     "metadata": {},
     "output_type": "execute_result"
    }
   ],
   "source": [
    "print('Null values present in Cabin column in % ',(687/891)*100)\n",
    "\n",
    "#checking for unique values in Cabin column\n",
    "data['Cabin'].unique()"
   ]
  },
  {
   "cell_type": "markdown",
   "id": "d8c080e1",
   "metadata": {},
   "source": [
    "Observation\n",
    "- Cabin class is a categorical column with different cabin names.\n",
    "- The null values present in in this column amounts to 77%\n",
    "\n",
    "Conclusion\n",
    "- According to me dropping the column will be a better option as Cabin wont play a major role in deciding survival plus it is filled with 77% of null values which will make it difficult to predict resulting in wrong results  "
   ]
  },
  {
   "cell_type": "code",
   "execution_count": 330,
   "id": "0cfdb5f4",
   "metadata": {},
   "outputs": [],
   "source": [
    "#dropping the cabin column\n",
    "data=data.drop(['Cabin'],axis=1)"
   ]
  },
  {
   "cell_type": "code",
   "execution_count": 331,
   "id": "273eb10c",
   "metadata": {},
   "outputs": [
    {
     "data": {
      "text/plain": [
       "(891, 11)"
      ]
     },
     "execution_count": 331,
     "metadata": {},
     "output_type": "execute_result"
    }
   ],
   "source": [
    "#shape after dropping \"cabin\"\n",
    "data.shape"
   ]
  },
  {
   "cell_type": "code",
   "execution_count": 332,
   "id": "7d873f69",
   "metadata": {},
   "outputs": [
    {
     "data": {
      "text/plain": [
       "array([  1,   2,   3,   4,   5,   6,   7,   8,   9,  10,  11,  12,  13,\n",
       "        14,  15,  16,  17,  18,  19,  20,  21,  22,  23,  24,  25,  26,\n",
       "        27,  28,  29,  30,  31,  32,  33,  34,  35,  36,  37,  38,  39,\n",
       "        40,  41,  42,  43,  44,  45,  46,  47,  48,  49,  50,  51,  52,\n",
       "        53,  54,  55,  56,  57,  58,  59,  60,  61,  62,  63,  64,  65,\n",
       "        66,  67,  68,  69,  70,  71,  72,  73,  74,  75,  76,  77,  78,\n",
       "        79,  80,  81,  82,  83,  84,  85,  86,  87,  88,  89,  90,  91,\n",
       "        92,  93,  94,  95,  96,  97,  98,  99, 100, 101, 102, 103, 104,\n",
       "       105, 106, 107, 108, 109, 110, 111, 112, 113, 114, 115, 116, 117,\n",
       "       118, 119, 120, 121, 122, 123, 124, 125, 126, 127, 128, 129, 130,\n",
       "       131, 132, 133, 134, 135, 136, 137, 138, 139, 140, 141, 142, 143,\n",
       "       144, 145, 146, 147, 148, 149, 150, 151, 152, 153, 154, 155, 156,\n",
       "       157, 158, 159, 160, 161, 162, 163, 164, 165, 166, 167, 168, 169,\n",
       "       170, 171, 172, 173, 174, 175, 176, 177, 178, 179, 180, 181, 182,\n",
       "       183, 184, 185, 186, 187, 188, 189, 190, 191, 192, 193, 194, 195,\n",
       "       196, 197, 198, 199, 200, 201, 202, 203, 204, 205, 206, 207, 208,\n",
       "       209, 210, 211, 212, 213, 214, 215, 216, 217, 218, 219, 220, 221,\n",
       "       222, 223, 224, 225, 226, 227, 228, 229, 230, 231, 232, 233, 234,\n",
       "       235, 236, 237, 238, 239, 240, 241, 242, 243, 244, 245, 246, 247,\n",
       "       248, 249, 250, 251, 252, 253, 254, 255, 256, 257, 258, 259, 260,\n",
       "       261, 262, 263, 264, 265, 266, 267, 268, 269, 270, 271, 272, 273,\n",
       "       274, 275, 276, 277, 278, 279, 280, 281, 282, 283, 284, 285, 286,\n",
       "       287, 288, 289, 290, 291, 292, 293, 294, 295, 296, 297, 298, 299,\n",
       "       300, 301, 302, 303, 304, 305, 306, 307, 308, 309, 310, 311, 312,\n",
       "       313, 314, 315, 316, 317, 318, 319, 320, 321, 322, 323, 324, 325,\n",
       "       326, 327, 328, 329, 330, 331, 332, 333, 334, 335, 336, 337, 338,\n",
       "       339, 340, 341, 342, 343, 344, 345, 346, 347, 348, 349, 350, 351,\n",
       "       352, 353, 354, 355, 356, 357, 358, 359, 360, 361, 362, 363, 364,\n",
       "       365, 366, 367, 368, 369, 370, 371, 372, 373, 374, 375, 376, 377,\n",
       "       378, 379, 380, 381, 382, 383, 384, 385, 386, 387, 388, 389, 390,\n",
       "       391, 392, 393, 394, 395, 396, 397, 398, 399, 400, 401, 402, 403,\n",
       "       404, 405, 406, 407, 408, 409, 410, 411, 412, 413, 414, 415, 416,\n",
       "       417, 418, 419, 420, 421, 422, 423, 424, 425, 426, 427, 428, 429,\n",
       "       430, 431, 432, 433, 434, 435, 436, 437, 438, 439, 440, 441, 442,\n",
       "       443, 444, 445, 446, 447, 448, 449, 450, 451, 452, 453, 454, 455,\n",
       "       456, 457, 458, 459, 460, 461, 462, 463, 464, 465, 466, 467, 468,\n",
       "       469, 470, 471, 472, 473, 474, 475, 476, 477, 478, 479, 480, 481,\n",
       "       482, 483, 484, 485, 486, 487, 488, 489, 490, 491, 492, 493, 494,\n",
       "       495, 496, 497, 498, 499, 500, 501, 502, 503, 504, 505, 506, 507,\n",
       "       508, 509, 510, 511, 512, 513, 514, 515, 516, 517, 518, 519, 520,\n",
       "       521, 522, 523, 524, 525, 526, 527, 528, 529, 530, 531, 532, 533,\n",
       "       534, 535, 536, 537, 538, 539, 540, 541, 542, 543, 544, 545, 546,\n",
       "       547, 548, 549, 550, 551, 552, 553, 554, 555, 556, 557, 558, 559,\n",
       "       560, 561, 562, 563, 564, 565, 566, 567, 568, 569, 570, 571, 572,\n",
       "       573, 574, 575, 576, 577, 578, 579, 580, 581, 582, 583, 584, 585,\n",
       "       586, 587, 588, 589, 590, 591, 592, 593, 594, 595, 596, 597, 598,\n",
       "       599, 600, 601, 602, 603, 604, 605, 606, 607, 608, 609, 610, 611,\n",
       "       612, 613, 614, 615, 616, 617, 618, 619, 620, 621, 622, 623, 624,\n",
       "       625, 626, 627, 628, 629, 630, 631, 632, 633, 634, 635, 636, 637,\n",
       "       638, 639, 640, 641, 642, 643, 644, 645, 646, 647, 648, 649, 650,\n",
       "       651, 652, 653, 654, 655, 656, 657, 658, 659, 660, 661, 662, 663,\n",
       "       664, 665, 666, 667, 668, 669, 670, 671, 672, 673, 674, 675, 676,\n",
       "       677, 678, 679, 680, 681, 682, 683, 684, 685, 686, 687, 688, 689,\n",
       "       690, 691, 692, 693, 694, 695, 696, 697, 698, 699, 700, 701, 702,\n",
       "       703, 704, 705, 706, 707, 708, 709, 710, 711, 712, 713, 714, 715,\n",
       "       716, 717, 718, 719, 720, 721, 722, 723, 724, 725, 726, 727, 728,\n",
       "       729, 730, 731, 732, 733, 734, 735, 736, 737, 738, 739, 740, 741,\n",
       "       742, 743, 744, 745, 746, 747, 748, 749, 750, 751, 752, 753, 754,\n",
       "       755, 756, 757, 758, 759, 760, 761, 762, 763, 764, 765, 766, 767,\n",
       "       768, 769, 770, 771, 772, 773, 774, 775, 776, 777, 778, 779, 780,\n",
       "       781, 782, 783, 784, 785, 786, 787, 788, 789, 790, 791, 792, 793,\n",
       "       794, 795, 796, 797, 798, 799, 800, 801, 802, 803, 804, 805, 806,\n",
       "       807, 808, 809, 810, 811, 812, 813, 814, 815, 816, 817, 818, 819,\n",
       "       820, 821, 822, 823, 824, 825, 826, 827, 828, 829, 830, 831, 832,\n",
       "       833, 834, 835, 836, 837, 838, 839, 840, 841, 842, 843, 844, 845,\n",
       "       846, 847, 848, 849, 850, 851, 852, 853, 854, 855, 856, 857, 858,\n",
       "       859, 860, 861, 862, 863, 864, 865, 866, 867, 868, 869, 870, 871,\n",
       "       872, 873, 874, 875, 876, 877, 878, 879, 880, 881, 882, 883, 884,\n",
       "       885, 886, 887, 888, 889, 890, 891], dtype=int64)"
      ]
     },
     "execution_count": 332,
     "metadata": {},
     "output_type": "execute_result"
    }
   ],
   "source": [
    "data['PassengerId'].unique()"
   ]
  },
  {
   "cell_type": "markdown",
   "id": "3df07887",
   "metadata": {},
   "source": [
    "Observation: These are just ticket numbers that were given to customers while boarding ship. This data is of no use to us as it is not vital in predicting survival of persons. "
   ]
  },
  {
   "cell_type": "code",
   "execution_count": 333,
   "id": "d590b062",
   "metadata": {},
   "outputs": [],
   "source": [
    "#dropping PaasengerId and Name column\n",
    "data=data.drop(['PassengerId','Name','Ticket'],axis=1)"
   ]
  },
  {
   "cell_type": "markdown",
   "id": "bea1f48e",
   "metadata": {},
   "source": [
    "Name and ticket column is dropped in above code as according to me names and ticket data of the onboarded persons are not vital in predicting model.\n"
   ]
  },
  {
   "cell_type": "code",
   "execution_count": 334,
   "id": "51e26174",
   "metadata": {},
   "outputs": [],
   "source": [
    "#checking for duplicates in dataset and saving the dataset\n",
    "data.drop_duplicates(inplace=True)"
   ]
  },
  {
   "cell_type": "code",
   "execution_count": 335,
   "id": "2ca161b1",
   "metadata": {},
   "outputs": [
    {
     "data": {
      "text/plain": [
       "(780, 8)"
      ]
     },
     "execution_count": 335,
     "metadata": {},
     "output_type": "execute_result"
    }
   ],
   "source": [
    "#new data shape after removing duplicates\n",
    "data.shape"
   ]
  },
  {
   "cell_type": "code",
   "execution_count": 336,
   "id": "2b2cc6e8",
   "metadata": {
    "scrolled": true
   },
   "outputs": [
    {
     "data": {
      "text/html": [
       "<div>\n",
       "<style scoped>\n",
       "    .dataframe tbody tr th:only-of-type {\n",
       "        vertical-align: middle;\n",
       "    }\n",
       "\n",
       "    .dataframe tbody tr th {\n",
       "        vertical-align: top;\n",
       "    }\n",
       "\n",
       "    .dataframe thead th {\n",
       "        text-align: right;\n",
       "    }\n",
       "</style>\n",
       "<table border=\"1\" class=\"dataframe\">\n",
       "  <thead>\n",
       "    <tr style=\"text-align: right;\">\n",
       "      <th></th>\n",
       "      <th>Survived</th>\n",
       "      <th>Pclass</th>\n",
       "      <th>Sex</th>\n",
       "      <th>Age</th>\n",
       "      <th>SibSp</th>\n",
       "      <th>Parch</th>\n",
       "      <th>Fare</th>\n",
       "      <th>Embarked</th>\n",
       "    </tr>\n",
       "  </thead>\n",
       "  <tbody>\n",
       "    <tr>\n",
       "      <th>0</th>\n",
       "      <td>0</td>\n",
       "      <td>3</td>\n",
       "      <td>male</td>\n",
       "      <td>22.0</td>\n",
       "      <td>1</td>\n",
       "      <td>0</td>\n",
       "      <td>7.2500</td>\n",
       "      <td>S</td>\n",
       "    </tr>\n",
       "    <tr>\n",
       "      <th>1</th>\n",
       "      <td>1</td>\n",
       "      <td>1</td>\n",
       "      <td>female</td>\n",
       "      <td>38.0</td>\n",
       "      <td>1</td>\n",
       "      <td>0</td>\n",
       "      <td>71.2833</td>\n",
       "      <td>C</td>\n",
       "    </tr>\n",
       "    <tr>\n",
       "      <th>2</th>\n",
       "      <td>1</td>\n",
       "      <td>3</td>\n",
       "      <td>female</td>\n",
       "      <td>26.0</td>\n",
       "      <td>0</td>\n",
       "      <td>0</td>\n",
       "      <td>7.9250</td>\n",
       "      <td>S</td>\n",
       "    </tr>\n",
       "    <tr>\n",
       "      <th>3</th>\n",
       "      <td>1</td>\n",
       "      <td>1</td>\n",
       "      <td>female</td>\n",
       "      <td>35.0</td>\n",
       "      <td>1</td>\n",
       "      <td>0</td>\n",
       "      <td>53.1000</td>\n",
       "      <td>S</td>\n",
       "    </tr>\n",
       "    <tr>\n",
       "      <th>4</th>\n",
       "      <td>0</td>\n",
       "      <td>3</td>\n",
       "      <td>male</td>\n",
       "      <td>35.0</td>\n",
       "      <td>0</td>\n",
       "      <td>0</td>\n",
       "      <td>8.0500</td>\n",
       "      <td>S</td>\n",
       "    </tr>\n",
       "  </tbody>\n",
       "</table>\n",
       "</div>"
      ],
      "text/plain": [
       "   Survived  Pclass     Sex   Age  SibSp  Parch     Fare Embarked\n",
       "0         0       3    male  22.0      1      0   7.2500        S\n",
       "1         1       1  female  38.0      1      0  71.2833        C\n",
       "2         1       3  female  26.0      0      0   7.9250        S\n",
       "3         1       1  female  35.0      1      0  53.1000        S\n",
       "4         0       3    male  35.0      0      0   8.0500        S"
      ]
     },
     "execution_count": 336,
     "metadata": {},
     "output_type": "execute_result"
    }
   ],
   "source": [
    "#checking the columns and rows that are remaining for our analysis\n",
    "data.head()"
   ]
  },
  {
   "cell_type": "code",
   "execution_count": 337,
   "id": "fdcefe04",
   "metadata": {},
   "outputs": [
    {
     "data": {
      "text/plain": [
       "(780, 8)"
      ]
     },
     "execution_count": 337,
     "metadata": {},
     "output_type": "execute_result"
    }
   ],
   "source": [
    "#new shape of data after dropping 4 columns(Cabin,PassengerId,Name and Ticket)\n",
    "data.shape"
   ]
  },
  {
   "cell_type": "code",
   "execution_count": 338,
   "id": "54fd03e5",
   "metadata": {},
   "outputs": [],
   "source": [
    "#importing libraries to plot data\n",
    "import seaborn as sns\n",
    "import matplotlib.pyplot as plt\n",
    "%matplotlib inline\n",
    "\n",
    "#importing warnings\n",
    "import warnings\n",
    "warnings.filterwarnings(\"ignore\")"
   ]
  },
  {
   "cell_type": "code",
   "execution_count": 339,
   "id": "81fc8488",
   "metadata": {},
   "outputs": [
    {
     "name": "stdout",
     "output_type": "stream",
     "text": [
      "unique values are  [0 1]\n",
      "Value count for non survived and survived are  0    458\n",
      "1    322\n",
      "Name: Survived, dtype: int64\n"
     ]
    }
   ],
   "source": [
    "#checking for unique values and count in survived column\n",
    "print('unique values are ',data['Survived'].unique())\n",
    "print('Value count for non survived and survived are ',data['Survived'].value_counts())"
   ]
  },
  {
   "cell_type": "code",
   "execution_count": 340,
   "id": "cb60ee07",
   "metadata": {},
   "outputs": [
    {
     "data": {
      "text/plain": [
       "<AxesSubplot:xlabel='Survived', ylabel='count'>"
      ]
     },
     "execution_count": 340,
     "metadata": {},
     "output_type": "execute_result"
    },
    {
     "data": {
      "image/png": "[encoded data removed]",
      "text/plain": [
       "<Figure size 432x288 with 1 Axes>"
      ]
     },
     "metadata": {
      "needs_background": "light"
     },
     "output_type": "display_data"
    }
   ],
   "source": [
    "sns.countplot(data['Survived'])"
   ]
  },
  {
   "cell_type": "code",
   "execution_count": 341,
   "id": "0556e8a9",
   "metadata": {},
   "outputs": [
    {
     "name": "stdout",
     "output_type": "stream",
     "text": [
      "unique values are  [3 1 2]\n",
      "Value count for diffrent passenger classes are  3    404\n",
      "1    212\n",
      "2    164\n",
      "Name: Pclass, dtype: int64\n"
     ]
    }
   ],
   "source": [
    "#checking for unique values and count in Passenger class \n",
    "print('unique values are ',data['Pclass'].unique())\n",
    "print('Value count for diffrent passenger classes are ',data['Pclass'].value_counts())"
   ]
  },
  {
   "cell_type": "markdown",
   "id": "85063339",
   "metadata": {},
   "source": [
    "Observation:\n",
    "- looking at the unique values in column it seems that there were 3 passenger classes in ship.\n",
    "- Looking at the count of people there were more people in 3rd class and less people in 2nd class."
   ]
  },
  {
   "cell_type": "code",
   "execution_count": 342,
   "id": "23349aa9",
   "metadata": {},
   "outputs": [
    {
     "data": {
      "text/plain": [
       "<AxesSubplot:xlabel='Pclass', ylabel='count'>"
      ]
     },
     "execution_count": 342,
     "metadata": {},
     "output_type": "execute_result"
    },
    {
     "data": {
      "image/png": "[encoded data removed]",
      "text/plain": [
       "<Figure size 432x288 with 1 Axes>"
      ]
     },
     "metadata": {
      "needs_background": "light"
     },
     "output_type": "display_data"
    }
   ],
   "source": [
    "sns.countplot(data['Pclass'])"
   ]
  },
  {
   "cell_type": "markdown",
   "id": "d4fcc6eb",
   "metadata": {},
   "source": [
    "Observations:\n",
    "- As seen above more people are concentrated in 3rd class and less in 2nd class"
   ]
  },
  {
   "cell_type": "code",
   "execution_count": 343,
   "id": "f72165ee",
   "metadata": {},
   "outputs": [
    {
     "name": "stdout",
     "output_type": "stream",
     "text": [
      "Value count for male and females are  male      488\n",
      "female    292\n",
      "Name: Sex, dtype: int64\n"
     ]
    },
    {
     "data": {
      "text/plain": [
       "<AxesSubplot:xlabel='Sex', ylabel='count'>"
      ]
     },
     "execution_count": 343,
     "metadata": {},
     "output_type": "execute_result"
    },
    {
     "data": {
      "image/png": "[encoded data removed]",
      "text/plain": [
       "<Figure size 432x288 with 1 Axes>"
      ]
     },
     "metadata": {
      "needs_background": "light"
     },
     "output_type": "display_data"
    }
   ],
   "source": [
    "print('Value count for male and females are ',data['Sex'].value_counts())\n",
    "sns.countplot(data['Sex'])"
   ]
  },
  {
   "cell_type": "markdown",
   "id": "ae838c07",
   "metadata": {},
   "source": [
    "Observations:\n",
    "- Looking at the above plot seems like more number of males were present then females in ship    "
   ]
  },
  {
   "cell_type": "code",
   "execution_count": 344,
   "id": "38459344",
   "metadata": {},
   "outputs": [
    {
     "name": "stdout",
     "output_type": "stream",
     "text": [
      "Value count for siblings and spouses present are  0    513\n",
      "1    201\n",
      "2     27\n",
      "4     18\n",
      "3     14\n",
      "5      5\n",
      "8      2\n",
      "Name: SibSp, dtype: int64\n"
     ]
    },
    {
     "data": {
      "text/plain": [
       "<AxesSubplot:xlabel='SibSp', ylabel='count'>"
      ]
     },
     "execution_count": 344,
     "metadata": {},
     "output_type": "execute_result"
    },
    {
     "data": {
      "image/png": "[encoded data removed]",
      "text/plain": [
       "<Figure size 432x288 with 1 Axes>"
      ]
     },
     "metadata": {
      "needs_background": "light"
     },
     "output_type": "display_data"
    }
   ],
   "source": [
    "print('Value count for siblings and spouses present are ',data['SibSp'].value_counts())\n",
    "sns.countplot(data['SibSp'])"
   ]
  },
  {
   "cell_type": "markdown",
   "id": "cbb815cf",
   "metadata": {},
   "source": [
    "Observations:\n",
    "- seems like majority of the persons didnt come with their spouses or siblings.\n",
    "- 201 ppl were accopanied by one of their spouse or sibling.\n",
    "- rest remaining people were in groups of 2,3,4,5 and maximum of 8 people."
   ]
  },
  {
   "cell_type": "code",
   "execution_count": 345,
   "id": "25070e40",
   "metadata": {},
   "outputs": [
    {
     "name": "stdout",
     "output_type": "stream",
     "text": [
      "Value count for parents and children present are  0    576\n",
      "1    114\n",
      "2     75\n",
      "5      5\n",
      "3      5\n",
      "4      4\n",
      "6      1\n",
      "Name: Parch, dtype: int64\n"
     ]
    },
    {
     "data": {
      "text/plain": [
       "<AxesSubplot:xlabel='Parch', ylabel='count'>"
      ]
     },
     "execution_count": 345,
     "metadata": {},
     "output_type": "execute_result"
    },
    {
     "data": {
      "image/png": "[encoded data removed]",
      "text/plain": [
       "<Figure size 432x288 with 1 Axes>"
      ]
     },
     "metadata": {
      "needs_background": "light"
     },
     "output_type": "display_data"
    }
   ],
   "source": [
    "print('Value count for parents and children present are ',data['Parch'].value_counts())\n",
    "sns.countplot(data['Parch'])"
   ]
  },
  {
   "cell_type": "markdown",
   "id": "53fb9084",
   "metadata": {},
   "source": [
    "Observations\n",
    "- looks like 576 people were not accompanied by their parents and children.\n",
    "- rest 204 people were accompanied by their children and/or parents."
   ]
  },
  {
   "cell_type": "code",
   "execution_count": 346,
   "id": "61e5d022",
   "metadata": {},
   "outputs": [
    {
     "name": "stdout",
     "output_type": "stream",
     "text": [
      "Value count for people embarked ports are  S    565\n",
      "C    155\n",
      "Q     58\n",
      "Name: Embarked, dtype: int64\n"
     ]
    },
    {
     "data": {
      "text/plain": [
       "<AxesSubplot:xlabel='Embarked', ylabel='count'>"
      ]
     },
     "execution_count": 346,
     "metadata": {},
     "output_type": "execute_result"
    },
    {
     "data": {
      "image/png": "[encoded data removed]",
      "text/plain": [
       "<Figure size 432x288 with 1 Axes>"
      ]
     },
     "metadata": {
      "needs_background": "light"
     },
     "output_type": "display_data"
    }
   ],
   "source": [
    "print('Value count for people embarked ports are ',data['Embarked'].value_counts())\n",
    "sns.countplot(data['Embarked'])"
   ]
  },
  {
   "cell_type": "markdown",
   "id": "5c6ec09a",
   "metadata": {},
   "source": [
    "observations\n",
    "- most number of people were embarked from S port then C and least from Q port."
   ]
  },
  {
   "cell_type": "markdown",
   "id": "16bb22b3",
   "metadata": {},
   "source": [
    "# checking how many people survived w.r.t. to passenger class"
   ]
  },
  {
   "cell_type": "code",
   "execution_count": 347,
   "id": "b5fc972e",
   "metadata": {},
   "outputs": [
    {
     "data": {
      "text/html": [
       "<div>\n",
       "<style scoped>\n",
       "    .dataframe tbody tr th:only-of-type {\n",
       "        vertical-align: middle;\n",
       "    }\n",
       "\n",
       "    .dataframe tbody tr th {\n",
       "        vertical-align: top;\n",
       "    }\n",
       "\n",
       "    .dataframe thead th {\n",
       "        text-align: right;\n",
       "    }\n",
       "</style>\n",
       "<table border=\"1\" class=\"dataframe\">\n",
       "  <thead>\n",
       "    <tr style=\"text-align: right;\">\n",
       "      <th></th>\n",
       "      <th>Fare</th>\n",
       "    </tr>\n",
       "    <tr>\n",
       "      <th>Pclass</th>\n",
       "      <th></th>\n",
       "    </tr>\n",
       "  </thead>\n",
       "  <tbody>\n",
       "    <tr>\n",
       "      <th>1</th>\n",
       "      <td>85.159631</td>\n",
       "    </tr>\n",
       "    <tr>\n",
       "      <th>2</th>\n",
       "      <td>21.889279</td>\n",
       "    </tr>\n",
       "    <tr>\n",
       "      <th>3</th>\n",
       "      <td>13.670843</td>\n",
       "    </tr>\n",
       "  </tbody>\n",
       "</table>\n",
       "</div>"
      ],
      "text/plain": [
       "             Fare\n",
       "Pclass           \n",
       "1       85.159631\n",
       "2       21.889279\n",
       "3       13.670843"
      ]
     },
     "execution_count": 347,
     "metadata": {},
     "output_type": "execute_result"
    }
   ],
   "source": [
    "#checking for fare prices w.r.t to passenger class\n",
    "data.groupby('Pclass')[['Fare']].mean()"
   ]
  },
  {
   "cell_type": "code",
   "execution_count": 348,
   "id": "e868c5ea",
   "metadata": {
    "scrolled": true
   },
   "outputs": [
    {
     "data": {
      "image/png": "[encoded data removed]",
      "text/plain": [
       "<Figure size 432x288 with 1 Axes>"
      ]
     },
     "metadata": {
      "needs_background": "light"
     },
     "output_type": "display_data"
    }
   ],
   "source": [
    "sns.barplot(x='Pclass',y='Fare',data=data)\n",
    "plt.show()"
   ]
  },
  {
   "cell_type": "markdown",
   "id": "f3487205",
   "metadata": {},
   "source": [
    "Observation:\n",
    "- The above plot shows that the fare is very high in 1st class.\n",
    "- There is not much of diffence between 2nd and 3rd class but 3rd class fare is cheaper then 2nd class"
   ]
  },
  {
   "cell_type": "code",
   "execution_count": 349,
   "id": "785b9e90",
   "metadata": {
    "scrolled": true
   },
   "outputs": [
    {
     "data": {
      "image/png": "[encoded data removed]",
      "text/plain": [
       "<Figure size 432x288 with 1 Axes>"
      ]
     },
     "metadata": {
      "needs_background": "light"
     },
     "output_type": "display_data"
    }
   ],
   "source": [
    "sns.barplot(x='Embarked',y='Fare',data=data,hue='Survived')\n",
    "plt.show()"
   ]
  },
  {
   "cell_type": "markdown",
   "id": "211c9833",
   "metadata": {},
   "source": [
    "Observation: \n",
    "- This shows that those who boarded ship from C port paid higher fare then who boared from S and Q port.\n",
    "- Also shows those who paid more fare do have more survival count then other persons. "
   ]
  },
  {
   "cell_type": "code",
   "execution_count": 350,
   "id": "653556d7",
   "metadata": {},
   "outputs": [
    {
     "data": {
      "text/html": [
       "<div>\n",
       "<style scoped>\n",
       "    .dataframe tbody tr th:only-of-type {\n",
       "        vertical-align: middle;\n",
       "    }\n",
       "\n",
       "    .dataframe tbody tr th {\n",
       "        vertical-align: top;\n",
       "    }\n",
       "\n",
       "    .dataframe thead th {\n",
       "        text-align: right;\n",
       "    }\n",
       "</style>\n",
       "<table border=\"1\" class=\"dataframe\">\n",
       "  <thead>\n",
       "    <tr style=\"text-align: right;\">\n",
       "      <th></th>\n",
       "      <th>Survived</th>\n",
       "    </tr>\n",
       "    <tr>\n",
       "      <th>Sex</th>\n",
       "      <th></th>\n",
       "    </tr>\n",
       "  </thead>\n",
       "  <tbody>\n",
       "    <tr>\n",
       "      <th>female</th>\n",
       "      <td>0.739726</td>\n",
       "    </tr>\n",
       "    <tr>\n",
       "      <th>male</th>\n",
       "      <td>0.217213</td>\n",
       "    </tr>\n",
       "  </tbody>\n",
       "</table>\n",
       "</div>"
      ],
      "text/plain": [
       "        Survived\n",
       "Sex             \n",
       "female  0.739726\n",
       "male    0.217213"
      ]
     },
     "execution_count": 350,
     "metadata": {},
     "output_type": "execute_result"
    }
   ],
   "source": [
    "data.groupby('Sex')[['Survived']].mean()"
   ]
  },
  {
   "cell_type": "markdown",
   "id": "30ec8fc2",
   "metadata": {},
   "source": [
    "Observation:\n",
    "- Over 74% of females survived while only 20% of males survived"
   ]
  },
  {
   "cell_type": "code",
   "execution_count": 351,
   "id": "3582acc8",
   "metadata": {},
   "outputs": [
    {
     "data": {
      "text/plain": [
       "<AxesSubplot:xlabel='Survived', ylabel='Sex'>"
      ]
     },
     "execution_count": 351,
     "metadata": {},
     "output_type": "execute_result"
    },
    {
     "data": {
      "image/png": "[encoded data removed]",
      "text/plain": [
       "<Figure size 432x288 with 1 Axes>"
      ]
     },
     "metadata": {
      "needs_background": "light"
     },
     "output_type": "display_data"
    }
   ],
   "source": [
    "#plotting data of survival of male and female\n",
    "sns.barplot(x='Survived',y='Sex',data=data)"
   ]
  },
  {
   "cell_type": "code",
   "execution_count": 352,
   "id": "405dac31",
   "metadata": {},
   "outputs": [
    {
     "data": {
      "text/html": [
       "<div>\n",
       "<style scoped>\n",
       "    .dataframe tbody tr th:only-of-type {\n",
       "        vertical-align: middle;\n",
       "    }\n",
       "\n",
       "    .dataframe tbody tr th {\n",
       "        vertical-align: top;\n",
       "    }\n",
       "\n",
       "    .dataframe thead th {\n",
       "        text-align: right;\n",
       "    }\n",
       "</style>\n",
       "<table border=\"1\" class=\"dataframe\">\n",
       "  <thead>\n",
       "    <tr style=\"text-align: right;\">\n",
       "      <th></th>\n",
       "      <th>Survived</th>\n",
       "    </tr>\n",
       "    <tr>\n",
       "      <th>Pclass</th>\n",
       "      <th></th>\n",
       "    </tr>\n",
       "  </thead>\n",
       "  <tbody>\n",
       "    <tr>\n",
       "      <th>1</th>\n",
       "      <td>0.636792</td>\n",
       "    </tr>\n",
       "    <tr>\n",
       "      <th>2</th>\n",
       "      <td>0.506098</td>\n",
       "    </tr>\n",
       "    <tr>\n",
       "      <th>3</th>\n",
       "      <td>0.257426</td>\n",
       "    </tr>\n",
       "  </tbody>\n",
       "</table>\n",
       "</div>"
      ],
      "text/plain": [
       "        Survived\n",
       "Pclass          \n",
       "1       0.636792\n",
       "2       0.506098\n",
       "3       0.257426"
      ]
     },
     "execution_count": 352,
     "metadata": {},
     "output_type": "execute_result"
    }
   ],
   "source": [
    "#checking how many people from each classes survived\n",
    "data.groupby('Pclass')[['Survived']].mean()"
   ]
  },
  {
   "cell_type": "code",
   "execution_count": 353,
   "id": "24c4d085",
   "metadata": {},
   "outputs": [
    {
     "data": {
      "image/png": "[encoded data removed]",
      "text/plain": [
       "<Figure size 432x288 with 1 Axes>"
      ]
     },
     "metadata": {
      "needs_background": "light"
     },
     "output_type": "display_data"
    }
   ],
   "source": [
    "#plotting data for how many males and female survived from each passenger class\n",
    "sns.barplot(x='Pclass',y='Survived',data=data,hue='Sex')\n",
    "plt.show()"
   ]
  },
  {
   "cell_type": "markdown",
   "id": "244e2260",
   "metadata": {},
   "source": [
    "Observation:\n",
    "- It seems that as said earlier females from all 3 class have more chances of survival then men.\n",
    "- But compared to all three passenger classes females and males from 1st and 2nd class survived more then 3rd class.\n"
   ]
  },
  {
   "cell_type": "code",
   "execution_count": 354,
   "id": "6c5400eb",
   "metadata": {},
   "outputs": [
    {
     "data": {
      "text/html": [
       "<div>\n",
       "<style scoped>\n",
       "    .dataframe tbody tr th:only-of-type {\n",
       "        vertical-align: middle;\n",
       "    }\n",
       "\n",
       "    .dataframe tbody tr th {\n",
       "        vertical-align: top;\n",
       "    }\n",
       "\n",
       "    .dataframe thead th {\n",
       "        text-align: right;\n",
       "    }\n",
       "</style>\n",
       "<table border=\"1\" class=\"dataframe\">\n",
       "  <thead>\n",
       "    <tr style=\"text-align: right;\">\n",
       "      <th></th>\n",
       "      <th>Survived</th>\n",
       "      <th>Fare</th>\n",
       "    </tr>\n",
       "    <tr>\n",
       "      <th>Pclass</th>\n",
       "      <th></th>\n",
       "      <th></th>\n",
       "    </tr>\n",
       "  </thead>\n",
       "  <tbody>\n",
       "    <tr>\n",
       "      <th>1</th>\n",
       "      <td>0.636792</td>\n",
       "      <td>85.159631</td>\n",
       "    </tr>\n",
       "    <tr>\n",
       "      <th>2</th>\n",
       "      <td>0.506098</td>\n",
       "      <td>21.889279</td>\n",
       "    </tr>\n",
       "    <tr>\n",
       "      <th>3</th>\n",
       "      <td>0.257426</td>\n",
       "      <td>13.670843</td>\n",
       "    </tr>\n",
       "  </tbody>\n",
       "</table>\n",
       "</div>"
      ],
      "text/plain": [
       "        Survived       Fare\n",
       "Pclass                     \n",
       "1       0.636792  85.159631\n",
       "2       0.506098  21.889279\n",
       "3       0.257426  13.670843"
      ]
     },
     "execution_count": 354,
     "metadata": {},
     "output_type": "execute_result"
    }
   ],
   "source": [
    "#checking relation for people survived between passenger class and ticket fare\n",
    "data.groupby('Pclass')[['Survived','Fare']].mean()"
   ]
  },
  {
   "cell_type": "code",
   "execution_count": 355,
   "id": "2f54f255",
   "metadata": {},
   "outputs": [
    {
     "data": {
      "image/png": "[encoded data removed]",
      "text/plain": [
       "<Figure size 432x288 with 1 Axes>"
      ]
     },
     "metadata": {
      "needs_background": "light"
     },
     "output_type": "display_data"
    }
   ],
   "source": [
    "sns.barplot(x='Pclass',y='Fare',data=data,hue='Survived')\n",
    "plt.show()"
   ]
  },
  {
   "cell_type": "markdown",
   "id": "687f1403",
   "metadata": {},
   "source": [
    "Observation:\n",
    "- with above plot it looks like the people who paid more for ticket have higher chances of survival i.e. people from 1st class are survived more then 2nd class and then 3rd class.   "
   ]
  },
  {
   "cell_type": "code",
   "execution_count": 356,
   "id": "255be744",
   "metadata": {},
   "outputs": [
    {
     "data": {
      "image/png": "[encoded data removed]",
      "text/plain": [
       "<Figure size 432x288 with 1 Axes>"
      ]
     },
     "metadata": {
      "needs_background": "light"
     },
     "output_type": "display_data"
    }
   ],
   "source": [
    "sns.barplot(x='Survived',y='SibSp',data=data)\n",
    "plt.show()"
   ]
  },
  {
   "cell_type": "markdown",
   "id": "efb20bd0",
   "metadata": {},
   "source": [
    "Observation:\n",
    "- above plot shows that less number of siblings/spouse survived then died.    "
   ]
  },
  {
   "cell_type": "code",
   "execution_count": 357,
   "id": "4965985b",
   "metadata": {},
   "outputs": [
    {
     "data": {
      "image/png": "[encoded data removed]",
      "text/plain": [
       "<Figure size 432x288 with 1 Axes>"
      ]
     },
     "metadata": {
      "needs_background": "light"
     },
     "output_type": "display_data"
    }
   ],
   "source": [
    "sns.barplot(x='Survived',y='Parch',data=data)\n",
    "plt.show()"
   ]
  },
  {
   "cell_type": "markdown",
   "id": "a2b46bf5",
   "metadata": {},
   "source": [
    "Observation:\n",
    "- above plot shows that older people(parents/grandparents) and children survived more then died."
   ]
  },
  {
   "cell_type": "code",
   "execution_count": 358,
   "id": "b1df2b7f",
   "metadata": {},
   "outputs": [
    {
     "data": {
      "text/html": [
       "<div>\n",
       "<style scoped>\n",
       "    .dataframe tbody tr th:only-of-type {\n",
       "        vertical-align: middle;\n",
       "    }\n",
       "\n",
       "    .dataframe tbody tr th {\n",
       "        vertical-align: top;\n",
       "    }\n",
       "\n",
       "    .dataframe thead th {\n",
       "        text-align: right;\n",
       "    }\n",
       "</style>\n",
       "<table border=\"1\" class=\"dataframe\">\n",
       "  <thead>\n",
       "    <tr style=\"text-align: right;\">\n",
       "      <th></th>\n",
       "      <th>Survived</th>\n",
       "      <th>Pclass</th>\n",
       "      <th>Age</th>\n",
       "      <th>SibSp</th>\n",
       "      <th>Parch</th>\n",
       "      <th>Fare</th>\n",
       "    </tr>\n",
       "  </thead>\n",
       "  <tbody>\n",
       "    <tr>\n",
       "      <th>count</th>\n",
       "      <td>780.000000</td>\n",
       "      <td>780.000000</td>\n",
       "      <td>780.000000</td>\n",
       "      <td>780.000000</td>\n",
       "      <td>780.000000</td>\n",
       "      <td>780.000000</td>\n",
       "    </tr>\n",
       "    <tr>\n",
       "      <th>mean</th>\n",
       "      <td>0.412821</td>\n",
       "      <td>2.246154</td>\n",
       "      <td>29.797600</td>\n",
       "      <td>0.525641</td>\n",
       "      <td>0.417949</td>\n",
       "      <td>34.829108</td>\n",
       "    </tr>\n",
       "    <tr>\n",
       "      <th>std</th>\n",
       "      <td>0.492657</td>\n",
       "      <td>0.854452</td>\n",
       "      <td>13.708883</td>\n",
       "      <td>0.988046</td>\n",
       "      <td>0.838536</td>\n",
       "      <td>52.263440</td>\n",
       "    </tr>\n",
       "    <tr>\n",
       "      <th>min</th>\n",
       "      <td>0.000000</td>\n",
       "      <td>1.000000</td>\n",
       "      <td>0.420000</td>\n",
       "      <td>0.000000</td>\n",
       "      <td>0.000000</td>\n",
       "      <td>0.000000</td>\n",
       "    </tr>\n",
       "    <tr>\n",
       "      <th>25%</th>\n",
       "      <td>0.000000</td>\n",
       "      <td>1.000000</td>\n",
       "      <td>21.750000</td>\n",
       "      <td>0.000000</td>\n",
       "      <td>0.000000</td>\n",
       "      <td>8.050000</td>\n",
       "    </tr>\n",
       "    <tr>\n",
       "      <th>50%</th>\n",
       "      <td>0.000000</td>\n",
       "      <td>3.000000</td>\n",
       "      <td>29.699118</td>\n",
       "      <td>0.000000</td>\n",
       "      <td>0.000000</td>\n",
       "      <td>15.950000</td>\n",
       "    </tr>\n",
       "    <tr>\n",
       "      <th>75%</th>\n",
       "      <td>1.000000</td>\n",
       "      <td>3.000000</td>\n",
       "      <td>36.000000</td>\n",
       "      <td>1.000000</td>\n",
       "      <td>1.000000</td>\n",
       "      <td>34.375000</td>\n",
       "    </tr>\n",
       "    <tr>\n",
       "      <th>max</th>\n",
       "      <td>1.000000</td>\n",
       "      <td>3.000000</td>\n",
       "      <td>80.000000</td>\n",
       "      <td>8.000000</td>\n",
       "      <td>6.000000</td>\n",
       "      <td>512.329200</td>\n",
       "    </tr>\n",
       "  </tbody>\n",
       "</table>\n",
       "</div>"
      ],
      "text/plain": [
       "         Survived      Pclass         Age       SibSp       Parch        Fare\n",
       "count  780.000000  780.000000  780.000000  780.000000  780.000000  780.000000\n",
       "mean     0.412821    2.246154   29.797600    0.525641    0.417949   34.829108\n",
       "std      0.492657    0.854452   13.708883    0.988046    0.838536   52.263440\n",
       "min      0.000000    1.000000    0.420000    0.000000    0.000000    0.000000\n",
       "25%      0.000000    1.000000   21.750000    0.000000    0.000000    8.050000\n",
       "50%      0.000000    3.000000   29.699118    0.000000    0.000000   15.950000\n",
       "75%      1.000000    3.000000   36.000000    1.000000    1.000000   34.375000\n",
       "max      1.000000    3.000000   80.000000    8.000000    6.000000  512.329200"
      ]
     },
     "execution_count": 358,
     "metadata": {},
     "output_type": "execute_result"
    }
   ],
   "source": [
    "#describing the dataset\n",
    "data.describe()"
   ]
  },
  {
   "cell_type": "markdown",
   "id": "1fa342c7",
   "metadata": {},
   "source": [
    "Observations:\n",
    "- Survived is label(categorical) with values of 0 and 1 hence min. is 0(dead) and max. is 1(alive).   \n",
    "- Pclass is categorical column with only 1,2 and 3 interpreting passenger classes.\n",
    "- Age is continuous data with mean as 29.79 interpreting most of the passengers were in that age bracket. The min age of     passenger was 4 months old(0.42) and max age was 80 years.\n",
    "- SibSp and Parch are categorical columns.\n",
    "- Fare is continuous column with average fare price in range of 34.82 pounds. The max. fare paid by passenger is 512.32 pounds,\n",
    "- the deviation of fare is higher interpreting that the data is widely distributed."
   ]
  },
  {
   "cell_type": "code",
   "execution_count": 359,
   "id": "089e4674",
   "metadata": {},
   "outputs": [
    {
     "data": {
      "image/png": "[encoded data removed]",
      "text/plain": [
       "<Figure size 432x288 with 1 Axes>"
      ]
     },
     "metadata": {
      "needs_background": "light"
     },
     "output_type": "display_data"
    }
   ],
   "source": [
    "#plotting distribution plots for Age and Fare\n",
    "sns.distplot(data['Age'])\n",
    "plt.show()"
   ]
  },
  {
   "cell_type": "markdown",
   "id": "45484bc5",
   "metadata": {},
   "source": [
    "Observation:\n",
    "- The plot shows presence of outliers."
   ]
  },
  {
   "cell_type": "code",
   "execution_count": 360,
   "id": "ee0e1569",
   "metadata": {},
   "outputs": [
    {
     "data": {
      "image/png": "[encoded data removed]",
      "text/plain": [
       "<Figure size 432x288 with 1 Axes>"
      ]
     },
     "metadata": {
      "needs_background": "light"
     },
     "output_type": "display_data"
    }
   ],
   "source": [
    "sns.distplot(data['Fare'])\n",
    "plt.show()"
   ]
  },
  {
   "cell_type": "markdown",
   "id": "04443b4f",
   "metadata": {},
   "source": [
    "Observation:\n",
    "- The fare data is right skewed."
   ]
  },
  {
   "cell_type": "code",
   "execution_count": 361,
   "id": "dcbbb14a",
   "metadata": {},
   "outputs": [
    {
     "name": "stdout",
     "output_type": "stream",
     "text": [
      "skewness for age data is  0.3974000790014584\n",
      "skewness for fare data is  4.561009669645996\n"
     ]
    }
   ],
   "source": [
    "#checking for skewness values\n",
    "print('skewness for age data is ',data['Age'].skew())\n",
    "print('skewness for fare data is ',data['Fare'].skew())"
   ]
  },
  {
   "cell_type": "markdown",
   "id": "78cbfebb",
   "metadata": {},
   "source": [
    "Observation: Since the skewness value for age is within 0.5 hence distribution is almost symmetrical. Hence we need not apply power transforming method that reduces skewness."
   ]
  },
  {
   "cell_type": "code",
   "execution_count": 362,
   "id": "3928ea44",
   "metadata": {},
   "outputs": [],
   "source": [
    "#using power transformer to remove skewness\n",
    "\n",
    "#importing libraries for power transformer and Standard Scaler\n",
    "from sklearn.preprocessing import StandardScaler,PowerTransformer\n",
    "\n",
    "features=['Fare']\n",
    "scaler=PowerTransformer(method='yeo-johnson')\n",
    "\n",
    "data[features]=scaler.fit_transform(data[features])\n"
   ]
  },
  {
   "cell_type": "code",
   "execution_count": 363,
   "id": "53aaf0f5",
   "metadata": {},
   "outputs": [
    {
     "name": "stdout",
     "output_type": "stream",
     "text": [
      "skewness for fare data after transforming is  -0.041013733506485385\n"
     ]
    }
   ],
   "source": [
    "print('skewness for fare data after transforming is ',data['Fare'].skew())"
   ]
  },
  {
   "cell_type": "markdown",
   "id": "eb646197",
   "metadata": {},
   "source": [
    "Observation:\n",
    "- It is seen that after applying power transformer method skewness reduced from 4.56 to -0.04."
   ]
  },
  {
   "cell_type": "code",
   "execution_count": 364,
   "id": "3f560ccb",
   "metadata": {},
   "outputs": [
    {
     "data": {
      "text/plain": [
       "(780, 8)"
      ]
     },
     "execution_count": 364,
     "metadata": {},
     "output_type": "execute_result"
    }
   ],
   "source": [
    "data.shape"
   ]
  },
  {
   "cell_type": "code",
   "execution_count": 365,
   "id": "7979db37",
   "metadata": {},
   "outputs": [],
   "source": [
    "#checking for outliers in 'Age' and 'Fare' data"
   ]
  },
  {
   "cell_type": "code",
   "execution_count": 366,
   "id": "0f868eb5",
   "metadata": {},
   "outputs": [
    {
     "data": {
      "image/png": "[encoded data removed]",
      "text/plain": [
       "<Figure size 432x288 with 1 Axes>"
      ]
     },
     "metadata": {
      "needs_background": "light"
     },
     "output_type": "display_data"
    }
   ],
   "source": [
    "sns.boxplot(data['Age'])\n",
    "plt.show()"
   ]
  },
  {
   "cell_type": "code",
   "execution_count": 367,
   "id": "f06bf45e",
   "metadata": {},
   "outputs": [
    {
     "data": {
      "image/png": "[encoded data removed]",
      "text/plain": [
       "<Figure size 432x288 with 1 Axes>"
      ]
     },
     "metadata": {
      "needs_background": "light"
     },
     "output_type": "display_data"
    }
   ],
   "source": [
    " sns.boxplot(data['Fare'])\n",
    "plt.show()"
   ]
  },
  {
   "cell_type": "markdown",
   "id": "46325b60",
   "metadata": {},
   "source": [
    "observation for both above plot:\n",
    "- seems like both columns i.e fare and age have outliers, hence outliers will be removed using z-score method.\n"
   ]
  },
  {
   "cell_type": "code",
   "execution_count": 368,
   "id": "bdeec964",
   "metadata": {},
   "outputs": [],
   "source": [
    "#importing library\n",
    "from scipy.stats import zscore\n",
    "\n",
    "z_score=zscore(data[['Age','Fare']])\n"
   ]
  },
  {
   "cell_type": "code",
   "execution_count": 369,
   "id": "b29cff49",
   "metadata": {},
   "outputs": [],
   "source": [
    "abs_z_score=np.abs(z_score)"
   ]
  },
  {
   "cell_type": "code",
   "execution_count": 370,
   "id": "e8a444ae",
   "metadata": {},
   "outputs": [],
   "source": [
    "filtering_entry=(abs_z_score<3).all(axis=1)"
   ]
  },
  {
   "cell_type": "code",
   "execution_count": 371,
   "id": "77dd8a91",
   "metadata": {},
   "outputs": [],
   "source": [
    "data=data[filtering_entry]"
   ]
  },
  {
   "cell_type": "code",
   "execution_count": 372,
   "id": "e1d31ae6",
   "metadata": {},
   "outputs": [
    {
     "data": {
      "text/plain": [
       "(767, 8)"
      ]
     },
     "execution_count": 372,
     "metadata": {},
     "output_type": "execute_result"
    }
   ],
   "source": [
    "#shape of dataset after removing outliers\n",
    "data.shape"
   ]
  },
  {
   "cell_type": "code",
   "execution_count": 373,
   "id": "418dd194",
   "metadata": {},
   "outputs": [
    {
     "data": {
      "image/png": "[encoded data removed]",
      "text/plain": [
       "<Figure size 432x288 with 1 Axes>"
      ]
     },
     "metadata": {
      "needs_background": "light"
     },
     "output_type": "display_data"
    }
   ],
   "source": [
    "#plots to show that datapoints that lying in std>3 are removed\n",
    "sns.boxplot(data['Fare'])\n",
    "plt.show()"
   ]
  },
  {
   "cell_type": "code",
   "execution_count": 374,
   "id": "dcfda9f0",
   "metadata": {
    "scrolled": true
   },
   "outputs": [
    {
     "data": {
      "image/png": "[encoded data removed]",
      "text/plain": [
       "<Figure size 432x288 with 1 Axes>"
      ]
     },
     "metadata": {
      "needs_background": "light"
     },
     "output_type": "display_data"
    }
   ],
   "source": [
    "sns.boxplot(data['Age'])\n",
    "plt.show()"
   ]
  },
  {
   "cell_type": "code",
   "execution_count": null,
   "id": "4be376dd",
   "metadata": {},
   "outputs": [],
   "source": [
    "#applying encoders to sex and embarked data."
   ]
  },
  {
   "cell_type": "code",
   "execution_count": 381,
   "id": "7d340c33",
   "metadata": {},
   "outputs": [],
   "source": [
    "#importing library for label encoder\n",
    "\n",
    "from sklearn.preprocessing import LabelEncoder\n",
    "\n",
    "label_enc=LabelEncoder()\n"
   ]
  },
  {
   "cell_type": "code",
   "execution_count": 382,
   "id": "a67e1d8c",
   "metadata": {},
   "outputs": [],
   "source": [
    "df1=label_enc.fit_transform(data['Sex'])\n",
    "df2=label_enc.fit_transform(data['Embarked'])"
   ]
  },
  {
   "cell_type": "code",
   "execution_count": 383,
   "id": "c73ec70b",
   "metadata": {},
   "outputs": [],
   "source": [
    "data['Sex']=df1\n",
    "data['Embarked']=df2"
   ]
  },
  {
   "cell_type": "code",
   "execution_count": 387,
   "id": "e35aef8b",
   "metadata": {},
   "outputs": [
    {
     "data": {
      "text/html": [
       "<div>\n",
       "<style scoped>\n",
       "    .dataframe tbody tr th:only-of-type {\n",
       "        vertical-align: middle;\n",
       "    }\n",
       "\n",
       "    .dataframe tbody tr th {\n",
       "        vertical-align: top;\n",
       "    }\n",
       "\n",
       "    .dataframe thead th {\n",
       "        text-align: right;\n",
       "    }\n",
       "</style>\n",
       "<table border=\"1\" class=\"dataframe\">\n",
       "  <thead>\n",
       "    <tr style=\"text-align: right;\">\n",
       "      <th></th>\n",
       "      <th>Survived</th>\n",
       "      <th>Pclass</th>\n",
       "      <th>Sex</th>\n",
       "      <th>Age</th>\n",
       "      <th>SibSp</th>\n",
       "      <th>Parch</th>\n",
       "      <th>Fare</th>\n",
       "      <th>Embarked</th>\n",
       "    </tr>\n",
       "  </thead>\n",
       "  <tbody>\n",
       "    <tr>\n",
       "      <th>0</th>\n",
       "      <td>0</td>\n",
       "      <td>3</td>\n",
       "      <td>1</td>\n",
       "      <td>22.0</td>\n",
       "      <td>1</td>\n",
       "      <td>0</td>\n",
       "      <td>-0.988913</td>\n",
       "      <td>2</td>\n",
       "    </tr>\n",
       "    <tr>\n",
       "      <th>1</th>\n",
       "      <td>1</td>\n",
       "      <td>1</td>\n",
       "      <td>0</td>\n",
       "      <td>38.0</td>\n",
       "      <td>1</td>\n",
       "      <td>0</td>\n",
       "      <td>1.266946</td>\n",
       "      <td>0</td>\n",
       "    </tr>\n",
       "    <tr>\n",
       "      <th>2</th>\n",
       "      <td>1</td>\n",
       "      <td>3</td>\n",
       "      <td>0</td>\n",
       "      <td>26.0</td>\n",
       "      <td>0</td>\n",
       "      <td>0</td>\n",
       "      <td>-0.896339</td>\n",
       "      <td>2</td>\n",
       "    </tr>\n",
       "    <tr>\n",
       "      <th>3</th>\n",
       "      <td>1</td>\n",
       "      <td>1</td>\n",
       "      <td>0</td>\n",
       "      <td>35.0</td>\n",
       "      <td>1</td>\n",
       "      <td>0</td>\n",
       "      <td>0.999125</td>\n",
       "      <td>2</td>\n",
       "    </tr>\n",
       "    <tr>\n",
       "      <th>4</th>\n",
       "      <td>0</td>\n",
       "      <td>3</td>\n",
       "      <td>1</td>\n",
       "      <td>35.0</td>\n",
       "      <td>0</td>\n",
       "      <td>0</td>\n",
       "      <td>-0.880059</td>\n",
       "      <td>2</td>\n",
       "    </tr>\n",
       "  </tbody>\n",
       "</table>\n",
       "</div>"
      ],
      "text/plain": [
       "   Survived  Pclass  Sex   Age  SibSp  Parch      Fare  Embarked\n",
       "0         0       3    1  22.0      1      0 -0.988913         2\n",
       "1         1       1    0  38.0      1      0  1.266946         0\n",
       "2         1       3    0  26.0      0      0 -0.896339         2\n",
       "3         1       1    0  35.0      1      0  0.999125         2\n",
       "4         0       3    1  35.0      0      0 -0.880059         2"
      ]
     },
     "execution_count": 387,
     "metadata": {},
     "output_type": "execute_result"
    }
   ],
   "source": [
    "#checking encoded data in male and embarked\n",
    "data.head()"
   ]
  },
  {
   "cell_type": "code",
   "execution_count": 388,
   "id": "eb7f38b2",
   "metadata": {},
   "outputs": [
    {
     "data": {
      "image/png": "[encoded data removed]",
      "text/plain": [
       "<Figure size 432x288 with 2 Axes>"
      ]
     },
     "metadata": {
      "needs_background": "light"
     },
     "output_type": "display_data"
    }
   ],
   "source": [
    "#plotting the correlation matrix\n",
    "\n",
    "corr=np.abs(data.corr())\n",
    "sns.heatmap(corr,annot=True)\n",
    "plt.title('Correlation matrix')\n",
    "plt.show()"
   ]
  },
  {
   "cell_type": "markdown",
   "id": "f49952da",
   "metadata": {},
   "source": [
    "Observations:\n",
    "- Pclass does have very good correlation with fare.Pclass also shows fair correlation with survived and passenger class.\n",
    "- Age,SibSp and Parch columns little to none correlation with Survival.\n",
    "- as shown in barplots, fare shows correlation with survived.\n",
    "- Sex is most correlated with survival and has fair coorelation with Parch and fare.\n"
   ]
  },
  {
   "cell_type": "code",
   "execution_count": 394,
   "id": "c96c5e1e",
   "metadata": {},
   "outputs": [
    {
     "data": {
      "image/png": "[encoded data removed]",
      "text/plain": [
       "<Figure size 432x288 with 1 Axes>"
      ]
     },
     "metadata": {
      "needs_background": "light"
     },
     "output_type": "display_data"
    }
   ],
   "source": [
    "#scatter plots to show correlation between features and label\n",
    "sns.scatterplot(x='Pclass',y='Fare',hue='Survived',datSur=data)\n",
    "plt.show()"
   ]
  },
  {
   "cell_type": "markdown",
   "id": "7241fe5c",
   "metadata": {},
   "source": [
    "observation:\n",
    "This plot shows that persons from 1st class survived more than persons from 3rd class. Mortality is more in 3rd class."
   ]
  },
  {
   "cell_type": "code",
   "execution_count": 407,
   "id": "5b611144",
   "metadata": {},
   "outputs": [
    {
     "data": {
      "image/png": "[encoded data removed]",
      "text/plain": [
       "<Figure size 432x288 with 1 Axes>"
      ]
     },
     "metadata": {
      "needs_background": "light"
     },
     "output_type": "display_data"
    }
   ],
   "source": [
    "sns.scatterplot(x='SibSp',y='Survived',hue='Sex',data=data)\n",
    "plt.show()"
   ]
  },
  {
   "cell_type": "markdown",
   "id": "ce5531cc",
   "metadata": {},
   "source": [
    "Value: sex: 1 for male and 0 for female\n",
    "       Survived: 1 for survived and 0 for dead\n",
    "Observation:\n",
    "- looking at the plot seems like wifes/sisters survived more then husbands/brothers.    "
   ]
  },
  {
   "cell_type": "markdown",
   "id": "a300409a",
   "metadata": {},
   "source": [
    "# since features are less, they will not be dropped. Hence moving forward with model evaluation."
   ]
  },
  {
   "cell_type": "code",
   "execution_count": 414,
   "id": "9acf7685",
   "metadata": {},
   "outputs": [],
   "source": [
    "#Standardizing data\n",
    "scaler=StandardScaler()"
   ]
  },
  {
   "cell_type": "code",
   "execution_count": 416,
   "id": "e98f6484",
   "metadata": {},
   "outputs": [],
   "source": [
    "#diving data into features and labels\n",
    "x=data.drop(['Survived'],axis=1)\n",
    "y=data['Survived']"
   ]
  },
  {
   "cell_type": "code",
   "execution_count": 417,
   "id": "bac04287",
   "metadata": {},
   "outputs": [
    {
     "name": "stdout",
     "output_type": "stream",
     "text": [
      "[[ 0.87828909  0.78405156 -0.56119679 ... -0.50401873 -1.12688671\n",
      "   0.58388616]\n",
      " [-1.47301189 -1.27542633  0.63306877 ... -0.50401873  1.33516094\n",
      "  -1.89037176]\n",
      " [ 0.87828909 -1.27542633 -0.2626304  ... -0.50401873 -1.02585202\n",
      "   0.58388616]\n",
      " ...\n",
      " [ 0.87828909 -1.27542633  0.01347765 ...  1.86765222  0.18674402\n",
      "   0.58388616]\n",
      " [-1.47301189  0.78405156 -0.2626304  ... -0.50401873  0.451334\n",
      "  -1.89037176]\n",
      " [ 0.87828909  0.78405156  0.18521918 ... -0.50401873 -1.05120185\n",
      "  -0.6532428 ]]\n"
     ]
    }
   ],
   "source": [
    "#standardizing features\n",
    "x_scaled=scaler.fit_transform(x)\n",
    "print(x_scaled)"
   ]
  },
  {
   "cell_type": "code",
   "execution_count": 424,
   "id": "e20ae9dd",
   "metadata": {},
   "outputs": [],
   "source": [
    "#Logistic Regression Model\n",
    "#importing libraries\n",
    "\n",
    "from sklearn.model_selection import train_test_split\n",
    "from sklearn.linear_model import LogisticRegression\n",
    "from sklearn.metrics import accuracy_score,confusion_matrix,classification_report"
   ]
  },
  {
   "cell_type": "code",
   "execution_count": 427,
   "id": "a5f9a5d7",
   "metadata": {},
   "outputs": [],
   "source": [
    "#assigning variable to model\n",
    "lr=LogisticRegression()"
   ]
  },
  {
   "cell_type": "code",
   "execution_count": 430,
   "id": "0a4a5faa",
   "metadata": {},
   "outputs": [
    {
     "name": "stdout",
     "output_type": "stream",
     "text": [
      "training accuracy is  78.26086956521739  for random state  0\n",
      "testing accuracy is  78.125  for random state  0\n",
      "training accuracy is  76.52173913043478  for random state  1\n",
      "testing accuracy is  82.8125  for random state  1\n",
      "training accuracy is  78.6086956521739  for random state  2\n",
      "testing accuracy is  76.04166666666666  for random state  2\n",
      "training accuracy is  77.56521739130436  for random state  3\n",
      "testing accuracy is  75.0  for random state  3\n",
      "training accuracy is  77.91304347826087  for random state  4\n",
      "testing accuracy is  79.6875  for random state  4\n",
      "training accuracy is  77.39130434782608  for random state  5\n",
      "testing accuracy is  81.25  for random state  5\n",
      "training accuracy is  78.78260869565217  for random state  6\n",
      "testing accuracy is  75.0  for random state  6\n",
      "training accuracy is  77.56521739130436  for random state  7\n",
      "testing accuracy is  81.25  for random state  7\n",
      "training accuracy is  78.95652173913044  for random state  8\n",
      "testing accuracy is  76.04166666666666  for random state  8\n",
      "training accuracy is  76.8695652173913  for random state  9\n",
      "testing accuracy is  80.20833333333334  for random state  9\n",
      "training accuracy is  78.08695652173913  for random state  10\n",
      "testing accuracy is  79.16666666666666  for random state  10\n",
      "training accuracy is  78.43478260869566  for random state  11\n",
      "testing accuracy is  77.60416666666666  for random state  11\n",
      "training accuracy is  78.6086956521739  for random state  12\n",
      "testing accuracy is  71.875  for random state  12\n",
      "training accuracy is  78.95652173913044  for random state  13\n",
      "testing accuracy is  77.08333333333334  for random state  13\n",
      "training accuracy is  77.91304347826087  for random state  14\n",
      "testing accuracy is  76.04166666666666  for random state  14\n",
      "training accuracy is  77.04347826086956  for random state  15\n",
      "testing accuracy is  80.72916666666666  for random state  15\n",
      "training accuracy is  78.43478260869566  for random state  16\n",
      "testing accuracy is  76.04166666666666  for random state  16\n",
      "training accuracy is  78.95652173913044  for random state  17\n",
      "testing accuracy is  75.0  for random state  17\n",
      "training accuracy is  77.04347826086956  for random state  18\n",
      "testing accuracy is  78.64583333333334  for random state  18\n",
      "training accuracy is  80.8695652173913  for random state  19\n",
      "testing accuracy is  70.3125  for random state  19\n",
      "training accuracy is  77.73913043478261  for random state  20\n",
      "testing accuracy is  75.0  for random state  20\n",
      "training accuracy is  77.56521739130436  for random state  21\n",
      "testing accuracy is  78.125  for random state  21\n",
      "training accuracy is  77.21739130434783  for random state  22\n",
      "testing accuracy is  76.04166666666666  for random state  22\n",
      "training accuracy is  78.43478260869566  for random state  23\n",
      "testing accuracy is  75.0  for random state  23\n",
      "training accuracy is  76.0  for random state  24\n",
      "testing accuracy is  80.20833333333334  for random state  24\n",
      "training accuracy is  76.0  for random state  25\n",
      "testing accuracy is  80.72916666666666  for random state  25\n",
      "training accuracy is  78.78260869565217  for random state  26\n",
      "testing accuracy is  74.47916666666666  for random state  26\n",
      "training accuracy is  77.21739130434783  for random state  27\n",
      "testing accuracy is  79.16666666666666  for random state  27\n",
      "training accuracy is  76.8695652173913  for random state  28\n",
      "testing accuracy is  77.60416666666666  for random state  28\n",
      "training accuracy is  77.56521739130436  for random state  29\n",
      "testing accuracy is  79.6875  for random state  29\n",
      "training accuracy is  78.95652173913044  for random state  30\n",
      "testing accuracy is  73.4375  for random state  30\n",
      "training accuracy is  77.73913043478261  for random state  31\n",
      "testing accuracy is  74.47916666666666  for random state  31\n",
      "training accuracy is  77.56521739130436  for random state  32\n",
      "testing accuracy is  77.08333333333334  for random state  32\n",
      "training accuracy is  78.43478260869566  for random state  33\n",
      "testing accuracy is  72.91666666666666  for random state  33\n",
      "training accuracy is  78.08695652173913  for random state  34\n",
      "testing accuracy is  76.5625  for random state  34\n",
      "training accuracy is  78.26086956521739  for random state  35\n",
      "testing accuracy is  76.04166666666666  for random state  35\n",
      "training accuracy is  76.52173913043478  for random state  36\n",
      "testing accuracy is  81.25  for random state  36\n",
      "training accuracy is  78.78260869565217  for random state  37\n",
      "testing accuracy is  72.91666666666666  for random state  37\n",
      "training accuracy is  76.69565217391305  for random state  38\n",
      "testing accuracy is  80.72916666666666  for random state  38\n",
      "training accuracy is  78.78260869565217  for random state  39\n",
      "testing accuracy is  75.52083333333334  for random state  39\n",
      "training accuracy is  77.91304347826087  for random state  40\n",
      "testing accuracy is  77.60416666666666  for random state  40\n",
      "training accuracy is  77.91304347826087  for random state  41\n",
      "testing accuracy is  75.0  for random state  41\n",
      "training accuracy is  77.73913043478261  for random state  42\n",
      "testing accuracy is  80.72916666666666  for random state  42\n",
      "training accuracy is  79.30434782608695  for random state  43\n",
      "testing accuracy is  74.47916666666666  for random state  43\n",
      "training accuracy is  78.95652173913044  for random state  44\n",
      "testing accuracy is  73.4375  for random state  44\n",
      "training accuracy is  78.6086956521739  for random state  45\n",
      "testing accuracy is  75.52083333333334  for random state  45\n",
      "training accuracy is  78.26086956521739  for random state  46\n",
      "testing accuracy is  77.08333333333334  for random state  46\n",
      "training accuracy is  75.65217391304347  for random state  47\n",
      "testing accuracy is  82.8125  for random state  47\n",
      "training accuracy is  77.56521739130436  for random state  48\n",
      "testing accuracy is  79.16666666666666  for random state  48\n",
      "training accuracy is  78.26086956521739  for random state  49\n",
      "testing accuracy is  75.0  for random state  49\n",
      "training accuracy is  76.69565217391305  for random state  50\n",
      "testing accuracy is  79.6875  for random state  50\n",
      "training accuracy is  77.73913043478261  for random state  51\n",
      "testing accuracy is  78.125  for random state  51\n",
      "training accuracy is  78.43478260869566  for random state  52\n",
      "testing accuracy is  76.04166666666666  for random state  52\n",
      "training accuracy is  78.26086956521739  for random state  53\n",
      "testing accuracy is  75.0  for random state  53\n",
      "training accuracy is  78.08695652173913  for random state  54\n",
      "testing accuracy is  77.08333333333334  for random state  54\n",
      "training accuracy is  79.47826086956522  for random state  55\n",
      "testing accuracy is  73.95833333333334  for random state  55\n",
      "training accuracy is  78.26086956521739  for random state  56\n",
      "testing accuracy is  77.08333333333334  for random state  56\n",
      "training accuracy is  77.91304347826087  for random state  57\n",
      "testing accuracy is  79.16666666666666  for random state  57\n",
      "training accuracy is  79.30434782608695  for random state  58\n",
      "testing accuracy is  73.4375  for random state  58\n",
      "training accuracy is  77.39130434782608  for random state  59\n",
      "testing accuracy is  78.125  for random state  59\n",
      "training accuracy is  78.78260869565217  for random state  60\n",
      "testing accuracy is  77.60416666666666  for random state  60\n",
      "training accuracy is  77.39130434782608  for random state  61\n",
      "testing accuracy is  79.16666666666666  for random state  61\n",
      "training accuracy is  77.91304347826087  for random state  62\n",
      "testing accuracy is  73.95833333333334  for random state  62\n",
      "training accuracy is  77.91304347826087  for random state  63\n",
      "testing accuracy is  77.08333333333334  for random state  63\n",
      "training accuracy is  77.21739130434783  for random state  64\n",
      "testing accuracy is  77.60416666666666  for random state  64\n",
      "training accuracy is  76.8695652173913  for random state  65\n",
      "testing accuracy is  80.20833333333334  for random state  65\n",
      "training accuracy is  77.04347826086956  for random state  66\n",
      "testing accuracy is  82.29166666666666  for random state  66\n",
      "training accuracy is  77.39130434782608  for random state  67\n",
      "testing accuracy is  79.16666666666666  for random state  67\n",
      "training accuracy is  78.08695652173913  for random state  68\n",
      "testing accuracy is  76.5625  for random state  68\n",
      "training accuracy is  78.26086956521739  for random state  69\n",
      "testing accuracy is  78.125  for random state  69\n",
      "training accuracy is  78.08695652173913  for random state  70\n",
      "testing accuracy is  78.64583333333334  for random state  70\n",
      "training accuracy is  77.21739130434783  for random state  71\n",
      "testing accuracy is  79.6875  for random state  71\n",
      "training accuracy is  79.65217391304348  for random state  72\n",
      "testing accuracy is  74.47916666666666  for random state  72\n",
      "training accuracy is  79.30434782608695  for random state  73\n",
      "testing accuracy is  73.4375  for random state  73\n",
      "training accuracy is  78.08695652173913  for random state  74\n",
      "testing accuracy is  74.47916666666666  for random state  74\n",
      "training accuracy is  80.69565217391305  for random state  75\n",
      "testing accuracy is  71.35416666666666  for random state  75\n",
      "training accuracy is  76.0  for random state  76\n",
      "testing accuracy is  82.29166666666666  for random state  76\n",
      "training accuracy is  76.8695652173913  for random state  77\n",
      "testing accuracy is  78.125  for random state  77\n",
      "training accuracy is  78.26086956521739  for random state  78\n",
      "testing accuracy is  75.0  for random state  78\n",
      "training accuracy is  78.78260869565217  for random state  79\n",
      "testing accuracy is  77.08333333333334  for random state  79\n",
      "training accuracy is  78.78260869565217  for random state  80\n",
      "testing accuracy is  73.95833333333334  for random state  80\n",
      "training accuracy is  77.21739130434783  for random state  81\n",
      "testing accuracy is  80.72916666666666  for random state  81\n",
      "training accuracy is  77.04347826086956  for random state  82\n",
      "testing accuracy is  80.20833333333334  for random state  82\n",
      "training accuracy is  77.73913043478261  for random state  83\n",
      "testing accuracy is  77.08333333333334  for random state  83\n",
      "training accuracy is  78.26086956521739  for random state  84\n",
      "testing accuracy is  73.4375  for random state  84\n",
      "training accuracy is  79.47826086956522  for random state  85\n",
      "testing accuracy is  73.95833333333334  for random state  85\n",
      "training accuracy is  78.78260869565217  for random state  86\n",
      "testing accuracy is  76.5625  for random state  86\n",
      "training accuracy is  79.47826086956522  for random state  87\n",
      "testing accuracy is  70.83333333333334  for random state  87\n",
      "training accuracy is  81.73913043478261  for random state  88\n",
      "testing accuracy is  69.27083333333334  for random state  88\n",
      "training accuracy is  76.8695652173913  for random state  89\n",
      "testing accuracy is  80.20833333333334  for random state  89\n",
      "training accuracy is  76.69565217391305  for random state  90\n",
      "testing accuracy is  78.125  for random state  90\n",
      "training accuracy is  78.6086956521739  for random state  91\n",
      "testing accuracy is  78.125  for random state  91\n",
      "training accuracy is  78.26086956521739  for random state  92\n",
      "testing accuracy is  76.04166666666666  for random state  92\n",
      "training accuracy is  78.43478260869566  for random state  93\n",
      "testing accuracy is  77.08333333333334  for random state  93\n",
      "training accuracy is  76.8695652173913  for random state  94\n",
      "testing accuracy is  83.85416666666666  for random state  94\n",
      "training accuracy is  78.26086956521739  for random state  95\n",
      "testing accuracy is  75.0  for random state  95\n",
      "training accuracy is  76.8695652173913  for random state  96\n",
      "testing accuracy is  81.77083333333334  for random state  96\n",
      "training accuracy is  81.56521739130434  for random state  97\n",
      "testing accuracy is  68.22916666666666  for random state  97\n",
      "training accuracy is  78.6086956521739  for random state  98\n",
      "testing accuracy is  75.0  for random state  98\n",
      "training accuracy is  76.69565217391305  for random state  99\n",
      "testing accuracy is  78.125  for random state  99\n"
     ]
    }
   ],
   "source": [
    "#finding best random state for model\n",
    "for i in range(0,100):\n",
    "    x_train,x_test,y_train,y_test=train_test_split(x_scaled,y,test_size=0.25,random_state=i)\n",
    "    lr.fit(x_train,y_train)\n",
    "    y_pred=lr.predict(x_train)\n",
    "    pred=lr.predict(x_test)\n",
    "    print('training accuracy is ',(accuracy_score(y_train,y_pred)*100),' for random state ',i)\n",
    "    print('testing accuracy is ',(accuracy_score(y_test,pred)*100),' for random state ',i)"
   ]
  },
  {
   "cell_type": "code",
   "execution_count": 464,
   "id": "76b06d5f",
   "metadata": {},
   "outputs": [],
   "source": [
    "#initiating train test split thereafter model training\n",
    "x_train,x_test,y_train,y_test=train_test_split(x_scaled,y,test_size=0.25,random_state=0)\n",
    "\n",
    "def metric_score(clf,x_train,x_test,y_train,y_test,train=True):\n",
    "    if train:\n",
    "        y_pred=clf.predict(x_train)\n",
    "        print('-----Training score-----')\n",
    "        print(f'Accuracy score:{accuracy_score(y_train,y_pred)*100:.2f}%')\n",
    "    elif train==False:\n",
    "        pred=clf.predict(x_test)\n",
    "        print('-----Testing score-----')\n",
    "        print(f'Accuracy score:{accuracy_score(y_test,pred)*100:.2f}%')\n",
    "        print('classification report \\n',classification_report (y_test,pred))\n",
    "        print('confusion matrix ',confusion_matrix(y_test,pred))"
   ]
  },
  {
   "cell_type": "code",
   "execution_count": 465,
   "id": "0ee4f51a",
   "metadata": {},
   "outputs": [
    {
     "data": {
      "text/html": [
       "<style>#sk-container-id-6 {color: black;background-color: white;}#sk-container-id-6 pre{padding: 0;}#sk-container-id-6 div.sk-toggleable {background-color: white;}#sk-container-id-6 label.sk-toggleable__label {cursor: pointer;display: block;width: 100%;margin-bottom: 0;padding: 0.3em;box-sizing: border-box;text-align: center;}#sk-container-id-6 label.sk-toggleable__label-arrow:before {content: \"▸\";float: left;margin-right: 0.25em;color: #696969;}#sk-container-id-6 label.sk-toggleable__label-arrow:hover:before {color: black;}#sk-container-id-6 div.sk-estimator:hover label.sk-toggleable__label-arrow:before {color: black;}#sk-container-id-6 div.sk-toggleable__content {max-height: 0;max-width: 0;overflow: hidden;text-align: left;background-color: #f0f8ff;}#sk-container-id-6 div.sk-toggleable__content pre {margin: 0.2em;color: black;border-radius: 0.25em;background-color: #f0f8ff;}#sk-container-id-6 input.sk-toggleable__control:checked~div.sk-toggleable__content {max-height: 200px;max-width: 100%;overflow: auto;}#sk-container-id-6 input.sk-toggleable__control:checked~label.sk-toggleable__label-arrow:before {content: \"▾\";}#sk-container-id-6 div.sk-estimator input.sk-toggleable__control:checked~label.sk-toggleable__label {background-color: #d4ebff;}#sk-container-id-6 div.sk-label input.sk-toggleable__control:checked~label.sk-toggleable__label {background-color: #d4ebff;}#sk-container-id-6 input.sk-hidden--visually {border: 0;clip: rect(1px 1px 1px 1px);clip: rect(1px, 1px, 1px, 1px);height: 1px;margin: -1px;overflow: hidden;padding: 0;position: absolute;width: 1px;}#sk-container-id-6 div.sk-estimator {font-family: monospace;background-color: #f0f8ff;border: 1px dotted black;border-radius: 0.25em;box-sizing: border-box;margin-bottom: 0.5em;}#sk-container-id-6 div.sk-estimator:hover {background-color: #d4ebff;}#sk-container-id-6 div.sk-parallel-item::after {content: \"\";width: 100%;border-bottom: 1px solid gray;flex-grow: 1;}#sk-container-id-6 div.sk-label:hover label.sk-toggleable__label {background-color: #d4ebff;}#sk-container-id-6 div.sk-serial::before {content: \"\";position: absolute;border-left: 1px solid gray;box-sizing: border-box;top: 0;bottom: 0;left: 50%;z-index: 0;}#sk-container-id-6 div.sk-serial {display: flex;flex-direction: column;align-items: center;background-color: white;padding-right: 0.2em;padding-left: 0.2em;position: relative;}#sk-container-id-6 div.sk-item {position: relative;z-index: 1;}#sk-container-id-6 div.sk-parallel {display: flex;align-items: stretch;justify-content: center;background-color: white;position: relative;}#sk-container-id-6 div.sk-item::before, #sk-container-id-6 div.sk-parallel-item::before {content: \"\";position: absolute;border-left: 1px solid gray;box-sizing: border-box;top: 0;bottom: 0;left: 50%;z-index: -1;}#sk-container-id-6 div.sk-parallel-item {display: flex;flex-direction: column;z-index: 1;position: relative;background-color: white;}#sk-container-id-6 div.sk-parallel-item:first-child::after {align-self: flex-end;width: 50%;}#sk-container-id-6 div.sk-parallel-item:last-child::after {align-self: flex-start;width: 50%;}#sk-container-id-6 div.sk-parallel-item:only-child::after {width: 0;}#sk-container-id-6 div.sk-dashed-wrapped {border: 1px dashed gray;margin: 0 0.4em 0.5em 0.4em;box-sizing: border-box;padding-bottom: 0.4em;background-color: white;}#sk-container-id-6 div.sk-label label {font-family: monospace;font-weight: bold;display: inline-block;line-height: 1.2em;}#sk-container-id-6 div.sk-label-container {text-align: center;}#sk-container-id-6 div.sk-container {/* jupyter's `normalize.less` sets `[hidden] { display: none; }` but bootstrap.min.css set `[hidden] { display: none !important; }` so we also need the `!important` here to be able to override the default hidden behavior on the sphinx rendered scikit-learn.org. See: https://github.com/scikit-learn/scikit-learn/issues/21755 */display: inline-block !important;position: relative;}#sk-container-id-6 div.sk-text-repr-fallback {display: none;}</style><div id=\"sk-container-id-6\" class=\"sk-top-container\"><div class=\"sk-text-repr-fallback\"><pre>LogisticRegression()</pre><b>In a Jupyter environment, please rerun this cell to show the HTML representation or trust the notebook. <br />On GitHub, the HTML representation is unable to render, please try loading this page with nbviewer.org.</b></div><div class=\"sk-container\" hidden><div class=\"sk-item\"><div class=\"sk-estimator sk-toggleable\"><input class=\"sk-toggleable__control sk-hidden--visually\" id=\"sk-estimator-id-6\" type=\"checkbox\" checked><label for=\"sk-estimator-id-6\" class=\"sk-toggleable__label sk-toggleable__label-arrow\">LogisticRegression</label><div class=\"sk-toggleable__content\"><pre>LogisticRegression()</pre></div></div></div></div></div>"
      ],
      "text/plain": [
       "LogisticRegression()"
      ]
     },
     "execution_count": 465,
     "metadata": {},
     "output_type": "execute_result"
    }
   ],
   "source": [
    "#training the model\n",
    "lr.fit(x_train,y_train)"
   ]
  },
  {
   "cell_type": "code",
   "execution_count": 469,
   "id": "b1d7d714",
   "metadata": {},
   "outputs": [
    {
     "name": "stdout",
     "output_type": "stream",
     "text": [
      "-----Training score-----\n",
      "Accuracy score:78.26%\n",
      "-----Testing score-----\n",
      "Accuracy score:78.12%\n",
      "classification report \n",
      "               precision    recall  f1-score   support\n",
      "\n",
      "           0       0.76      0.85      0.81       102\n",
      "           1       0.81      0.70      0.75        90\n",
      "\n",
      "    accuracy                           0.78       192\n",
      "   macro avg       0.79      0.78      0.78       192\n",
      "weighted avg       0.78      0.78      0.78       192\n",
      "\n",
      "confusion matrix  [[87 15]\n",
      " [27 63]]\n"
     ]
    }
   ],
   "source": [
    "#passing the function\n",
    "metric_score(lr,x_train,x_test,y_train,y_test,train=True) # this is for training score\n",
    "\n",
    "metric_score(lr,x_train,x_test,y_train,y_test,train=False) # this is for testing score"
   ]
  },
  {
   "cell_type": "code",
   "execution_count": 470,
   "id": "2ba53398",
   "metadata": {},
   "outputs": [],
   "source": [
    "# using cross validation score to check if model is overfitted\n",
    "\n",
    "#uploading cross validation library\n",
    "from sklearn.model_selection import cross_val_score"
   ]
  },
  {
   "cell_type": "code",
   "execution_count": 471,
   "id": "a446e4d4",
   "metadata": {},
   "outputs": [
    {
     "name": "stdout",
     "output_type": "stream",
     "text": [
      "At cv:- 2\n",
      "cross validation score:-  76.53088283289817\n",
      "At cv:- 3\n",
      "cross validation score:-  76.53339460784314\n",
      "At cv:- 4\n",
      "cross validation score:-  76.92926483420592\n",
      "At cv:- 5\n",
      "cross validation score:-  76.92386045327223\n",
      "At cv:- 6\n",
      "cross validation score:-  76.53584317585302\n",
      "At cv:- 7\n",
      "cross validation score:-  76.79137376385083\n",
      "At cv:- 8\n",
      "cross validation score:-  77.05866228070175\n",
      "At cv:- 9\n",
      "cross validation score:-  76.66058671530628\n",
      "At cv:- 10\n",
      "cross validation score:-  77.06254272043746\n",
      "At cv:- 11\n",
      "cross validation score:-  77.06380575945792\n"
     ]
    }
   ],
   "source": [
    "#finding best value for cv in provided range\n",
    "for i in range(2,12):\n",
    "    cv_score=cross_val_score(lr,x_scaled,y,cv=i)\n",
    "    cv=cv_score.mean()\n",
    "    print('At cv:-',i)\n",
    "    print('cross validation score:- ',cv*100)"
   ]
  },
  {
   "cell_type": "code",
   "execution_count": 472,
   "id": "b78b223c",
   "metadata": {},
   "outputs": [
    {
     "name": "stdout",
     "output_type": "stream",
     "text": [
      "Cross Validation Score for Logistic regression model :-  77.06380575945792\n"
     ]
    }
   ],
   "source": [
    "#cross validation score\n",
    "print('Cross Validation Score for Logistic regression model :- ',((cross_val_score(lr,x_scaled,y,cv=11).mean())*100))"
   ]
  },
  {
   "cell_type": "markdown",
   "id": "c9a8f6cd",
   "metadata": {},
   "source": [
    "# Random Forests"
   ]
  },
  {
   "cell_type": "code",
   "execution_count": 473,
   "id": "4ff7d126",
   "metadata": {},
   "outputs": [],
   "source": [
    "from sklearn.ensemble import RandomForestClassifier\n",
    "rf=RandomForestClassifier()"
   ]
  },
  {
   "cell_type": "code",
   "execution_count": 476,
   "id": "9e1287eb",
   "metadata": {},
   "outputs": [
    {
     "data": {
      "text/html": [
       "<style>#sk-container-id-8 {color: black;background-color: white;}#sk-container-id-8 pre{padding: 0;}#sk-container-id-8 div.sk-toggleable {background-color: white;}#sk-container-id-8 label.sk-toggleable__label {cursor: pointer;display: block;width: 100%;margin-bottom: 0;padding: 0.3em;box-sizing: border-box;text-align: center;}#sk-container-id-8 label.sk-toggleable__label-arrow:before {content: \"▸\";float: left;margin-right: 0.25em;color: #696969;}#sk-container-id-8 label.sk-toggleable__label-arrow:hover:before {color: black;}#sk-container-id-8 div.sk-estimator:hover label.sk-toggleable__label-arrow:before {color: black;}#sk-container-id-8 div.sk-toggleable__content {max-height: 0;max-width: 0;overflow: hidden;text-align: left;background-color: #f0f8ff;}#sk-container-id-8 div.sk-toggleable__content pre {margin: 0.2em;color: black;border-radius: 0.25em;background-color: #f0f8ff;}#sk-container-id-8 input.sk-toggleable__control:checked~div.sk-toggleable__content {max-height: 200px;max-width: 100%;overflow: auto;}#sk-container-id-8 input.sk-toggleable__control:checked~label.sk-toggleable__label-arrow:before {content: \"▾\";}#sk-container-id-8 div.sk-estimator input.sk-toggleable__control:checked~label.sk-toggleable__label {background-color: #d4ebff;}#sk-container-id-8 div.sk-label input.sk-toggleable__control:checked~label.sk-toggleable__label {background-color: #d4ebff;}#sk-container-id-8 input.sk-hidden--visually {border: 0;clip: rect(1px 1px 1px 1px);clip: rect(1px, 1px, 1px, 1px);height: 1px;margin: -1px;overflow: hidden;padding: 0;position: absolute;width: 1px;}#sk-container-id-8 div.sk-estimator {font-family: monospace;background-color: #f0f8ff;border: 1px dotted black;border-radius: 0.25em;box-sizing: border-box;margin-bottom: 0.5em;}#sk-container-id-8 div.sk-estimator:hover {background-color: #d4ebff;}#sk-container-id-8 div.sk-parallel-item::after {content: \"\";width: 100%;border-bottom: 1px solid gray;flex-grow: 1;}#sk-container-id-8 div.sk-label:hover label.sk-toggleable__label {background-color: #d4ebff;}#sk-container-id-8 div.sk-serial::before {content: \"\";position: absolute;border-left: 1px solid gray;box-sizing: border-box;top: 0;bottom: 0;left: 50%;z-index: 0;}#sk-container-id-8 div.sk-serial {display: flex;flex-direction: column;align-items: center;background-color: white;padding-right: 0.2em;padding-left: 0.2em;position: relative;}#sk-container-id-8 div.sk-item {position: relative;z-index: 1;}#sk-container-id-8 div.sk-parallel {display: flex;align-items: stretch;justify-content: center;background-color: white;position: relative;}#sk-container-id-8 div.sk-item::before, #sk-container-id-8 div.sk-parallel-item::before {content: \"\";position: absolute;border-left: 1px solid gray;box-sizing: border-box;top: 0;bottom: 0;left: 50%;z-index: -1;}#sk-container-id-8 div.sk-parallel-item {display: flex;flex-direction: column;z-index: 1;position: relative;background-color: white;}#sk-container-id-8 div.sk-parallel-item:first-child::after {align-self: flex-end;width: 50%;}#sk-container-id-8 div.sk-parallel-item:last-child::after {align-self: flex-start;width: 50%;}#sk-container-id-8 div.sk-parallel-item:only-child::after {width: 0;}#sk-container-id-8 div.sk-dashed-wrapped {border: 1px dashed gray;margin: 0 0.4em 0.5em 0.4em;box-sizing: border-box;padding-bottom: 0.4em;background-color: white;}#sk-container-id-8 div.sk-label label {font-family: monospace;font-weight: bold;display: inline-block;line-height: 1.2em;}#sk-container-id-8 div.sk-label-container {text-align: center;}#sk-container-id-8 div.sk-container {/* jupyter's `normalize.less` sets `[hidden] { display: none; }` but bootstrap.min.css set `[hidden] { display: none !important; }` so we also need the `!important` here to be able to override the default hidden behavior on the sphinx rendered scikit-learn.org. See: https://github.com/scikit-learn/scikit-learn/issues/21755 */display: inline-block !important;position: relative;}#sk-container-id-8 div.sk-text-repr-fallback {display: none;}</style><div id=\"sk-container-id-8\" class=\"sk-top-container\"><div class=\"sk-text-repr-fallback\"><pre>RandomForestClassifier()</pre><b>In a Jupyter environment, please rerun this cell to show the HTML representation or trust the notebook. <br />On GitHub, the HTML representation is unable to render, please try loading this page with nbviewer.org.</b></div><div class=\"sk-container\" hidden><div class=\"sk-item\"><div class=\"sk-estimator sk-toggleable\"><input class=\"sk-toggleable__control sk-hidden--visually\" id=\"sk-estimator-id-8\" type=\"checkbox\" checked><label for=\"sk-estimator-id-8\" class=\"sk-toggleable__label sk-toggleable__label-arrow\">RandomForestClassifier</label><div class=\"sk-toggleable__content\"><pre>RandomForestClassifier()</pre></div></div></div></div></div>"
      ],
      "text/plain": [
       "RandomForestClassifier()"
      ]
     },
     "execution_count": 476,
     "metadata": {},
     "output_type": "execute_result"
    }
   ],
   "source": [
    "rf.fit(x_train,y_train)"
   ]
  },
  {
   "cell_type": "code",
   "execution_count": 477,
   "id": "5f3b61fb",
   "metadata": {},
   "outputs": [
    {
     "name": "stdout",
     "output_type": "stream",
     "text": [
      "training accuracy is  98.60869565217392  for random state  0\n",
      "testing accuracy is  73.95833333333334  for random state  0\n",
      "training accuracy is  98.08695652173913  for random state  1\n",
      "testing accuracy is  75.52083333333334  for random state  1\n",
      "training accuracy is  97.91304347826087  for random state  2\n",
      "testing accuracy is  80.20833333333334  for random state  2\n",
      "training accuracy is  98.08695652173913  for random state  3\n",
      "testing accuracy is  72.39583333333334  for random state  3\n",
      "training accuracy is  97.91304347826087  for random state  4\n",
      "testing accuracy is  76.04166666666666  for random state  4\n",
      "training accuracy is  98.26086956521739  for random state  5\n",
      "testing accuracy is  80.72916666666666  for random state  5\n",
      "training accuracy is  98.60869565217392  for random state  6\n",
      "testing accuracy is  78.125  for random state  6\n",
      "training accuracy is  98.43478260869564  for random state  7\n",
      "testing accuracy is  77.60416666666666  for random state  7\n",
      "training accuracy is  98.43478260869564  for random state  8\n",
      "testing accuracy is  69.27083333333334  for random state  8\n",
      "training accuracy is  98.26086956521739  for random state  9\n",
      "testing accuracy is  75.52083333333334  for random state  9\n",
      "training accuracy is  98.60869565217392  for random state  10\n",
      "testing accuracy is  77.08333333333334  for random state  10\n",
      "training accuracy is  98.26086956521739  for random state  11\n",
      "testing accuracy is  75.52083333333334  for random state  11\n",
      "training accuracy is  97.73913043478261  for random state  12\n",
      "testing accuracy is  73.95833333333334  for random state  12\n",
      "training accuracy is  98.43478260869564  for random state  13\n",
      "testing accuracy is  73.4375  for random state  13\n",
      "training accuracy is  98.43478260869564  for random state  14\n",
      "testing accuracy is  76.5625  for random state  14\n",
      "training accuracy is  98.08695652173913  for random state  15\n",
      "testing accuracy is  80.72916666666666  for random state  15\n",
      "training accuracy is  98.60869565217392  for random state  16\n",
      "testing accuracy is  78.125  for random state  16\n",
      "training accuracy is  98.78260869565217  for random state  17\n",
      "testing accuracy is  75.0  for random state  17\n",
      "training accuracy is  98.60869565217392  for random state  18\n",
      "testing accuracy is  80.72916666666666  for random state  18\n",
      "training accuracy is  98.95652173913044  for random state  19\n",
      "testing accuracy is  71.35416666666666  for random state  19\n",
      "training accuracy is  98.78260869565217  for random state  20\n",
      "testing accuracy is  78.125  for random state  20\n",
      "training accuracy is  98.08695652173913  for random state  21\n",
      "testing accuracy is  73.95833333333334  for random state  21\n",
      "training accuracy is  97.91304347826087  for random state  22\n",
      "testing accuracy is  78.64583333333334  for random state  22\n",
      "training accuracy is  98.95652173913044  for random state  23\n",
      "testing accuracy is  71.875  for random state  23\n",
      "training accuracy is  99.1304347826087  for random state  24\n",
      "testing accuracy is  80.72916666666666  for random state  24\n",
      "training accuracy is  98.78260869565217  for random state  25\n",
      "testing accuracy is  80.20833333333334  for random state  25\n",
      "training accuracy is  98.43478260869564  for random state  26\n",
      "testing accuracy is  77.60416666666666  for random state  26\n",
      "training accuracy is  98.43478260869564  for random state  27\n",
      "testing accuracy is  78.64583333333334  for random state  27\n",
      "training accuracy is  98.60869565217392  for random state  28\n",
      "testing accuracy is  76.5625  for random state  28\n",
      "training accuracy is  98.60869565217392  for random state  29\n",
      "testing accuracy is  76.5625  for random state  29\n",
      "training accuracy is  98.95652173913044  for random state  30\n",
      "testing accuracy is  75.0  for random state  30\n",
      "training accuracy is  98.60869565217392  for random state  31\n",
      "testing accuracy is  74.47916666666666  for random state  31\n",
      "training accuracy is  98.60869565217392  for random state  32\n",
      "testing accuracy is  75.0  for random state  32\n",
      "training accuracy is  98.60869565217392  for random state  33\n",
      "testing accuracy is  72.91666666666666  for random state  33\n",
      "training accuracy is  98.08695652173913  for random state  34\n",
      "testing accuracy is  78.125  for random state  34\n",
      "training accuracy is  98.26086956521739  for random state  35\n",
      "testing accuracy is  81.77083333333334  for random state  35\n",
      "training accuracy is  98.26086956521739  for random state  36\n",
      "testing accuracy is  76.5625  for random state  36\n",
      "training accuracy is  98.43478260869564  for random state  37\n",
      "testing accuracy is  73.4375  for random state  37\n",
      "training accuracy is  97.73913043478261  for random state  38\n",
      "testing accuracy is  80.72916666666666  for random state  38\n",
      "training accuracy is  98.95652173913044  for random state  39\n",
      "testing accuracy is  75.0  for random state  39\n",
      "training accuracy is  98.60869565217392  for random state  40\n",
      "testing accuracy is  76.5625  for random state  40\n",
      "training accuracy is  98.60869565217392  for random state  41\n",
      "testing accuracy is  77.60416666666666  for random state  41\n",
      "training accuracy is  98.26086956521739  for random state  42\n",
      "testing accuracy is  75.0  for random state  42\n",
      "training accuracy is  98.95652173913044  for random state  43\n",
      "testing accuracy is  72.91666666666666  for random state  43\n",
      "training accuracy is  98.60869565217392  for random state  44\n",
      "testing accuracy is  73.4375  for random state  44\n",
      "training accuracy is  98.26086956521739  for random state  45\n",
      "testing accuracy is  76.5625  for random state  45\n",
      "training accuracy is  98.08695652173913  for random state  46\n",
      "testing accuracy is  79.16666666666666  for random state  46\n",
      "training accuracy is  97.91304347826087  for random state  47\n",
      "testing accuracy is  80.20833333333334  for random state  47\n",
      "training accuracy is  98.43478260869564  for random state  48\n",
      "testing accuracy is  79.16666666666666  for random state  48\n",
      "training accuracy is  98.60869565217392  for random state  49\n",
      "testing accuracy is  70.3125  for random state  49\n",
      "training accuracy is  98.26086956521739  for random state  50\n",
      "testing accuracy is  79.16666666666666  for random state  50\n",
      "training accuracy is  98.78260869565217  for random state  51\n",
      "testing accuracy is  73.95833333333334  for random state  51\n",
      "training accuracy is  98.95652173913044  for random state  52\n",
      "testing accuracy is  69.27083333333334  for random state  52\n",
      "training accuracy is  98.43478260869564  for random state  53\n",
      "testing accuracy is  79.16666666666666  for random state  53\n",
      "training accuracy is  98.26086956521739  for random state  54\n",
      "testing accuracy is  77.60416666666666  for random state  54\n",
      "training accuracy is  98.78260869565217  for random state  55\n",
      "testing accuracy is  69.79166666666666  for random state  55\n",
      "training accuracy is  98.08695652173913  for random state  56\n",
      "testing accuracy is  76.04166666666666  for random state  56\n",
      "training accuracy is  98.08695652173913  for random state  57\n",
      "testing accuracy is  74.47916666666666  for random state  57\n",
      "training accuracy is  98.95652173913044  for random state  58\n",
      "testing accuracy is  75.52083333333334  for random state  58\n",
      "training accuracy is  98.60869565217392  for random state  59\n",
      "testing accuracy is  80.72916666666666  for random state  59\n",
      "training accuracy is  98.26086956521739  for random state  60\n",
      "testing accuracy is  79.16666666666666  for random state  60\n",
      "training accuracy is  98.78260869565217  for random state  61\n",
      "testing accuracy is  79.6875  for random state  61\n",
      "training accuracy is  98.60869565217392  for random state  62\n",
      "testing accuracy is  78.64583333333334  for random state  62\n",
      "training accuracy is  98.43478260869564  for random state  63\n",
      "testing accuracy is  79.6875  for random state  63\n",
      "training accuracy is  99.1304347826087  for random state  64\n",
      "testing accuracy is  75.52083333333334  for random state  64\n",
      "training accuracy is  99.1304347826087  for random state  65\n",
      "testing accuracy is  73.4375  for random state  65\n",
      "training accuracy is  98.26086956521739  for random state  66\n",
      "testing accuracy is  78.64583333333334  for random state  66\n",
      "training accuracy is  98.43478260869564  for random state  67\n",
      "testing accuracy is  76.04166666666666  for random state  67\n",
      "training accuracy is  98.26086956521739  for random state  68\n",
      "testing accuracy is  75.0  for random state  68\n",
      "training accuracy is  98.26086956521739  for random state  69\n",
      "testing accuracy is  78.125  for random state  69\n",
      "training accuracy is  98.26086956521739  for random state  70\n",
      "testing accuracy is  74.47916666666666  for random state  70\n",
      "training accuracy is  98.95652173913044  for random state  71\n",
      "testing accuracy is  74.47916666666666  for random state  71\n",
      "training accuracy is  98.08695652173913  for random state  72\n",
      "testing accuracy is  75.52083333333334  for random state  72\n",
      "training accuracy is  98.26086956521739  for random state  73\n",
      "testing accuracy is  77.60416666666666  for random state  73\n",
      "training accuracy is  98.26086956521739  for random state  74\n",
      "testing accuracy is  72.91666666666666  for random state  74\n",
      "training accuracy is  98.78260869565217  for random state  75\n",
      "testing accuracy is  72.91666666666666  for random state  75\n",
      "training accuracy is  98.08695652173913  for random state  76\n",
      "testing accuracy is  82.8125  for random state  76\n",
      "training accuracy is  98.60869565217392  for random state  77\n",
      "testing accuracy is  77.60416666666666  for random state  77\n",
      "training accuracy is  99.1304347826087  for random state  78\n",
      "testing accuracy is  71.35416666666666  for random state  78\n",
      "training accuracy is  98.08695652173913  for random state  79\n",
      "testing accuracy is  80.72916666666666  for random state  79\n",
      "training accuracy is  99.1304347826087  for random state  80\n",
      "testing accuracy is  77.08333333333334  for random state  80\n",
      "training accuracy is  98.60869565217392  for random state  81\n",
      "testing accuracy is  74.47916666666666  for random state  81\n",
      "training accuracy is  98.60869565217392  for random state  82\n",
      "testing accuracy is  75.0  for random state  82\n",
      "training accuracy is  98.26086956521739  for random state  83\n",
      "testing accuracy is  77.08333333333334  for random state  83\n",
      "training accuracy is  98.43478260869564  for random state  84\n",
      "testing accuracy is  75.52083333333334  for random state  84\n",
      "training accuracy is  98.60869565217392  for random state  85\n",
      "testing accuracy is  74.47916666666666  for random state  85\n",
      "training accuracy is  98.26086956521739  for random state  86\n",
      "testing accuracy is  76.04166666666666  for random state  86\n",
      "training accuracy is  98.26086956521739  for random state  87\n",
      "testing accuracy is  77.60416666666666  for random state  87\n",
      "training accuracy is  99.30434782608695  for random state  88\n",
      "testing accuracy is  71.35416666666666  for random state  88\n",
      "training accuracy is  98.43478260869564  for random state  89\n",
      "testing accuracy is  79.6875  for random state  89\n",
      "training accuracy is  98.78260869565217  for random state  90\n",
      "testing accuracy is  76.04166666666666  for random state  90\n",
      "training accuracy is  99.1304347826087  for random state  91\n",
      "testing accuracy is  70.83333333333334  for random state  91\n",
      "training accuracy is  98.43478260869564  for random state  92\n",
      "testing accuracy is  77.08333333333334  for random state  92\n",
      "training accuracy is  98.08695652173913  for random state  93\n",
      "testing accuracy is  79.16666666666666  for random state  93\n",
      "training accuracy is  98.26086956521739  for random state  94\n",
      "testing accuracy is  77.60416666666666  for random state  94\n",
      "training accuracy is  98.08695652173913  for random state  95\n",
      "testing accuracy is  74.47916666666666  for random state  95\n",
      "training accuracy is  98.60869565217392  for random state  96\n",
      "testing accuracy is  81.77083333333334  for random state  96\n",
      "training accuracy is  98.26086956521739  for random state  97\n",
      "testing accuracy is  70.83333333333334  for random state  97\n",
      "training accuracy is  98.78260869565217  for random state  98\n",
      "testing accuracy is  78.125  for random state  98\n",
      "training accuracy is  98.43478260869564  for random state  99\n",
      "testing accuracy is  78.125  for random state  99\n"
     ]
    }
   ],
   "source": [
    "#finding best random state for random forests model\n",
    "for i in range(0,100):\n",
    "    x_train,x_test,y_train,y_test=train_test_split(x_scaled,y,test_size=0.25,random_state=i)\n",
    "    rf.fit(x_train,y_train)\n",
    "    y_pred=rf.predict(x_train)\n",
    "    pred=rf.predict(x_test)\n",
    "    print('training accuracy is ',(accuracy_score(y_train,y_pred)*100),' for random state ',i)\n",
    "    print('testing accuracy is ',(accuracy_score(y_test,pred)*100),' for random state ',i)"
   ]
  },
  {
   "cell_type": "code",
   "execution_count": 481,
   "id": "c955fa72",
   "metadata": {},
   "outputs": [
    {
     "data": {
      "text/html": [
       "<style>#sk-container-id-9 {color: black;background-color: white;}#sk-container-id-9 pre{padding: 0;}#sk-container-id-9 div.sk-toggleable {background-color: white;}#sk-container-id-9 label.sk-toggleable__label {cursor: pointer;display: block;width: 100%;margin-bottom: 0;padding: 0.3em;box-sizing: border-box;text-align: center;}#sk-container-id-9 label.sk-toggleable__label-arrow:before {content: \"▸\";float: left;margin-right: 0.25em;color: #696969;}#sk-container-id-9 label.sk-toggleable__label-arrow:hover:before {color: black;}#sk-container-id-9 div.sk-estimator:hover label.sk-toggleable__label-arrow:before {color: black;}#sk-container-id-9 div.sk-toggleable__content {max-height: 0;max-width: 0;overflow: hidden;text-align: left;background-color: #f0f8ff;}#sk-container-id-9 div.sk-toggleable__content pre {margin: 0.2em;color: black;border-radius: 0.25em;background-color: #f0f8ff;}#sk-container-id-9 input.sk-toggleable__control:checked~div.sk-toggleable__content {max-height: 200px;max-width: 100%;overflow: auto;}#sk-container-id-9 input.sk-toggleable__control:checked~label.sk-toggleable__label-arrow:before {content: \"▾\";}#sk-container-id-9 div.sk-estimator input.sk-toggleable__control:checked~label.sk-toggleable__label {background-color: #d4ebff;}#sk-container-id-9 div.sk-label input.sk-toggleable__control:checked~label.sk-toggleable__label {background-color: #d4ebff;}#sk-container-id-9 input.sk-hidden--visually {border: 0;clip: rect(1px 1px 1px 1px);clip: rect(1px, 1px, 1px, 1px);height: 1px;margin: -1px;overflow: hidden;padding: 0;position: absolute;width: 1px;}#sk-container-id-9 div.sk-estimator {font-family: monospace;background-color: #f0f8ff;border: 1px dotted black;border-radius: 0.25em;box-sizing: border-box;margin-bottom: 0.5em;}#sk-container-id-9 div.sk-estimator:hover {background-color: #d4ebff;}#sk-container-id-9 div.sk-parallel-item::after {content: \"\";width: 100%;border-bottom: 1px solid gray;flex-grow: 1;}#sk-container-id-9 div.sk-label:hover label.sk-toggleable__label {background-color: #d4ebff;}#sk-container-id-9 div.sk-serial::before {content: \"\";position: absolute;border-left: 1px solid gray;box-sizing: border-box;top: 0;bottom: 0;left: 50%;z-index: 0;}#sk-container-id-9 div.sk-serial {display: flex;flex-direction: column;align-items: center;background-color: white;padding-right: 0.2em;padding-left: 0.2em;position: relative;}#sk-container-id-9 div.sk-item {position: relative;z-index: 1;}#sk-container-id-9 div.sk-parallel {display: flex;align-items: stretch;justify-content: center;background-color: white;position: relative;}#sk-container-id-9 div.sk-item::before, #sk-container-id-9 div.sk-parallel-item::before {content: \"\";position: absolute;border-left: 1px solid gray;box-sizing: border-box;top: 0;bottom: 0;left: 50%;z-index: -1;}#sk-container-id-9 div.sk-parallel-item {display: flex;flex-direction: column;z-index: 1;position: relative;background-color: white;}#sk-container-id-9 div.sk-parallel-item:first-child::after {align-self: flex-end;width: 50%;}#sk-container-id-9 div.sk-parallel-item:last-child::after {align-self: flex-start;width: 50%;}#sk-container-id-9 div.sk-parallel-item:only-child::after {width: 0;}#sk-container-id-9 div.sk-dashed-wrapped {border: 1px dashed gray;margin: 0 0.4em 0.5em 0.4em;box-sizing: border-box;padding-bottom: 0.4em;background-color: white;}#sk-container-id-9 div.sk-label label {font-family: monospace;font-weight: bold;display: inline-block;line-height: 1.2em;}#sk-container-id-9 div.sk-label-container {text-align: center;}#sk-container-id-9 div.sk-container {/* jupyter's `normalize.less` sets `[hidden] { display: none; }` but bootstrap.min.css set `[hidden] { display: none !important; }` so we also need the `!important` here to be able to override the default hidden behavior on the sphinx rendered scikit-learn.org. See: https://github.com/scikit-learn/scikit-learn/issues/21755 */display: inline-block !important;position: relative;}#sk-container-id-9 div.sk-text-repr-fallback {display: none;}</style><div id=\"sk-container-id-9\" class=\"sk-top-container\"><div class=\"sk-text-repr-fallback\"><pre>RandomForestClassifier()</pre><b>In a Jupyter environment, please rerun this cell to show the HTML representation or trust the notebook. <br />On GitHub, the HTML representation is unable to render, please try loading this page with nbviewer.org.</b></div><div class=\"sk-container\" hidden><div class=\"sk-item\"><div class=\"sk-estimator sk-toggleable\"><input class=\"sk-toggleable__control sk-hidden--visually\" id=\"sk-estimator-id-9\" type=\"checkbox\" checked><label for=\"sk-estimator-id-9\" class=\"sk-toggleable__label sk-toggleable__label-arrow\">RandomForestClassifier</label><div class=\"sk-toggleable__content\"><pre>RandomForestClassifier()</pre></div></div></div></div></div>"
      ],
      "text/plain": [
       "RandomForestClassifier()"
      ]
     },
     "execution_count": 481,
     "metadata": {},
     "output_type": "execute_result"
    }
   ],
   "source": [
    "rf.fit(x_train,y_train)"
   ]
  },
  {
   "cell_type": "code",
   "execution_count": 487,
   "id": "14a5ef26",
   "metadata": {},
   "outputs": [],
   "source": [
    "#initiating train test split thereafter model training\n",
    "x_train,x_test,y_train,y_test=train_test_split(x_scaled,y,test_size=0.25,random_state=35)"
   ]
  },
  {
   "cell_type": "code",
   "execution_count": 488,
   "id": "2c3c122c",
   "metadata": {},
   "outputs": [
    {
     "name": "stdout",
     "output_type": "stream",
     "text": [
      "-----Training score-----\n",
      "Accuracy score:98.26%\n",
      "-----Testing score-----\n",
      "Accuracy score:80.21%\n",
      "classification report \n",
      "               precision    recall  f1-score   support\n",
      "\n",
      "           0       0.82      0.86      0.84       115\n",
      "           1       0.77      0.71      0.74        77\n",
      "\n",
      "    accuracy                           0.80       192\n",
      "   macro avg       0.80      0.79      0.79       192\n",
      "weighted avg       0.80      0.80      0.80       192\n",
      "\n",
      "confusion matrix  [[99 16]\n",
      " [22 55]]\n"
     ]
    }
   ],
   "source": [
    "#passing the function\n",
    "metric_score(rf,x_train,x_test,y_train,y_test,train=True) # this is for training score\n",
    "\n",
    "metric_score(rf,x_train,x_test,y_train,y_test,train=False) # this is for testing score"
   ]
  },
  {
   "cell_type": "code",
   "execution_count": 491,
   "id": "ca2ebd11",
   "metadata": {},
   "outputs": [
    {
     "name": "stdout",
     "output_type": "stream",
     "text": [
      "At cv:- 2\n",
      "cross validation score:-  75.09791122715404\n",
      "At cv:- 3\n",
      "cross validation score:-  76.0125612745098\n",
      "At cv:- 4\n",
      "cross validation score:-  76.79496618673647\n",
      "At cv:- 5\n",
      "cross validation score:-  77.0622188269247\n",
      "At cv:- 6\n",
      "cross validation score:-  77.58058562992126\n",
      "At cv:- 7\n",
      "cross validation score:-  76.5352079113547\n",
      "At cv:- 8\n",
      "cross validation score:-  76.40899122807016\n",
      "At cv:- 9\n",
      "cross validation score:-  76.02523179814563\n",
      "At cv:- 10\n",
      "cross validation score:-  76.53793574846206\n",
      "At cv:- 11\n",
      "cross validation score:-  77.44776962168267\n",
      "At cv:- 12\n",
      "cross validation score:-  75.36789021164022\n",
      "At cv:- 13\n",
      "cross validation score:-  76.79269882659713\n",
      "At cv:- 14\n",
      "cross validation score:-  77.59018759018758\n",
      "At cv:- 15\n",
      "cross validation score:-  77.0739064856712\n",
      "At cv:- 16\n",
      "cross validation score:-  76.67054521276594\n",
      "At cv:- 17\n",
      "cross validation score:-  77.20375106564364\n",
      "At cv:- 18\n",
      "cross validation score:-  77.19023009720685\n",
      "At cv:- 19\n",
      "cross validation score:-  77.73106546854942\n",
      "At cv:- 20\n",
      "cross validation score:-  77.99595141700404\n",
      "At cv:- 21\n",
      "cross validation score:-  77.20577720577721\n",
      "At cv:- 22\n",
      "cross validation score:-  77.46371275783041\n",
      "At cv:- 23\n",
      "cross validation score:-  76.57521506626367\n",
      "At cv:- 24\n",
      "cross validation score:-  76.94052419354838\n",
      "At cv:- 25\n",
      "cross validation score:-  77.20860215053764\n",
      "At cv:- 26\n",
      "cross validation score:-  76.94076038903626\n",
      "At cv:- 27\n",
      "cross validation score:-  77.50410509031198\n",
      "At cv:- 28\n",
      "cross validation score:-  77.22033257747542\n",
      "At cv:- 29\n",
      "cross validation score:-  77.36025149818254\n"
     ]
    }
   ],
   "source": [
    "#finding best value for cv in provided range\n",
    "for i in range(2,30):\n",
    "    cv_score=cross_val_score(rf,x_scaled,y,cv=i)\n",
    "    cv=cv_score.mean()\n",
    "    print('At cv:-',i)\n",
    "    print('cross validation score:- ',cv*100)"
   ]
  },
  {
   "cell_type": "code",
   "execution_count": 493,
   "id": "b4a7edf9",
   "metadata": {},
   "outputs": [
    {
     "name": "stdout",
     "output_type": "stream",
     "text": [
      "Cross Validation Score for Random Forests model :-  77.73954116059379\n"
     ]
    }
   ],
   "source": [
    "#cross validation score\n",
    "print('Cross Validation Score for Random Forests model :- ',((cross_val_score(rf,x_scaled,y,cv=20).mean())*100))"
   ]
  },
  {
   "cell_type": "markdown",
   "id": "4eca50b5",
   "metadata": {},
   "source": [
    "# Gradient Boosting Classifier"
   ]
  },
  {
   "cell_type": "code",
   "execution_count": 499,
   "id": "d0d8feb5",
   "metadata": {},
   "outputs": [],
   "source": [
    "from sklearn.ensemble import GradientBoostingClassifier"
   ]
  },
  {
   "cell_type": "code",
   "execution_count": 500,
   "id": "1771dedc",
   "metadata": {},
   "outputs": [],
   "source": [
    "#saving model in variable\n",
    "gbdt=GradientBoostingClassifier()"
   ]
  },
  {
   "cell_type": "code",
   "execution_count": 501,
   "id": "88197637",
   "metadata": {},
   "outputs": [
    {
     "data": {
      "text/html": [
       "<style>#sk-container-id-10 {color: black;background-color: white;}#sk-container-id-10 pre{padding: 0;}#sk-container-id-10 div.sk-toggleable {background-color: white;}#sk-container-id-10 label.sk-toggleable__label {cursor: pointer;display: block;width: 100%;margin-bottom: 0;padding: 0.3em;box-sizing: border-box;text-align: center;}#sk-container-id-10 label.sk-toggleable__label-arrow:before {content: \"▸\";float: left;margin-right: 0.25em;color: #696969;}#sk-container-id-10 label.sk-toggleable__label-arrow:hover:before {color: black;}#sk-container-id-10 div.sk-estimator:hover label.sk-toggleable__label-arrow:before {color: black;}#sk-container-id-10 div.sk-toggleable__content {max-height: 0;max-width: 0;overflow: hidden;text-align: left;background-color: #f0f8ff;}#sk-container-id-10 div.sk-toggleable__content pre {margin: 0.2em;color: black;border-radius: 0.25em;background-color: #f0f8ff;}#sk-container-id-10 input.sk-toggleable__control:checked~div.sk-toggleable__content {max-height: 200px;max-width: 100%;overflow: auto;}#sk-container-id-10 input.sk-toggleable__control:checked~label.sk-toggleable__label-arrow:before {content: \"▾\";}#sk-container-id-10 div.sk-estimator input.sk-toggleable__control:checked~label.sk-toggleable__label {background-color: #d4ebff;}#sk-container-id-10 div.sk-label input.sk-toggleable__control:checked~label.sk-toggleable__label {background-color: #d4ebff;}#sk-container-id-10 input.sk-hidden--visually {border: 0;clip: rect(1px 1px 1px 1px);clip: rect(1px, 1px, 1px, 1px);height: 1px;margin: -1px;overflow: hidden;padding: 0;position: absolute;width: 1px;}#sk-container-id-10 div.sk-estimator {font-family: monospace;background-color: #f0f8ff;border: 1px dotted black;border-radius: 0.25em;box-sizing: border-box;margin-bottom: 0.5em;}#sk-container-id-10 div.sk-estimator:hover {background-color: #d4ebff;}#sk-container-id-10 div.sk-parallel-item::after {content: \"\";width: 100%;border-bottom: 1px solid gray;flex-grow: 1;}#sk-container-id-10 div.sk-label:hover label.sk-toggleable__label {background-color: #d4ebff;}#sk-container-id-10 div.sk-serial::before {content: \"\";position: absolute;border-left: 1px solid gray;box-sizing: border-box;top: 0;bottom: 0;left: 50%;z-index: 0;}#sk-container-id-10 div.sk-serial {display: flex;flex-direction: column;align-items: center;background-color: white;padding-right: 0.2em;padding-left: 0.2em;position: relative;}#sk-container-id-10 div.sk-item {position: relative;z-index: 1;}#sk-container-id-10 div.sk-parallel {display: flex;align-items: stretch;justify-content: center;background-color: white;position: relative;}#sk-container-id-10 div.sk-item::before, #sk-container-id-10 div.sk-parallel-item::before {content: \"\";position: absolute;border-left: 1px solid gray;box-sizing: border-box;top: 0;bottom: 0;left: 50%;z-index: -1;}#sk-container-id-10 div.sk-parallel-item {display: flex;flex-direction: column;z-index: 1;position: relative;background-color: white;}#sk-container-id-10 div.sk-parallel-item:first-child::after {align-self: flex-end;width: 50%;}#sk-container-id-10 div.sk-parallel-item:last-child::after {align-self: flex-start;width: 50%;}#sk-container-id-10 div.sk-parallel-item:only-child::after {width: 0;}#sk-container-id-10 div.sk-dashed-wrapped {border: 1px dashed gray;margin: 0 0.4em 0.5em 0.4em;box-sizing: border-box;padding-bottom: 0.4em;background-color: white;}#sk-container-id-10 div.sk-label label {font-family: monospace;font-weight: bold;display: inline-block;line-height: 1.2em;}#sk-container-id-10 div.sk-label-container {text-align: center;}#sk-container-id-10 div.sk-container {/* jupyter's `normalize.less` sets `[hidden] { display: none; }` but bootstrap.min.css set `[hidden] { display: none !important; }` so we also need the `!important` here to be able to override the default hidden behavior on the sphinx rendered scikit-learn.org. See: https://github.com/scikit-learn/scikit-learn/issues/21755 */display: inline-block !important;position: relative;}#sk-container-id-10 div.sk-text-repr-fallback {display: none;}</style><div id=\"sk-container-id-10\" class=\"sk-top-container\"><div class=\"sk-text-repr-fallback\"><pre>GradientBoostingClassifier()</pre><b>In a Jupyter environment, please rerun this cell to show the HTML representation or trust the notebook. <br />On GitHub, the HTML representation is unable to render, please try loading this page with nbviewer.org.</b></div><div class=\"sk-container\" hidden><div class=\"sk-item\"><div class=\"sk-estimator sk-toggleable\"><input class=\"sk-toggleable__control sk-hidden--visually\" id=\"sk-estimator-id-10\" type=\"checkbox\" checked><label for=\"sk-estimator-id-10\" class=\"sk-toggleable__label sk-toggleable__label-arrow\">GradientBoostingClassifier</label><div class=\"sk-toggleable__content\"><pre>GradientBoostingClassifier()</pre></div></div></div></div></div>"
      ],
      "text/plain": [
       "GradientBoostingClassifier()"
      ]
     },
     "execution_count": 501,
     "metadata": {},
     "output_type": "execute_result"
    }
   ],
   "source": [
    "#training model\n",
    "gbdt.fit(x_train,y_train)"
   ]
  },
  {
   "cell_type": "code",
   "execution_count": 502,
   "id": "6f55446c",
   "metadata": {},
   "outputs": [
    {
     "name": "stdout",
     "output_type": "stream",
     "text": [
      "training accuracy is  89.73913043478261  for random state  0\n",
      "testing accuracy is  80.20833333333334  for random state  0\n",
      "training accuracy is  88.8695652173913  for random state  1\n",
      "testing accuracy is  82.8125  for random state  1\n",
      "training accuracy is  90.26086956521739  for random state  2\n",
      "testing accuracy is  81.25  for random state  2\n",
      "training accuracy is  89.91304347826087  for random state  3\n",
      "testing accuracy is  81.25  for random state  3\n",
      "training accuracy is  89.04347826086956  for random state  4\n",
      "testing accuracy is  78.64583333333334  for random state  4\n",
      "training accuracy is  88.17391304347825  for random state  5\n",
      "testing accuracy is  82.8125  for random state  5\n",
      "training accuracy is  90.08695652173913  for random state  6\n",
      "testing accuracy is  79.6875  for random state  6\n",
      "training accuracy is  89.04347826086956  for random state  7\n",
      "testing accuracy is  85.41666666666666  for random state  7\n",
      "training accuracy is  89.21739130434783  for random state  8\n",
      "testing accuracy is  75.0  for random state  8\n",
      "training accuracy is  89.73913043478261  for random state  9\n",
      "testing accuracy is  79.16666666666666  for random state  9\n",
      "training accuracy is  91.47826086956522  for random state  10\n",
      "testing accuracy is  80.72916666666666  for random state  10\n",
      "training accuracy is  88.8695652173913  for random state  11\n",
      "testing accuracy is  76.04166666666666  for random state  11\n",
      "training accuracy is  90.6086956521739  for random state  12\n",
      "testing accuracy is  78.125  for random state  12\n",
      "training accuracy is  89.91304347826087  for random state  13\n",
      "testing accuracy is  81.77083333333334  for random state  13\n",
      "training accuracy is  90.78260869565217  for random state  14\n",
      "testing accuracy is  80.20833333333334  for random state  14\n",
      "training accuracy is  89.56521739130436  for random state  15\n",
      "testing accuracy is  83.33333333333334  for random state  15\n",
      "training accuracy is  88.69565217391305  for random state  16\n",
      "testing accuracy is  79.6875  for random state  16\n",
      "training accuracy is  91.13043478260869  for random state  17\n",
      "testing accuracy is  77.60416666666666  for random state  17\n",
      "training accuracy is  90.26086956521739  for random state  18\n",
      "testing accuracy is  82.8125  for random state  18\n",
      "training accuracy is  90.43478260869566  for random state  19\n",
      "testing accuracy is  72.39583333333334  for random state  19\n",
      "training accuracy is  90.6086956521739  for random state  20\n",
      "testing accuracy is  78.125  for random state  20\n",
      "training accuracy is  89.39130434782608  for random state  21\n",
      "testing accuracy is  79.16666666666666  for random state  21\n",
      "training accuracy is  90.08695652173913  for random state  22\n",
      "testing accuracy is  80.20833333333334  for random state  22\n",
      "training accuracy is  91.30434782608695  for random state  23\n",
      "testing accuracy is  82.29166666666666  for random state  23\n",
      "training accuracy is  90.95652173913044  for random state  24\n",
      "testing accuracy is  81.25  for random state  24\n",
      "training accuracy is  88.52173913043478  for random state  25\n",
      "testing accuracy is  81.25  for random state  25\n",
      "training accuracy is  89.73913043478261  for random state  26\n",
      "testing accuracy is  79.16666666666666  for random state  26\n",
      "training accuracy is  90.08695652173913  for random state  27\n",
      "testing accuracy is  80.20833333333334  for random state  27\n",
      "training accuracy is  90.95652173913044  for random state  28\n",
      "testing accuracy is  80.20833333333334  for random state  28\n",
      "training accuracy is  90.95652173913044  for random state  29\n",
      "testing accuracy is  79.6875  for random state  29\n",
      "training accuracy is  90.78260869565217  for random state  30\n",
      "testing accuracy is  75.52083333333334  for random state  30\n",
      "training accuracy is  91.13043478260869  for random state  31\n",
      "testing accuracy is  78.125  for random state  31\n",
      "training accuracy is  92.34782608695652  for random state  32\n",
      "testing accuracy is  77.60416666666666  for random state  32\n",
      "training accuracy is  89.73913043478261  for random state  33\n",
      "testing accuracy is  77.08333333333334  for random state  33\n",
      "training accuracy is  89.73913043478261  for random state  34\n",
      "testing accuracy is  80.72916666666666  for random state  34\n",
      "training accuracy is  90.95652173913044  for random state  35\n",
      "testing accuracy is  80.20833333333334  for random state  35\n",
      "training accuracy is  88.34782608695653  for random state  36\n",
      "testing accuracy is  79.16666666666666  for random state  36\n",
      "training accuracy is  90.95652173913044  for random state  37\n",
      "testing accuracy is  73.95833333333334  for random state  37\n",
      "training accuracy is  89.21739130434783  for random state  38\n",
      "testing accuracy is  80.72916666666666  for random state  38\n",
      "training accuracy is  90.78260869565217  for random state  39\n",
      "testing accuracy is  80.20833333333334  for random state  39\n",
      "training accuracy is  90.26086956521739  for random state  40\n",
      "testing accuracy is  81.25  for random state  40\n",
      "training accuracy is  90.95652173913044  for random state  41\n",
      "testing accuracy is  78.64583333333334  for random state  41\n",
      "training accuracy is  91.13043478260869  for random state  42\n",
      "testing accuracy is  76.5625  for random state  42\n",
      "training accuracy is  90.95652173913044  for random state  43\n",
      "testing accuracy is  78.125  for random state  43\n",
      "training accuracy is  90.26086956521739  for random state  44\n",
      "testing accuracy is  77.08333333333334  for random state  44\n",
      "training accuracy is  89.91304347826087  for random state  45\n",
      "testing accuracy is  79.16666666666666  for random state  45\n",
      "training accuracy is  89.56521739130436  for random state  46\n",
      "testing accuracy is  77.60416666666666  for random state  46\n",
      "training accuracy is  89.39130434782608  for random state  47\n",
      "testing accuracy is  83.33333333333334  for random state  47\n",
      "training accuracy is  89.56521739130436  for random state  48\n",
      "testing accuracy is  81.25  for random state  48\n",
      "training accuracy is  90.6086956521739  for random state  49\n",
      "testing accuracy is  78.64583333333334  for random state  49\n",
      "training accuracy is  89.73913043478261  for random state  50\n",
      "testing accuracy is  80.72916666666666  for random state  50\n",
      "training accuracy is  87.82608695652175  for random state  51\n",
      "testing accuracy is  80.72916666666666  for random state  51\n",
      "training accuracy is  91.82608695652173  for random state  52\n",
      "testing accuracy is  75.0  for random state  52\n",
      "training accuracy is  90.43478260869566  for random state  53\n",
      "testing accuracy is  80.20833333333334  for random state  53\n",
      "training accuracy is  90.08695652173913  for random state  54\n",
      "testing accuracy is  79.6875  for random state  54\n",
      "training accuracy is  90.26086956521739  for random state  55\n",
      "testing accuracy is  71.35416666666666  for random state  55\n",
      "training accuracy is  90.95652173913044  for random state  56\n",
      "testing accuracy is  78.125  for random state  56\n",
      "training accuracy is  90.43478260869566  for random state  57\n",
      "testing accuracy is  76.5625  for random state  57\n",
      "training accuracy is  90.95652173913044  for random state  58\n",
      "testing accuracy is  76.5625  for random state  58\n",
      "training accuracy is  89.39130434782608  for random state  59\n",
      "testing accuracy is  81.77083333333334  for random state  59\n",
      "training accuracy is  89.04347826086956  for random state  60\n",
      "testing accuracy is  80.72916666666666  for random state  60\n",
      "training accuracy is  89.56521739130436  for random state  61\n",
      "testing accuracy is  84.89583333333334  for random state  61\n",
      "training accuracy is  90.08695652173913  for random state  62\n",
      "testing accuracy is  81.25  for random state  62\n",
      "training accuracy is  89.04347826086956  for random state  63\n",
      "testing accuracy is  85.41666666666666  for random state  63\n",
      "training accuracy is  91.30434782608695  for random state  64\n",
      "testing accuracy is  81.25  for random state  64\n",
      "training accuracy is  90.43478260869566  for random state  65\n",
      "testing accuracy is  82.8125  for random state  65\n",
      "training accuracy is  88.8695652173913  for random state  66\n",
      "testing accuracy is  82.29166666666666  for random state  66\n",
      "training accuracy is  88.69565217391305  for random state  67\n",
      "testing accuracy is  82.29166666666666  for random state  67\n",
      "training accuracy is  89.39130434782608  for random state  68\n",
      "testing accuracy is  78.125  for random state  68\n",
      "training accuracy is  88.69565217391305  for random state  69\n",
      "testing accuracy is  82.29166666666666  for random state  69\n",
      "training accuracy is  89.04347826086956  for random state  70\n",
      "testing accuracy is  80.20833333333334  for random state  70\n",
      "training accuracy is  90.95652173913044  for random state  71\n",
      "testing accuracy is  79.16666666666666  for random state  71\n",
      "training accuracy is  91.47826086956522  for random state  72\n",
      "testing accuracy is  78.125  for random state  72\n",
      "training accuracy is  89.21739130434783  for random state  73\n",
      "testing accuracy is  80.20833333333334  for random state  73\n",
      "training accuracy is  89.56521739130436  for random state  74\n",
      "testing accuracy is  80.20833333333334  for random state  74\n",
      "training accuracy is  90.78260869565217  for random state  75\n",
      "testing accuracy is  76.04166666666666  for random state  75\n",
      "training accuracy is  89.21739130434783  for random state  76\n",
      "testing accuracy is  86.45833333333334  for random state  76\n",
      "training accuracy is  89.21739130434783  for random state  77\n",
      "testing accuracy is  82.8125  for random state  77\n",
      "training accuracy is  90.95652173913044  for random state  78\n",
      "testing accuracy is  76.04166666666666  for random state  78\n",
      "training accuracy is  91.30434782608695  for random state  79\n",
      "testing accuracy is  81.25  for random state  79\n",
      "training accuracy is  89.21739130434783  for random state  80\n",
      "testing accuracy is  78.125  for random state  80\n",
      "training accuracy is  90.43478260869566  for random state  81\n",
      "testing accuracy is  75.0  for random state  81\n",
      "training accuracy is  89.73913043478261  for random state  82\n",
      "testing accuracy is  79.6875  for random state  82\n",
      "training accuracy is  88.8695652173913  for random state  83\n",
      "testing accuracy is  80.20833333333334  for random state  83\n",
      "training accuracy is  90.08695652173913  for random state  84\n",
      "testing accuracy is  79.16666666666666  for random state  84\n",
      "training accuracy is  91.13043478260869  for random state  85\n",
      "testing accuracy is  75.52083333333334  for random state  85\n",
      "training accuracy is  89.04347826086956  for random state  86\n",
      "testing accuracy is  80.72916666666666  for random state  86\n",
      "training accuracy is  89.73913043478261  for random state  87\n",
      "testing accuracy is  75.52083333333334  for random state  87\n",
      "training accuracy is  93.3913043478261  for random state  88\n",
      "testing accuracy is  73.4375  for random state  88\n",
      "training accuracy is  89.39130434782608  for random state  89\n",
      "testing accuracy is  85.41666666666666  for random state  89\n",
      "training accuracy is  89.21739130434783  for random state  90\n",
      "testing accuracy is  81.77083333333334  for random state  90\n",
      "training accuracy is  90.95652173913044  for random state  91\n",
      "testing accuracy is  78.125  for random state  91\n",
      "training accuracy is  88.8695652173913  for random state  92\n",
      "testing accuracy is  78.125  for random state  92\n",
      "training accuracy is  90.6086956521739  for random state  93\n",
      "testing accuracy is  80.20833333333334  for random state  93\n",
      "training accuracy is  89.73913043478261  for random state  94\n",
      "testing accuracy is  82.8125  for random state  94\n",
      "training accuracy is  89.73913043478261  for random state  95\n",
      "testing accuracy is  77.08333333333334  for random state  95\n",
      "training accuracy is  89.21739130434783  for random state  96\n",
      "testing accuracy is  83.33333333333334  for random state  96\n",
      "training accuracy is  91.13043478260869  for random state  97\n",
      "testing accuracy is  72.91666666666666  for random state  97\n",
      "training accuracy is  89.21739130434783  for random state  98\n",
      "testing accuracy is  81.77083333333334  for random state  98\n",
      "training accuracy is  90.6086956521739  for random state  99\n",
      "testing accuracy is  80.20833333333334  for random state  99\n"
     ]
    }
   ],
   "source": [
    "#finding best random state for Gradient boosted tees model\n",
    "for i in range(0,100):\n",
    "    x_train,x_test,y_train,y_test=train_test_split(x_scaled,y,test_size=0.25,random_state=i)\n",
    "    gbdt.fit(x_train,y_train)\n",
    "    y_pred=gbdt.predict(x_train)\n",
    "    pred=gbdt.predict(x_test)\n",
    "    print('training accuracy is ',(accuracy_score(y_train,y_pred)*100),' for random state ',i)\n",
    "    print('testing accuracy is ',(accuracy_score(y_test,pred)*100),' for random state ',i)"
   ]
  },
  {
   "cell_type": "code",
   "execution_count": 657,
   "id": "fbc656f0",
   "metadata": {},
   "outputs": [
    {
     "data": {
      "text/html": [
       "<style>#sk-container-id-49 {color: black;background-color: white;}#sk-container-id-49 pre{padding: 0;}#sk-container-id-49 div.sk-toggleable {background-color: white;}#sk-container-id-49 label.sk-toggleable__label {cursor: pointer;display: block;width: 100%;margin-bottom: 0;padding: 0.3em;box-sizing: border-box;text-align: center;}#sk-container-id-49 label.sk-toggleable__label-arrow:before {content: \"▸\";float: left;margin-right: 0.25em;color: #696969;}#sk-container-id-49 label.sk-toggleable__label-arrow:hover:before {color: black;}#sk-container-id-49 div.sk-estimator:hover label.sk-toggleable__label-arrow:before {color: black;}#sk-container-id-49 div.sk-toggleable__content {max-height: 0;max-width: 0;overflow: hidden;text-align: left;background-color: #f0f8ff;}#sk-container-id-49 div.sk-toggleable__content pre {margin: 0.2em;color: black;border-radius: 0.25em;background-color: #f0f8ff;}#sk-container-id-49 input.sk-toggleable__control:checked~div.sk-toggleable__content {max-height: 200px;max-width: 100%;overflow: auto;}#sk-container-id-49 input.sk-toggleable__control:checked~label.sk-toggleable__label-arrow:before {content: \"▾\";}#sk-container-id-49 div.sk-estimator input.sk-toggleable__control:checked~label.sk-toggleable__label {background-color: #d4ebff;}#sk-container-id-49 div.sk-label input.sk-toggleable__control:checked~label.sk-toggleable__label {background-color: #d4ebff;}#sk-container-id-49 input.sk-hidden--visually {border: 0;clip: rect(1px 1px 1px 1px);clip: rect(1px, 1px, 1px, 1px);height: 1px;margin: -1px;overflow: hidden;padding: 0;position: absolute;width: 1px;}#sk-container-id-49 div.sk-estimator {font-family: monospace;background-color: #f0f8ff;border: 1px dotted black;border-radius: 0.25em;box-sizing: border-box;margin-bottom: 0.5em;}#sk-container-id-49 div.sk-estimator:hover {background-color: #d4ebff;}#sk-container-id-49 div.sk-parallel-item::after {content: \"\";width: 100%;border-bottom: 1px solid gray;flex-grow: 1;}#sk-container-id-49 div.sk-label:hover label.sk-toggleable__label {background-color: #d4ebff;}#sk-container-id-49 div.sk-serial::before {content: \"\";position: absolute;border-left: 1px solid gray;box-sizing: border-box;top: 0;bottom: 0;left: 50%;z-index: 0;}#sk-container-id-49 div.sk-serial {display: flex;flex-direction: column;align-items: center;background-color: white;padding-right: 0.2em;padding-left: 0.2em;position: relative;}#sk-container-id-49 div.sk-item {position: relative;z-index: 1;}#sk-container-id-49 div.sk-parallel {display: flex;align-items: stretch;justify-content: center;background-color: white;position: relative;}#sk-container-id-49 div.sk-item::before, #sk-container-id-49 div.sk-parallel-item::before {content: \"\";position: absolute;border-left: 1px solid gray;box-sizing: border-box;top: 0;bottom: 0;left: 50%;z-index: -1;}#sk-container-id-49 div.sk-parallel-item {display: flex;flex-direction: column;z-index: 1;position: relative;background-color: white;}#sk-container-id-49 div.sk-parallel-item:first-child::after {align-self: flex-end;width: 50%;}#sk-container-id-49 div.sk-parallel-item:last-child::after {align-self: flex-start;width: 50%;}#sk-container-id-49 div.sk-parallel-item:only-child::after {width: 0;}#sk-container-id-49 div.sk-dashed-wrapped {border: 1px dashed gray;margin: 0 0.4em 0.5em 0.4em;box-sizing: border-box;padding-bottom: 0.4em;background-color: white;}#sk-container-id-49 div.sk-label label {font-family: monospace;font-weight: bold;display: inline-block;line-height: 1.2em;}#sk-container-id-49 div.sk-label-container {text-align: center;}#sk-container-id-49 div.sk-container {/* jupyter's `normalize.less` sets `[hidden] { display: none; }` but bootstrap.min.css set `[hidden] { display: none !important; }` so we also need the `!important` here to be able to override the default hidden behavior on the sphinx rendered scikit-learn.org. See: https://github.com/scikit-learn/scikit-learn/issues/21755 */display: inline-block !important;position: relative;}#sk-container-id-49 div.sk-text-repr-fallback {display: none;}</style><div id=\"sk-container-id-49\" class=\"sk-top-container\"><div class=\"sk-text-repr-fallback\"><pre>GradientBoostingClassifier()</pre><b>In a Jupyter environment, please rerun this cell to show the HTML representation or trust the notebook. <br />On GitHub, the HTML representation is unable to render, please try loading this page with nbviewer.org.</b></div><div class=\"sk-container\" hidden><div class=\"sk-item\"><div class=\"sk-estimator sk-toggleable\"><input class=\"sk-toggleable__control sk-hidden--visually\" id=\"sk-estimator-id-53\" type=\"checkbox\" checked><label for=\"sk-estimator-id-53\" class=\"sk-toggleable__label sk-toggleable__label-arrow\">GradientBoostingClassifier</label><div class=\"sk-toggleable__content\"><pre>GradientBoostingClassifier()</pre></div></div></div></div></div>"
      ],
      "text/plain": [
       "GradientBoostingClassifier()"
      ]
     },
     "execution_count": 657,
     "metadata": {},
     "output_type": "execute_result"
    }
   ],
   "source": [
    "gbdt.fit(x_train,y_train)"
   ]
  },
  {
   "cell_type": "code",
   "execution_count": 658,
   "id": "d21ff10b",
   "metadata": {},
   "outputs": [],
   "source": [
    "#initiating train test split thereafter model training\n",
    "x_train,x_test,y_train,y_test=train_test_split(x_scaled,y,test_size=0.25,random_state=1)"
   ]
  },
  {
   "cell_type": "code",
   "execution_count": 659,
   "id": "43c52209",
   "metadata": {},
   "outputs": [
    {
     "name": "stdout",
     "output_type": "stream",
     "text": [
      "-----Training score-----\n",
      "Accuracy score:88.87%\n",
      "-----Testing score-----\n",
      "Accuracy score:82.81%\n",
      "classification report \n",
      "               precision    recall  f1-score   support\n",
      "\n",
      "           0       0.82      0.91      0.86       114\n",
      "           1       0.85      0.71      0.77        78\n",
      "\n",
      "    accuracy                           0.83       192\n",
      "   macro avg       0.83      0.81      0.82       192\n",
      "weighted avg       0.83      0.83      0.82       192\n",
      "\n",
      "confusion matrix  [[104  10]\n",
      " [ 23  55]]\n"
     ]
    }
   ],
   "source": [
    "#passing the function\n",
    "metric_score(gbdt,x_train,x_test,y_train,y_test,train=True) # this is for training score\n",
    "\n",
    "metric_score(gbdt,x_train,x_test,y_train,y_test,train=False) # this is for testing score"
   ]
  },
  {
   "cell_type": "code",
   "execution_count": 660,
   "id": "7b05a911",
   "metadata": {},
   "outputs": [
    {
     "name": "stdout",
     "output_type": "stream",
     "text": [
      "At cv:- 2\n",
      "cross validation score:-  79.14082898172323\n",
      "At cv:- 3\n",
      "cross validation score:-  78.61928104575163\n",
      "At cv:- 4\n",
      "cross validation score:-  78.75286321989529\n",
      "At cv:- 5\n",
      "cross validation score:-  79.14438502673798\n",
      "At cv:- 6\n",
      "cross validation score:-  78.36491141732283\n",
      "At cv:- 7\n",
      "cross validation score:-  80.05361610866197\n",
      "At cv:- 8\n",
      "cross validation score:-  79.66694078947368\n",
      "At cv:- 9\n",
      "cross validation score:-  79.02568779449764\n",
      "At cv:- 10\n",
      "cross validation score:-  79.66165413533834\n",
      "At cv:- 11\n",
      "cross validation score:-  79.26971579145491\n"
     ]
    }
   ],
   "source": [
    "#finding best value for cv in provided range\n",
    "for i in range(2,12):\n",
    "    cv_score=cross_val_score(gbdt,x_scaled,y,cv=i)\n",
    "    cv=cv_score.mean()\n",
    "    print('At cv:-',i)\n",
    "    print('cross validation score:- ',cv*100)"
   ]
  },
  {
   "cell_type": "code",
   "execution_count": 510,
   "id": "954d7a13",
   "metadata": {},
   "outputs": [
    {
     "name": "stdout",
     "output_type": "stream",
     "text": [
      "Cross Validation Score for Gradient Boosting Tees model :-  80.05361610866197\n"
     ]
    }
   ],
   "source": [
    "#cross validation score\n",
    "print('Cross Validation Score for Gradient Boosting Tees model :- ',((cross_val_score(gbdt,x_scaled,y,cv=7).mean())*100))"
   ]
  },
  {
   "cell_type": "markdown",
   "id": "f44cabac",
   "metadata": {},
   "source": [
    "# support vector classifier"
   ]
  },
  {
   "cell_type": "code",
   "execution_count": 511,
   "id": "c79ca3b3",
   "metadata": {},
   "outputs": [],
   "source": [
    "#importing library\n",
    "from sklearn.svm import SVC\n",
    "svc=SVC()"
   ]
  },
  {
   "cell_type": "code",
   "execution_count": 513,
   "id": "928c17f9",
   "metadata": {},
   "outputs": [
    {
     "data": {
      "text/html": [
       "<style>#sk-container-id-12 {color: black;background-color: white;}#sk-container-id-12 pre{padding: 0;}#sk-container-id-12 div.sk-toggleable {background-color: white;}#sk-container-id-12 label.sk-toggleable__label {cursor: pointer;display: block;width: 100%;margin-bottom: 0;padding: 0.3em;box-sizing: border-box;text-align: center;}#sk-container-id-12 label.sk-toggleable__label-arrow:before {content: \"▸\";float: left;margin-right: 0.25em;color: #696969;}#sk-container-id-12 label.sk-toggleable__label-arrow:hover:before {color: black;}#sk-container-id-12 div.sk-estimator:hover label.sk-toggleable__label-arrow:before {color: black;}#sk-container-id-12 div.sk-toggleable__content {max-height: 0;max-width: 0;overflow: hidden;text-align: left;background-color: #f0f8ff;}#sk-container-id-12 div.sk-toggleable__content pre {margin: 0.2em;color: black;border-radius: 0.25em;background-color: #f0f8ff;}#sk-container-id-12 input.sk-toggleable__control:checked~div.sk-toggleable__content {max-height: 200px;max-width: 100%;overflow: auto;}#sk-container-id-12 input.sk-toggleable__control:checked~label.sk-toggleable__label-arrow:before {content: \"▾\";}#sk-container-id-12 div.sk-estimator input.sk-toggleable__control:checked~label.sk-toggleable__label {background-color: #d4ebff;}#sk-container-id-12 div.sk-label input.sk-toggleable__control:checked~label.sk-toggleable__label {background-color: #d4ebff;}#sk-container-id-12 input.sk-hidden--visually {border: 0;clip: rect(1px 1px 1px 1px);clip: rect(1px, 1px, 1px, 1px);height: 1px;margin: -1px;overflow: hidden;padding: 0;position: absolute;width: 1px;}#sk-container-id-12 div.sk-estimator {font-family: monospace;background-color: #f0f8ff;border: 1px dotted black;border-radius: 0.25em;box-sizing: border-box;margin-bottom: 0.5em;}#sk-container-id-12 div.sk-estimator:hover {background-color: #d4ebff;}#sk-container-id-12 div.sk-parallel-item::after {content: \"\";width: 100%;border-bottom: 1px solid gray;flex-grow: 1;}#sk-container-id-12 div.sk-label:hover label.sk-toggleable__label {background-color: #d4ebff;}#sk-container-id-12 div.sk-serial::before {content: \"\";position: absolute;border-left: 1px solid gray;box-sizing: border-box;top: 0;bottom: 0;left: 50%;z-index: 0;}#sk-container-id-12 div.sk-serial {display: flex;flex-direction: column;align-items: center;background-color: white;padding-right: 0.2em;padding-left: 0.2em;position: relative;}#sk-container-id-12 div.sk-item {position: relative;z-index: 1;}#sk-container-id-12 div.sk-parallel {display: flex;align-items: stretch;justify-content: center;background-color: white;position: relative;}#sk-container-id-12 div.sk-item::before, #sk-container-id-12 div.sk-parallel-item::before {content: \"\";position: absolute;border-left: 1px solid gray;box-sizing: border-box;top: 0;bottom: 0;left: 50%;z-index: -1;}#sk-container-id-12 div.sk-parallel-item {display: flex;flex-direction: column;z-index: 1;position: relative;background-color: white;}#sk-container-id-12 div.sk-parallel-item:first-child::after {align-self: flex-end;width: 50%;}#sk-container-id-12 div.sk-parallel-item:last-child::after {align-self: flex-start;width: 50%;}#sk-container-id-12 div.sk-parallel-item:only-child::after {width: 0;}#sk-container-id-12 div.sk-dashed-wrapped {border: 1px dashed gray;margin: 0 0.4em 0.5em 0.4em;box-sizing: border-box;padding-bottom: 0.4em;background-color: white;}#sk-container-id-12 div.sk-label label {font-family: monospace;font-weight: bold;display: inline-block;line-height: 1.2em;}#sk-container-id-12 div.sk-label-container {text-align: center;}#sk-container-id-12 div.sk-container {/* jupyter's `normalize.less` sets `[hidden] { display: none; }` but bootstrap.min.css set `[hidden] { display: none !important; }` so we also need the `!important` here to be able to override the default hidden behavior on the sphinx rendered scikit-learn.org. See: https://github.com/scikit-learn/scikit-learn/issues/21755 */display: inline-block !important;position: relative;}#sk-container-id-12 div.sk-text-repr-fallback {display: none;}</style><div id=\"sk-container-id-12\" class=\"sk-top-container\"><div class=\"sk-text-repr-fallback\"><pre>SVC()</pre><b>In a Jupyter environment, please rerun this cell to show the HTML representation or trust the notebook. <br />On GitHub, the HTML representation is unable to render, please try loading this page with nbviewer.org.</b></div><div class=\"sk-container\" hidden><div class=\"sk-item\"><div class=\"sk-estimator sk-toggleable\"><input class=\"sk-toggleable__control sk-hidden--visually\" id=\"sk-estimator-id-12\" type=\"checkbox\" checked><label for=\"sk-estimator-id-12\" class=\"sk-toggleable__label sk-toggleable__label-arrow\">SVC</label><div class=\"sk-toggleable__content\"><pre>SVC()</pre></div></div></div></div></div>"
      ],
      "text/plain": [
       "SVC()"
      ]
     },
     "execution_count": 513,
     "metadata": {},
     "output_type": "execute_result"
    }
   ],
   "source": [
    "#fitting model to dataset\n",
    "svc.fit(x_train,y_train)"
   ]
  },
  {
   "cell_type": "code",
   "execution_count": 525,
   "id": "05570db2",
   "metadata": {},
   "outputs": [
    {
     "name": "stdout",
     "output_type": "stream",
     "text": [
      "training accuracy is  82.26086956521739  for random state  0\n",
      "testing accuracy is  78.64583333333334  for random state  0\n",
      "training accuracy is  82.95652173913044  for random state  1\n",
      "testing accuracy is  78.125  for random state  1\n",
      "training accuracy is  81.73913043478261  for random state  2\n",
      "testing accuracy is  80.72916666666666  for random state  2\n",
      "training accuracy is  83.1304347826087  for random state  3\n",
      "testing accuracy is  77.08333333333334  for random state  3\n",
      "training accuracy is  81.04347826086956  for random state  4\n",
      "testing accuracy is  81.77083333333334  for random state  4\n",
      "training accuracy is  82.08695652173913  for random state  5\n",
      "testing accuracy is  82.29166666666666  for random state  5\n",
      "training accuracy is  82.6086956521739  for random state  6\n",
      "testing accuracy is  78.64583333333334  for random state  6\n",
      "training accuracy is  80.69565217391305  for random state  7\n",
      "testing accuracy is  84.375  for random state  7\n",
      "training accuracy is  83.1304347826087  for random state  8\n",
      "testing accuracy is  78.64583333333334  for random state  8\n",
      "training accuracy is  82.78260869565217  for random state  9\n",
      "testing accuracy is  78.64583333333334  for random state  9\n",
      "training accuracy is  82.08695652173913  for random state  10\n",
      "testing accuracy is  80.72916666666666  for random state  10\n",
      "training accuracy is  83.82608695652173  for random state  11\n",
      "testing accuracy is  76.04166666666666  for random state  11\n",
      "training accuracy is  82.95652173913044  for random state  12\n",
      "testing accuracy is  75.0  for random state  12\n",
      "training accuracy is  81.3913043478261  for random state  13\n",
      "testing accuracy is  81.77083333333334  for random state  13\n",
      "training accuracy is  83.1304347826087  for random state  14\n",
      "testing accuracy is  77.60416666666666  for random state  14\n",
      "training accuracy is  81.56521739130434  for random state  15\n",
      "testing accuracy is  82.29166666666666  for random state  15\n",
      "training accuracy is  82.6086956521739  for random state  16\n",
      "testing accuracy is  80.20833333333334  for random state  16\n",
      "training accuracy is  83.82608695652173  for random state  17\n",
      "testing accuracy is  76.5625  for random state  17\n",
      "training accuracy is  82.08695652173913  for random state  18\n",
      "testing accuracy is  83.33333333333334  for random state  18\n",
      "training accuracy is  83.82608695652173  for random state  19\n",
      "testing accuracy is  73.4375  for random state  19\n",
      "training accuracy is  82.43478260869566  for random state  20\n",
      "testing accuracy is  78.64583333333334  for random state  20\n",
      "training accuracy is  82.08695652173913  for random state  21\n",
      "testing accuracy is  78.64583333333334  for random state  21\n",
      "training accuracy is  82.26086956521739  for random state  22\n",
      "testing accuracy is  81.77083333333334  for random state  22\n",
      "training accuracy is  82.26086956521739  for random state  23\n",
      "testing accuracy is  79.6875  for random state  23\n",
      "training accuracy is  82.08695652173913  for random state  24\n",
      "testing accuracy is  82.8125  for random state  24\n",
      "training accuracy is  81.3913043478261  for random state  25\n",
      "testing accuracy is  80.72916666666666  for random state  25\n",
      "training accuracy is  82.78260869565217  for random state  26\n",
      "testing accuracy is  79.6875  for random state  26\n",
      "training accuracy is  80.17391304347827  for random state  27\n",
      "testing accuracy is  83.85416666666666  for random state  27\n",
      "training accuracy is  82.6086956521739  for random state  28\n",
      "testing accuracy is  80.72916666666666  for random state  28\n",
      "training accuracy is  81.91304347826087  for random state  29\n",
      "testing accuracy is  80.72916666666666  for random state  29\n",
      "training accuracy is  83.65217391304348  for random state  30\n",
      "testing accuracy is  75.0  for random state  30\n",
      "training accuracy is  83.47826086956522  for random state  31\n",
      "testing accuracy is  75.0  for random state  31\n",
      "training accuracy is  82.78260869565217  for random state  32\n",
      "testing accuracy is  77.60416666666666  for random state  32\n",
      "training accuracy is  82.6086956521739  for random state  33\n",
      "testing accuracy is  79.16666666666666  for random state  33\n",
      "training accuracy is  82.43478260869566  for random state  34\n",
      "testing accuracy is  80.72916666666666  for random state  34\n",
      "training accuracy is  81.91304347826087  for random state  35\n",
      "testing accuracy is  79.6875  for random state  35\n",
      "training accuracy is  82.78260869565217  for random state  36\n",
      "testing accuracy is  78.64583333333334  for random state  36\n",
      "training accuracy is  83.30434782608695  for random state  37\n",
      "testing accuracy is  79.16666666666666  for random state  37\n",
      "training accuracy is  81.21739130434783  for random state  38\n",
      "testing accuracy is  82.8125  for random state  38\n",
      "training accuracy is  82.08695652173913  for random state  39\n",
      "testing accuracy is  77.60416666666666  for random state  39\n",
      "training accuracy is  82.95652173913044  for random state  40\n",
      "testing accuracy is  81.25  for random state  40\n",
      "training accuracy is  83.47826086956522  for random state  41\n",
      "testing accuracy is  78.125  for random state  41\n",
      "training accuracy is  82.95652173913044  for random state  42\n",
      "testing accuracy is  75.52083333333334  for random state  42\n",
      "training accuracy is  83.30434782608695  for random state  43\n",
      "testing accuracy is  77.08333333333334  for random state  43\n",
      "training accuracy is  83.47826086956522  for random state  44\n",
      "testing accuracy is  76.5625  for random state  44\n",
      "training accuracy is  83.65217391304348  for random state  45\n",
      "testing accuracy is  78.125  for random state  45\n",
      "training accuracy is  81.91304347826087  for random state  46\n",
      "testing accuracy is  78.125  for random state  46\n",
      "training accuracy is  81.3913043478261  for random state  47\n",
      "testing accuracy is  84.89583333333334  for random state  47\n",
      "training accuracy is  81.21739130434783  for random state  48\n",
      "testing accuracy is  83.33333333333334  for random state  48\n",
      "training accuracy is  82.78260869565217  for random state  49\n",
      "testing accuracy is  75.52083333333334  for random state  49\n",
      "training accuracy is  81.56521739130434  for random state  50\n",
      "testing accuracy is  79.6875  for random state  50\n",
      "training accuracy is  82.26086956521739  for random state  51\n",
      "testing accuracy is  81.77083333333334  for random state  51\n",
      "training accuracy is  83.47826086956522  for random state  52\n",
      "testing accuracy is  76.04166666666666  for random state  52\n",
      "training accuracy is  82.43478260869566  for random state  53\n",
      "testing accuracy is  80.20833333333334  for random state  53\n",
      "training accuracy is  83.47826086956522  for random state  54\n",
      "testing accuracy is  77.08333333333334  for random state  54\n",
      "training accuracy is  83.65217391304348  for random state  55\n",
      "testing accuracy is  76.04166666666666  for random state  55\n",
      "training accuracy is  82.95652173913044  for random state  56\n",
      "testing accuracy is  76.5625  for random state  56\n",
      "training accuracy is  82.78260869565217  for random state  57\n",
      "testing accuracy is  78.125  for random state  57\n",
      "training accuracy is  83.47826086956522  for random state  58\n",
      "testing accuracy is  77.08333333333334  for random state  58\n",
      "training accuracy is  82.08695652173913  for random state  59\n",
      "testing accuracy is  82.29166666666666  for random state  59\n",
      "training accuracy is  82.08695652173913  for random state  60\n",
      "testing accuracy is  79.6875  for random state  60\n",
      "training accuracy is  81.56521739130434  for random state  61\n",
      "testing accuracy is  82.8125  for random state  61\n",
      "training accuracy is  81.91304347826087  for random state  62\n",
      "testing accuracy is  79.16666666666666  for random state  62\n",
      "training accuracy is  81.3913043478261  for random state  63\n",
      "testing accuracy is  84.375  for random state  63\n",
      "training accuracy is  82.78260869565217  for random state  64\n",
      "testing accuracy is  80.20833333333334  for random state  64\n",
      "training accuracy is  81.04347826086956  for random state  65\n",
      "testing accuracy is  83.33333333333334  for random state  65\n",
      "training accuracy is  81.21739130434783  for random state  66\n",
      "testing accuracy is  82.8125  for random state  66\n",
      "training accuracy is  82.26086956521739  for random state  67\n",
      "testing accuracy is  81.77083333333334  for random state  67\n",
      "training accuracy is  82.95652173913044  for random state  68\n",
      "testing accuracy is  77.60416666666666  for random state  68\n",
      "training accuracy is  81.3913043478261  for random state  69\n",
      "testing accuracy is  82.8125  for random state  69\n",
      "training accuracy is  81.91304347826087  for random state  70\n",
      "testing accuracy is  82.29166666666666  for random state  70\n",
      "training accuracy is  82.78260869565217  for random state  71\n",
      "testing accuracy is  78.125  for random state  71\n",
      "training accuracy is  82.08695652173913  for random state  72\n",
      "testing accuracy is  78.64583333333334  for random state  72\n",
      "training accuracy is  82.43478260869566  for random state  73\n",
      "testing accuracy is  78.125  for random state  73\n",
      "training accuracy is  82.08695652173913  for random state  74\n",
      "testing accuracy is  77.08333333333334  for random state  74\n",
      "training accuracy is  83.65217391304348  for random state  75\n",
      "testing accuracy is  74.47916666666666  for random state  75\n",
      "training accuracy is  80.8695652173913  for random state  76\n",
      "testing accuracy is  86.97916666666666  for random state  76\n",
      "training accuracy is  81.04347826086956  for random state  77\n",
      "testing accuracy is  81.77083333333334  for random state  77\n",
      "training accuracy is  82.43478260869566  for random state  78\n",
      "testing accuracy is  77.60416666666666  for random state  78\n",
      "training accuracy is  82.95652173913044  for random state  79\n",
      "testing accuracy is  79.16666666666666  for random state  79\n",
      "training accuracy is  82.26086956521739  for random state  80\n",
      "testing accuracy is  79.6875  for random state  80\n",
      "training accuracy is  83.1304347826087  for random state  81\n",
      "testing accuracy is  74.47916666666666  for random state  81\n",
      "training accuracy is  83.47826086956522  for random state  82\n",
      "testing accuracy is  78.64583333333334  for random state  82\n",
      "training accuracy is  81.73913043478261  for random state  83\n",
      "testing accuracy is  81.77083333333334  for random state  83\n",
      "training accuracy is  82.43478260869566  for random state  84\n",
      "testing accuracy is  77.60416666666666  for random state  84\n",
      "training accuracy is  82.26086956521739  for random state  85\n",
      "testing accuracy is  78.64583333333334  for random state  85\n",
      "training accuracy is  82.43478260869566  for random state  86\n",
      "testing accuracy is  76.5625  for random state  86\n",
      "training accuracy is  83.1304347826087  for random state  87\n",
      "testing accuracy is  74.47916666666666  for random state  87\n",
      "training accuracy is  84.34782608695653  for random state  88\n",
      "testing accuracy is  73.4375  for random state  88\n",
      "training accuracy is  80.34782608695652  for random state  89\n",
      "testing accuracy is  84.375  for random state  89\n",
      "training accuracy is  83.30434782608695  for random state  90\n",
      "testing accuracy is  80.20833333333334  for random state  90\n",
      "training accuracy is  81.91304347826087  for random state  91\n",
      "testing accuracy is  81.25  for random state  91\n",
      "training accuracy is  83.82608695652173  for random state  92\n",
      "testing accuracy is  77.08333333333334  for random state  92\n",
      "training accuracy is  83.82608695652173  for random state  93\n",
      "testing accuracy is  76.5625  for random state  93\n",
      "training accuracy is  81.56521739130434  for random state  94\n",
      "testing accuracy is  84.89583333333334  for random state  94\n",
      "training accuracy is  82.6086956521739  for random state  95\n",
      "testing accuracy is  78.125  for random state  95\n",
      "training accuracy is  81.73913043478261  for random state  96\n",
      "testing accuracy is  83.85416666666666  for random state  96\n",
      "training accuracy is  82.6086956521739  for random state  97\n",
      "testing accuracy is  75.52083333333334  for random state  97\n",
      "training accuracy is  82.08695652173913  for random state  98\n",
      "testing accuracy is  80.72916666666666  for random state  98\n",
      "training accuracy is  81.91304347826087  for random state  99\n",
      "testing accuracy is  81.77083333333334  for random state  99\n"
     ]
    }
   ],
   "source": [
    "#finding best random state for Support Vector Classifier model\n",
    "for i in range(0,100):\n",
    "    x_train,x_test,y_train,y_test=train_test_split(x_scaled,y,test_size=0.25,random_state=i)\n",
    "    svc.fit(x_train,y_train)\n",
    "    y_pred=svc.predict(x_train)\n",
    "    pred=svc.predict(x_test)\n",
    "    print('training accuracy is ',(accuracy_score(y_train,y_pred)*100),' for random state ',i)\n",
    "    print('testing accuracy is ',(accuracy_score(y_test,pred)*100),' for random state ',i)"
   ]
  },
  {
   "cell_type": "code",
   "execution_count": 520,
   "id": "96611e2e",
   "metadata": {},
   "outputs": [
    {
     "data": {
      "text/html": [
       "<style>#sk-container-id-14 {color: black;background-color: white;}#sk-container-id-14 pre{padding: 0;}#sk-container-id-14 div.sk-toggleable {background-color: white;}#sk-container-id-14 label.sk-toggleable__label {cursor: pointer;display: block;width: 100%;margin-bottom: 0;padding: 0.3em;box-sizing: border-box;text-align: center;}#sk-container-id-14 label.sk-toggleable__label-arrow:before {content: \"▸\";float: left;margin-right: 0.25em;color: #696969;}#sk-container-id-14 label.sk-toggleable__label-arrow:hover:before {color: black;}#sk-container-id-14 div.sk-estimator:hover label.sk-toggleable__label-arrow:before {color: black;}#sk-container-id-14 div.sk-toggleable__content {max-height: 0;max-width: 0;overflow: hidden;text-align: left;background-color: #f0f8ff;}#sk-container-id-14 div.sk-toggleable__content pre {margin: 0.2em;color: black;border-radius: 0.25em;background-color: #f0f8ff;}#sk-container-id-14 input.sk-toggleable__control:checked~div.sk-toggleable__content {max-height: 200px;max-width: 100%;overflow: auto;}#sk-container-id-14 input.sk-toggleable__control:checked~label.sk-toggleable__label-arrow:before {content: \"▾\";}#sk-container-id-14 div.sk-estimator input.sk-toggleable__control:checked~label.sk-toggleable__label {background-color: #d4ebff;}#sk-container-id-14 div.sk-label input.sk-toggleable__control:checked~label.sk-toggleable__label {background-color: #d4ebff;}#sk-container-id-14 input.sk-hidden--visually {border: 0;clip: rect(1px 1px 1px 1px);clip: rect(1px, 1px, 1px, 1px);height: 1px;margin: -1px;overflow: hidden;padding: 0;position: absolute;width: 1px;}#sk-container-id-14 div.sk-estimator {font-family: monospace;background-color: #f0f8ff;border: 1px dotted black;border-radius: 0.25em;box-sizing: border-box;margin-bottom: 0.5em;}#sk-container-id-14 div.sk-estimator:hover {background-color: #d4ebff;}#sk-container-id-14 div.sk-parallel-item::after {content: \"\";width: 100%;border-bottom: 1px solid gray;flex-grow: 1;}#sk-container-id-14 div.sk-label:hover label.sk-toggleable__label {background-color: #d4ebff;}#sk-container-id-14 div.sk-serial::before {content: \"\";position: absolute;border-left: 1px solid gray;box-sizing: border-box;top: 0;bottom: 0;left: 50%;z-index: 0;}#sk-container-id-14 div.sk-serial {display: flex;flex-direction: column;align-items: center;background-color: white;padding-right: 0.2em;padding-left: 0.2em;position: relative;}#sk-container-id-14 div.sk-item {position: relative;z-index: 1;}#sk-container-id-14 div.sk-parallel {display: flex;align-items: stretch;justify-content: center;background-color: white;position: relative;}#sk-container-id-14 div.sk-item::before, #sk-container-id-14 div.sk-parallel-item::before {content: \"\";position: absolute;border-left: 1px solid gray;box-sizing: border-box;top: 0;bottom: 0;left: 50%;z-index: -1;}#sk-container-id-14 div.sk-parallel-item {display: flex;flex-direction: column;z-index: 1;position: relative;background-color: white;}#sk-container-id-14 div.sk-parallel-item:first-child::after {align-self: flex-end;width: 50%;}#sk-container-id-14 div.sk-parallel-item:last-child::after {align-self: flex-start;width: 50%;}#sk-container-id-14 div.sk-parallel-item:only-child::after {width: 0;}#sk-container-id-14 div.sk-dashed-wrapped {border: 1px dashed gray;margin: 0 0.4em 0.5em 0.4em;box-sizing: border-box;padding-bottom: 0.4em;background-color: white;}#sk-container-id-14 div.sk-label label {font-family: monospace;font-weight: bold;display: inline-block;line-height: 1.2em;}#sk-container-id-14 div.sk-label-container {text-align: center;}#sk-container-id-14 div.sk-container {/* jupyter's `normalize.less` sets `[hidden] { display: none; }` but bootstrap.min.css set `[hidden] { display: none !important; }` so we also need the `!important` here to be able to override the default hidden behavior on the sphinx rendered scikit-learn.org. See: https://github.com/scikit-learn/scikit-learn/issues/21755 */display: inline-block !important;position: relative;}#sk-container-id-14 div.sk-text-repr-fallback {display: none;}</style><div id=\"sk-container-id-14\" class=\"sk-top-container\"><div class=\"sk-text-repr-fallback\"><pre>SVC()</pre><b>In a Jupyter environment, please rerun this cell to show the HTML representation or trust the notebook. <br />On GitHub, the HTML representation is unable to render, please try loading this page with nbviewer.org.</b></div><div class=\"sk-container\" hidden><div class=\"sk-item\"><div class=\"sk-estimator sk-toggleable\"><input class=\"sk-toggleable__control sk-hidden--visually\" id=\"sk-estimator-id-14\" type=\"checkbox\" checked><label for=\"sk-estimator-id-14\" class=\"sk-toggleable__label sk-toggleable__label-arrow\">SVC</label><div class=\"sk-toggleable__content\"><pre>SVC()</pre></div></div></div></div></div>"
      ],
      "text/plain": [
       "SVC()"
      ]
     },
     "execution_count": 520,
     "metadata": {},
     "output_type": "execute_result"
    }
   ],
   "source": [
    "svc.fit(x_train,y_train)"
   ]
  },
  {
   "cell_type": "code",
   "execution_count": 526,
   "id": "779e2798",
   "metadata": {},
   "outputs": [],
   "source": [
    "#initiating train test split\n",
    "x_train,x_test,y_train,y_test=train_test_split(x_scaled,y,test_size=0.25,random_state=2)"
   ]
  },
  {
   "cell_type": "code",
   "execution_count": 527,
   "id": "9825b30f",
   "metadata": {},
   "outputs": [
    {
     "name": "stdout",
     "output_type": "stream",
     "text": [
      "-----Training score-----\n",
      "Accuracy score:81.91%\n",
      "-----Testing score-----\n",
      "Accuracy score:81.77%\n",
      "classification report \n",
      "               precision    recall  f1-score   support\n",
      "\n",
      "           0       0.80      0.90      0.84       105\n",
      "           1       0.85      0.72      0.78        87\n",
      "\n",
      "    accuracy                           0.82       192\n",
      "   macro avg       0.82      0.81      0.81       192\n",
      "weighted avg       0.82      0.82      0.82       192\n",
      "\n",
      "confusion matrix  [[94 11]\n",
      " [24 63]]\n"
     ]
    }
   ],
   "source": [
    "#passing the function\n",
    "metric_score(svc,x_train,x_test,y_train,y_test,train=True) # this is for training score\n",
    "\n",
    "metric_score(svc,x_train,x_test,y_train,y_test,train=False) # this is for testing score"
   ]
  },
  {
   "cell_type": "code",
   "execution_count": 528,
   "id": "f5f796cd",
   "metadata": {},
   "outputs": [
    {
     "name": "stdout",
     "output_type": "stream",
     "text": [
      "At cv:- 2\n",
      "cross validation score:-  78.48876740644037\n",
      "At cv:- 3\n",
      "cross validation score:-  78.7515318627451\n",
      "At cv:- 4\n",
      "cross validation score:-  79.27574171029669\n",
      "At cv:- 5\n",
      "cross validation score:-  79.79458450046685\n",
      "At cv:- 6\n",
      "cross validation score:-  80.06069553805774\n",
      "At cv:- 7\n",
      "cross validation score:-  80.05480757774336\n",
      "At cv:- 8\n",
      "cross validation score:-  80.32072368421052\n",
      "At cv:- 9\n",
      "cross validation score:-  79.53640370877034\n",
      "At cv:- 10\n",
      "cross validation score:-  79.53691045796309\n",
      "At cv:- 11\n",
      "cross validation score:-  79.67061923583664\n"
     ]
    }
   ],
   "source": [
    "#finding best value for cv in provided range\n",
    "for i in range(2,12):\n",
    "    cv_score=cross_val_score(svc,x_scaled,y,cv=i)\n",
    "    cv=cv_score.mean()\n",
    "    print('At cv:-',i)\n",
    "    print('cross validation score:- ',cv*100)"
   ]
  },
  {
   "cell_type": "code",
   "execution_count": 529,
   "id": "1269741a",
   "metadata": {
    "scrolled": true
   },
   "outputs": [
    {
     "name": "stdout",
     "output_type": "stream",
     "text": [
      "Cross Validation Score for Support Vector Classifier model :-  80.32072368421052\n"
     ]
    }
   ],
   "source": [
    "#cross validation score\n",
    "print('Cross Validation Score for Support Vector Classifier model :- ',((cross_val_score(svc,x_scaled,y,cv=8).mean())*100))"
   ]
  },
  {
   "cell_type": "markdown",
   "id": "5db8373e",
   "metadata": {},
   "source": [
    "# Dataframe showing model_wise training & testing accuracy scores with cross validation scores"
   ]
  },
  {
   "cell_type": "code",
   "execution_count": 668,
   "id": "7199f08b",
   "metadata": {},
   "outputs": [
    {
     "data": {
      "text/html": [
       "<div>\n",
       "<style scoped>\n",
       "    .dataframe tbody tr th:only-of-type {\n",
       "        vertical-align: middle;\n",
       "    }\n",
       "\n",
       "    .dataframe tbody tr th {\n",
       "        vertical-align: top;\n",
       "    }\n",
       "\n",
       "    .dataframe thead th {\n",
       "        text-align: right;\n",
       "    }\n",
       "</style>\n",
       "<table border=\"1\" class=\"dataframe\">\n",
       "  <thead>\n",
       "    <tr style=\"text-align: right;\">\n",
       "      <th></th>\n",
       "      <th>Model</th>\n",
       "      <th>Training scores</th>\n",
       "      <th>Testing scores</th>\n",
       "      <th>Cross validation score</th>\n",
       "      <th>False positives</th>\n",
       "      <th>False negatives</th>\n",
       "    </tr>\n",
       "  </thead>\n",
       "  <tbody>\n",
       "    <tr>\n",
       "      <th>0</th>\n",
       "      <td>Logistic Regression</td>\n",
       "      <td>78.26</td>\n",
       "      <td>78.12</td>\n",
       "      <td>77.06</td>\n",
       "      <td>15</td>\n",
       "      <td>27</td>\n",
       "    </tr>\n",
       "    <tr>\n",
       "      <th>1</th>\n",
       "      <td>Random Forests</td>\n",
       "      <td>98.26</td>\n",
       "      <td>80.21</td>\n",
       "      <td>77.73</td>\n",
       "      <td>16</td>\n",
       "      <td>22</td>\n",
       "    </tr>\n",
       "    <tr>\n",
       "      <th>2</th>\n",
       "      <td>Gradient Boosted Tees</td>\n",
       "      <td>88.87</td>\n",
       "      <td>82.81</td>\n",
       "      <td>80.05</td>\n",
       "      <td>10</td>\n",
       "      <td>23</td>\n",
       "    </tr>\n",
       "    <tr>\n",
       "      <th>3</th>\n",
       "      <td>Support Vector Classifier</td>\n",
       "      <td>81.91</td>\n",
       "      <td>81.77</td>\n",
       "      <td>80.32</td>\n",
       "      <td>11</td>\n",
       "      <td>24</td>\n",
       "    </tr>\n",
       "  </tbody>\n",
       "</table>\n",
       "</div>"
      ],
      "text/plain": [
       "                       Model  Training scores  Testing scores  \\\n",
       "0        Logistic Regression            78.26           78.12   \n",
       "1             Random Forests            98.26           80.21   \n",
       "2      Gradient Boosted Tees            88.87           82.81   \n",
       "3  Support Vector Classifier            81.91           81.77   \n",
       "\n",
       "   Cross validation score  False positives  False negatives  \n",
       "0                   77.06               15               27  \n",
       "1                   77.73               16               22  \n",
       "2                   80.05               10               23  \n",
       "3                   80.32               11               24  "
      ]
     },
     "execution_count": 668,
     "metadata": {},
     "output_type": "execute_result"
    }
   ],
   "source": [
    "column=pd.DataFrame({'Model':['Logistic Regression','Random Forests','Gradient Boosted Tees','Support Vector Classifier'],\n",
    "                    'Training scores':[78.26,98.26,88.87,81.91],\n",
    "                    'Testing scores':[78.12,80.21,82.81,81.77],\n",
    "                    'Cross validation score':[77.06,77.73,80.05,80.32],\n",
    "                    'False positives':[15,16,10,11],\n",
    "                    'False negatives':[27,22,23,24]})\n",
    "column"
   ]
  },
  {
   "cell_type": "markdown",
   "id": "931408b7",
   "metadata": {},
   "source": [
    "Looking at above dataframe going forward with Gradient Boosted Tees as it has higher training and test scores with good cross validation scores. Also it has less number of false positives and false negatives."
   ]
  },
  {
   "cell_type": "markdown",
   "id": "919b8515",
   "metadata": {},
   "source": [
    "# Hyperparameter tuning to Gradient Boosted Tees"
   ]
  },
  {
   "cell_type": "code",
   "execution_count": 533,
   "id": "477c3fb3",
   "metadata": {},
   "outputs": [],
   "source": [
    "#importing GridSearchCV library\n",
    "from sklearn.model_selection import GridSearchCV"
   ]
  },
  {
   "cell_type": "code",
   "execution_count": 661,
   "id": "8b4f43e9",
   "metadata": {},
   "outputs": [],
   "source": [
    "#setting parameters for tuning\n",
    "grid_param=[{'max_depth':range(2,25),\n",
    "           'min_samples_split':range(2,15),\n",
    "           'learning_rate':np.arange(0.1,0.9)}]"
   ]
  },
  {
   "cell_type": "code",
   "execution_count": 662,
   "id": "33ba130e",
   "metadata": {},
   "outputs": [],
   "source": [
    "#saving model in variable\n",
    "grid=GridSearchCV(GradientBoostingClassifier(),param_grid=grid_param)"
   ]
  },
  {
   "cell_type": "code",
   "execution_count": 663,
   "id": "f043a217",
   "metadata": {},
   "outputs": [
    {
     "data": {
      "text/html": [
       "<style>#sk-container-id-50 {color: black;background-color: white;}#sk-container-id-50 pre{padding: 0;}#sk-container-id-50 div.sk-toggleable {background-color: white;}#sk-container-id-50 label.sk-toggleable__label {cursor: pointer;display: block;width: 100%;margin-bottom: 0;padding: 0.3em;box-sizing: border-box;text-align: center;}#sk-container-id-50 label.sk-toggleable__label-arrow:before {content: \"▸\";float: left;margin-right: 0.25em;color: #696969;}#sk-container-id-50 label.sk-toggleable__label-arrow:hover:before {color: black;}#sk-container-id-50 div.sk-estimator:hover label.sk-toggleable__label-arrow:before {color: black;}#sk-container-id-50 div.sk-toggleable__content {max-height: 0;max-width: 0;overflow: hidden;text-align: left;background-color: #f0f8ff;}#sk-container-id-50 div.sk-toggleable__content pre {margin: 0.2em;color: black;border-radius: 0.25em;background-color: #f0f8ff;}#sk-container-id-50 input.sk-toggleable__control:checked~div.sk-toggleable__content {max-height: 200px;max-width: 100%;overflow: auto;}#sk-container-id-50 input.sk-toggleable__control:checked~label.sk-toggleable__label-arrow:before {content: \"▾\";}#sk-container-id-50 div.sk-estimator input.sk-toggleable__control:checked~label.sk-toggleable__label {background-color: #d4ebff;}#sk-container-id-50 div.sk-label input.sk-toggleable__control:checked~label.sk-toggleable__label {background-color: #d4ebff;}#sk-container-id-50 input.sk-hidden--visually {border: 0;clip: rect(1px 1px 1px 1px);clip: rect(1px, 1px, 1px, 1px);height: 1px;margin: -1px;overflow: hidden;padding: 0;position: absolute;width: 1px;}#sk-container-id-50 div.sk-estimator {font-family: monospace;background-color: #f0f8ff;border: 1px dotted black;border-radius: 0.25em;box-sizing: border-box;margin-bottom: 0.5em;}#sk-container-id-50 div.sk-estimator:hover {background-color: #d4ebff;}#sk-container-id-50 div.sk-parallel-item::after {content: \"\";width: 100%;border-bottom: 1px solid gray;flex-grow: 1;}#sk-container-id-50 div.sk-label:hover label.sk-toggleable__label {background-color: #d4ebff;}#sk-container-id-50 div.sk-serial::before {content: \"\";position: absolute;border-left: 1px solid gray;box-sizing: border-box;top: 0;bottom: 0;left: 50%;z-index: 0;}#sk-container-id-50 div.sk-serial {display: flex;flex-direction: column;align-items: center;background-color: white;padding-right: 0.2em;padding-left: 0.2em;position: relative;}#sk-container-id-50 div.sk-item {position: relative;z-index: 1;}#sk-container-id-50 div.sk-parallel {display: flex;align-items: stretch;justify-content: center;background-color: white;position: relative;}#sk-container-id-50 div.sk-item::before, #sk-container-id-50 div.sk-parallel-item::before {content: \"\";position: absolute;border-left: 1px solid gray;box-sizing: border-box;top: 0;bottom: 0;left: 50%;z-index: -1;}#sk-container-id-50 div.sk-parallel-item {display: flex;flex-direction: column;z-index: 1;position: relative;background-color: white;}#sk-container-id-50 div.sk-parallel-item:first-child::after {align-self: flex-end;width: 50%;}#sk-container-id-50 div.sk-parallel-item:last-child::after {align-self: flex-start;width: 50%;}#sk-container-id-50 div.sk-parallel-item:only-child::after {width: 0;}#sk-container-id-50 div.sk-dashed-wrapped {border: 1px dashed gray;margin: 0 0.4em 0.5em 0.4em;box-sizing: border-box;padding-bottom: 0.4em;background-color: white;}#sk-container-id-50 div.sk-label label {font-family: monospace;font-weight: bold;display: inline-block;line-height: 1.2em;}#sk-container-id-50 div.sk-label-container {text-align: center;}#sk-container-id-50 div.sk-container {/* jupyter's `normalize.less` sets `[hidden] { display: none; }` but bootstrap.min.css set `[hidden] { display: none !important; }` so we also need the `!important` here to be able to override the default hidden behavior on the sphinx rendered scikit-learn.org. See: https://github.com/scikit-learn/scikit-learn/issues/21755 */display: inline-block !important;position: relative;}#sk-container-id-50 div.sk-text-repr-fallback {display: none;}</style><div id=\"sk-container-id-50\" class=\"sk-top-container\"><div class=\"sk-text-repr-fallback\"><pre>GridSearchCV(estimator=GradientBoostingClassifier(),\n",
       "             param_grid=[{&#x27;learning_rate&#x27;: array([0.1]),\n",
       "                          &#x27;max_depth&#x27;: range(2, 25),\n",
       "                          &#x27;min_samples_split&#x27;: range(2, 15)}])</pre><b>In a Jupyter environment, please rerun this cell to show the HTML representation or trust the notebook. <br />On GitHub, the HTML representation is unable to render, please try loading this page with nbviewer.org.</b></div><div class=\"sk-container\" hidden><div class=\"sk-item sk-dashed-wrapped\"><div class=\"sk-label-container\"><div class=\"sk-label sk-toggleable\"><input class=\"sk-toggleable__control sk-hidden--visually\" id=\"sk-estimator-id-54\" type=\"checkbox\" ><label for=\"sk-estimator-id-54\" class=\"sk-toggleable__label sk-toggleable__label-arrow\">GridSearchCV</label><div class=\"sk-toggleable__content\"><pre>GridSearchCV(estimator=GradientBoostingClassifier(),\n",
       "             param_grid=[{&#x27;learning_rate&#x27;: array([0.1]),\n",
       "                          &#x27;max_depth&#x27;: range(2, 25),\n",
       "                          &#x27;min_samples_split&#x27;: range(2, 15)}])</pre></div></div></div><div class=\"sk-parallel\"><div class=\"sk-parallel-item\"><div class=\"sk-item\"><div class=\"sk-label-container\"><div class=\"sk-label sk-toggleable\"><input class=\"sk-toggleable__control sk-hidden--visually\" id=\"sk-estimator-id-55\" type=\"checkbox\" ><label for=\"sk-estimator-id-55\" class=\"sk-toggleable__label sk-toggleable__label-arrow\">estimator: GradientBoostingClassifier</label><div class=\"sk-toggleable__content\"><pre>GradientBoostingClassifier()</pre></div></div></div><div class=\"sk-serial\"><div class=\"sk-item\"><div class=\"sk-estimator sk-toggleable\"><input class=\"sk-toggleable__control sk-hidden--visually\" id=\"sk-estimator-id-56\" type=\"checkbox\" ><label for=\"sk-estimator-id-56\" class=\"sk-toggleable__label sk-toggleable__label-arrow\">GradientBoostingClassifier</label><div class=\"sk-toggleable__content\"><pre>GradientBoostingClassifier()</pre></div></div></div></div></div></div></div></div></div></div>"
      ],
      "text/plain": [
       "GridSearchCV(estimator=GradientBoostingClassifier(),\n",
       "             param_grid=[{'learning_rate': array([0.1]),\n",
       "                          'max_depth': range(2, 25),\n",
       "                          'min_samples_split': range(2, 15)}])"
      ]
     },
     "execution_count": 663,
     "metadata": {},
     "output_type": "execute_result"
    }
   ],
   "source": [
    "#fitting the model on train data\n",
    "grid.fit(x_train,y_train)"
   ]
  },
  {
   "cell_type": "code",
   "execution_count": 664,
   "id": "2e83a1f5",
   "metadata": {},
   "outputs": [
    {
     "data": {
      "text/plain": [
       "{'learning_rate': 0.1, 'max_depth': 2, 'min_samples_split': 3}"
      ]
     },
     "execution_count": 664,
     "metadata": {},
     "output_type": "execute_result"
    }
   ],
   "source": [
    "#best parameters for tuning\n",
    "grid.best_params_"
   ]
  },
  {
   "cell_type": "code",
   "execution_count": 729,
   "id": "86c7053c",
   "metadata": {},
   "outputs": [],
   "source": [
    "#using best parameters to train \n",
    "gbdt_clf=GradientBoostingClassifier(loss='exponential',learning_rate=0.13,max_depth=3,min_samples_split=2,n_estimators=125)"
   ]
  },
  {
   "cell_type": "code",
   "execution_count": 730,
   "id": "a3107d29",
   "metadata": {},
   "outputs": [
    {
     "data": {
      "text/html": [
       "<style>#sk-container-id-72 {color: black;background-color: white;}#sk-container-id-72 pre{padding: 0;}#sk-container-id-72 div.sk-toggleable {background-color: white;}#sk-container-id-72 label.sk-toggleable__label {cursor: pointer;display: block;width: 100%;margin-bottom: 0;padding: 0.3em;box-sizing: border-box;text-align: center;}#sk-container-id-72 label.sk-toggleable__label-arrow:before {content: \"▸\";float: left;margin-right: 0.25em;color: #696969;}#sk-container-id-72 label.sk-toggleable__label-arrow:hover:before {color: black;}#sk-container-id-72 div.sk-estimator:hover label.sk-toggleable__label-arrow:before {color: black;}#sk-container-id-72 div.sk-toggleable__content {max-height: 0;max-width: 0;overflow: hidden;text-align: left;background-color: #f0f8ff;}#sk-container-id-72 div.sk-toggleable__content pre {margin: 0.2em;color: black;border-radius: 0.25em;background-color: #f0f8ff;}#sk-container-id-72 input.sk-toggleable__control:checked~div.sk-toggleable__content {max-height: 200px;max-width: 100%;overflow: auto;}#sk-container-id-72 input.sk-toggleable__control:checked~label.sk-toggleable__label-arrow:before {content: \"▾\";}#sk-container-id-72 div.sk-estimator input.sk-toggleable__control:checked~label.sk-toggleable__label {background-color: #d4ebff;}#sk-container-id-72 div.sk-label input.sk-toggleable__control:checked~label.sk-toggleable__label {background-color: #d4ebff;}#sk-container-id-72 input.sk-hidden--visually {border: 0;clip: rect(1px 1px 1px 1px);clip: rect(1px, 1px, 1px, 1px);height: 1px;margin: -1px;overflow: hidden;padding: 0;position: absolute;width: 1px;}#sk-container-id-72 div.sk-estimator {font-family: monospace;background-color: #f0f8ff;border: 1px dotted black;border-radius: 0.25em;box-sizing: border-box;margin-bottom: 0.5em;}#sk-container-id-72 div.sk-estimator:hover {background-color: #d4ebff;}#sk-container-id-72 div.sk-parallel-item::after {content: \"\";width: 100%;border-bottom: 1px solid gray;flex-grow: 1;}#sk-container-id-72 div.sk-label:hover label.sk-toggleable__label {background-color: #d4ebff;}#sk-container-id-72 div.sk-serial::before {content: \"\";position: absolute;border-left: 1px solid gray;box-sizing: border-box;top: 0;bottom: 0;left: 50%;z-index: 0;}#sk-container-id-72 div.sk-serial {display: flex;flex-direction: column;align-items: center;background-color: white;padding-right: 0.2em;padding-left: 0.2em;position: relative;}#sk-container-id-72 div.sk-item {position: relative;z-index: 1;}#sk-container-id-72 div.sk-parallel {display: flex;align-items: stretch;justify-content: center;background-color: white;position: relative;}#sk-container-id-72 div.sk-item::before, #sk-container-id-72 div.sk-parallel-item::before {content: \"\";position: absolute;border-left: 1px solid gray;box-sizing: border-box;top: 0;bottom: 0;left: 50%;z-index: -1;}#sk-container-id-72 div.sk-parallel-item {display: flex;flex-direction: column;z-index: 1;position: relative;background-color: white;}#sk-container-id-72 div.sk-parallel-item:first-child::after {align-self: flex-end;width: 50%;}#sk-container-id-72 div.sk-parallel-item:last-child::after {align-self: flex-start;width: 50%;}#sk-container-id-72 div.sk-parallel-item:only-child::after {width: 0;}#sk-container-id-72 div.sk-dashed-wrapped {border: 1px dashed gray;margin: 0 0.4em 0.5em 0.4em;box-sizing: border-box;padding-bottom: 0.4em;background-color: white;}#sk-container-id-72 div.sk-label label {font-family: monospace;font-weight: bold;display: inline-block;line-height: 1.2em;}#sk-container-id-72 div.sk-label-container {text-align: center;}#sk-container-id-72 div.sk-container {/* jupyter's `normalize.less` sets `[hidden] { display: none; }` but bootstrap.min.css set `[hidden] { display: none !important; }` so we also need the `!important` here to be able to override the default hidden behavior on the sphinx rendered scikit-learn.org. See: https://github.com/scikit-learn/scikit-learn/issues/21755 */display: inline-block !important;position: relative;}#sk-container-id-72 div.sk-text-repr-fallback {display: none;}</style><div id=\"sk-container-id-72\" class=\"sk-top-container\"><div class=\"sk-text-repr-fallback\"><pre>GradientBoostingClassifier(learning_rate=0.13, loss=&#x27;exponential&#x27;,\n",
       "                           n_estimators=125)</pre><b>In a Jupyter environment, please rerun this cell to show the HTML representation or trust the notebook. <br />On GitHub, the HTML representation is unable to render, please try loading this page with nbviewer.org.</b></div><div class=\"sk-container\" hidden><div class=\"sk-item\"><div class=\"sk-estimator sk-toggleable\"><input class=\"sk-toggleable__control sk-hidden--visually\" id=\"sk-estimator-id-78\" type=\"checkbox\" checked><label for=\"sk-estimator-id-78\" class=\"sk-toggleable__label sk-toggleable__label-arrow\">GradientBoostingClassifier</label><div class=\"sk-toggleable__content\"><pre>GradientBoostingClassifier(learning_rate=0.13, loss=&#x27;exponential&#x27;,\n",
       "                           n_estimators=125)</pre></div></div></div></div></div>"
      ],
      "text/plain": [
       "GradientBoostingClassifier(learning_rate=0.13, loss='exponential',\n",
       "                           n_estimators=125)"
      ]
     },
     "execution_count": 730,
     "metadata": {},
     "output_type": "execute_result"
    }
   ],
   "source": [
    "#training data\n",
    "gbdt_clf.fit(x_train,y_train)"
   ]
  },
  {
   "cell_type": "code",
   "execution_count": 731,
   "id": "5d090d46",
   "metadata": {
    "scrolled": true
   },
   "outputs": [
    {
     "name": "stdout",
     "output_type": "stream",
     "text": [
      "-----Training score-----\n",
      "Accuracy score:90.26%\n",
      "-----Testing score-----\n",
      "Accuracy score:82.81%\n",
      "classification report \n",
      "               precision    recall  f1-score   support\n",
      "\n",
      "           0       0.83      0.89      0.86       114\n",
      "           1       0.83      0.73      0.78        78\n",
      "\n",
      "    accuracy                           0.83       192\n",
      "   macro avg       0.83      0.81      0.82       192\n",
      "weighted avg       0.83      0.83      0.83       192\n",
      "\n",
      "confusion matrix  [[102  12]\n",
      " [ 21  57]]\n"
     ]
    }
   ],
   "source": [
    "#passing the function\n",
    "metric_score(gbdt_clf,x_train,x_test,y_train,y_test,train=True) # this is for training score\n",
    "\n",
    "metric_score(gbdt_clf,x_train,x_test,y_train,y_test,train=False) # this is for testing score"
   ]
  },
  {
   "cell_type": "code",
   "execution_count": 739,
   "id": "8dfe1e71",
   "metadata": {},
   "outputs": [
    {
     "name": "stdout",
     "output_type": "stream",
     "text": [
      "Training accuracy score for Gradient Boosted Tees after hyperparameter tuning:90.26%\n",
      "Testing accuracy score for Gradient Boosted Tees after hyperparameter tuning:82.81%\n"
     ]
    }
   ],
   "source": [
    "y_pred=gbdt_clf.predict(x_train)\n",
    "pred=gbdt_clf.predict(x_test)\n",
    "print(f'Training accuracy score for Gradient Boosted Tees after hyperparameter tuning:{accuracy_score(y_train,y_pred)*100:.2f}%')\n",
    "print(f'Testing accuracy score for Gradient Boosted Tees after hyperparameter tuning:{accuracy_score(y_test,pred)*100:.2f}%')"
   ]
  },
  {
   "cell_type": "markdown",
   "id": "74563915",
   "metadata": {},
   "source": [
    "# plotting ROC curve"
   ]
  },
  {
   "cell_type": "code",
   "execution_count": 732,
   "id": "c856a6f6",
   "metadata": {},
   "outputs": [],
   "source": [
    "#importing ROC curve library\n",
    "from sklearn.metrics import roc_curve,auc"
   ]
  },
  {
   "cell_type": "code",
   "execution_count": 734,
   "id": "33de4945",
   "metadata": {},
   "outputs": [
    {
     "name": "stdout",
     "output_type": "stream",
     "text": [
      "fpr [0.         0.10526316 1.        ]\n",
      "tpr [0.         0.73076923 1.        ]\n",
      "threshold [2 1 0]\n"
     ]
    }
   ],
   "source": [
    "pred=gbdt_clf.predict(x_test)\n",
    "fpr,tpr,threshold=roc_curve(y_test,pred)\n",
    "print('fpr',fpr)\n",
    "print('tpr',tpr)\n",
    "print('threshold',threshold)"
   ]
  },
  {
   "cell_type": "code",
   "execution_count": 735,
   "id": "f9699d6d",
   "metadata": {},
   "outputs": [
    {
     "data": {
      "image/png": "[encoded data removed]",
      "text/plain": [
       "<Figure size 432x288 with 1 Axes>"
      ]
     },
     "metadata": {
      "needs_background": "light"
     },
     "output_type": "display_data"
    }
   ],
   "source": [
    "plt.plot(fpr,tpr,color='darkorange',label='ROC curve')\n",
    "plt.plot([0,1],[0,1],color='green',linestyle='--')\n",
    "plt.xlabel('False positive rate')\n",
    "plt.ylabel('True positive rate')\n",
    "plt.title('Receiver Operating Curve')\n",
    "plt.legend()\n",
    "plt.show()"
   ]
  },
  {
   "cell_type": "markdown",
   "id": "0fcfc183",
   "metadata": {},
   "source": [
    "# saving the model"
   ]
  },
  {
   "cell_type": "code",
   "execution_count": 740,
   "id": "512b1710",
   "metadata": {},
   "outputs": [],
   "source": [
    "import pickle"
   ]
  },
  {
   "cell_type": "code",
   "execution_count": 741,
   "id": "a5b0cd4d",
   "metadata": {},
   "outputs": [],
   "source": [
    "pickle.dump(gbdt_clf,open('titanic_gbdt','wb'))"
   ]
  }
 ],
 "metadata": {
  "kernelspec": {
   "display_name": "Python 3 (ipykernel)",
   "language": "python",
   "name": "python3"
  },
  "language_info": {
   "codemirror_mode": {
    "name": "ipython",
    "version": 3
   },
   "file_extension": ".py",
   "mimetype": "text/x-python",
   "name": "python",
   "nbconvert_exporter": "python",
   "pygments_lexer": "ipython3",
   "version": "3.9.12"
  }
 },
 "nbformat": 4,
 "nbformat_minor": 5
}
