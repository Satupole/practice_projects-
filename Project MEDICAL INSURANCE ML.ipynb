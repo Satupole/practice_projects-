{
 "cells": [
  {
   "cell_type": "markdown",
   "id": "8c6b121b",
   "metadata": {},
   "source": [
    "Health insurance is a type of insurance that covers medical expenses that arise due to an illness. These expenses could be related to hospitalisation costs, cost of medicines or doctor consultation fees. The main purpose of medical insurance is to receive the best medical care without any strain on your finances. Health insurance plans offer protection against high medical costs. It covers hospitalization expenses, day care procedures, domiciliary expenses, and ambulance charges, besides many others. Based on certain input features such as age , bmi,,no of dependents ,smoker ,region  medical insurance is calculated .\n",
    "\n",
    "Columns                                            \n",
    "\n",
    "·         age: age of primary beneficiary\n",
    "\n",
    "·         sex: insurance contractor gender, female, male\n",
    "\n",
    "·       bmi: Body mass index, providing an understanding of body, weights that are relatively high or low relative to height, objective index of body weight (kg / m ^ 2) using the ratio of height to weight, ideally 18.5 to 24.9.\n",
    "\n",
    "·       children: Number of children covered by health insurance / Number of dependents\n",
    "\n",
    "·     smoker: Smoking\n",
    "\n",
    "·      region: the beneficiary's residential area in the US, northeast, southeast, southwest, northwest.\n",
    "\n",
    "·     charges: Individual medical costs billed by health insurance\n",
    "\n",
    "Predict : Charges  Can you accurately predict insurance costs?"
   ]
  },
  {
   "cell_type": "code",
   "execution_count": 145,
   "id": "92fdba5d",
   "metadata": {},
   "outputs": [],
   "source": [
    "import pandas as pd #importing pandas library\n",
    "import numpy as np #importing numpy library\n",
    "\n",
    "#importing warnings\n",
    "import warnings\n",
    "warnings.filterwarnings('ignore')"
   ]
  },
  {
   "cell_type": "code",
   "execution_count": 146,
   "id": "acd264d5",
   "metadata": {},
   "outputs": [
    {
     "data": {
      "text/html": [
       "<div>\n",
       "<style scoped>\n",
       "    .dataframe tbody tr th:only-of-type {\n",
       "        vertical-align: middle;\n",
       "    }\n",
       "\n",
       "    .dataframe tbody tr th {\n",
       "        vertical-align: top;\n",
       "    }\n",
       "\n",
       "    .dataframe thead th {\n",
       "        text-align: right;\n",
       "    }\n",
       "</style>\n",
       "<table border=\"1\" class=\"dataframe\">\n",
       "  <thead>\n",
       "    <tr style=\"text-align: right;\">\n",
       "      <th></th>\n",
       "      <th>age</th>\n",
       "      <th>sex</th>\n",
       "      <th>bmi</th>\n",
       "      <th>children</th>\n",
       "      <th>smoker</th>\n",
       "      <th>region</th>\n",
       "      <th>charges</th>\n",
       "    </tr>\n",
       "  </thead>\n",
       "  <tbody>\n",
       "    <tr>\n",
       "      <th>0</th>\n",
       "      <td>19</td>\n",
       "      <td>female</td>\n",
       "      <td>27.900</td>\n",
       "      <td>0</td>\n",
       "      <td>yes</td>\n",
       "      <td>southwest</td>\n",
       "      <td>16884.92400</td>\n",
       "    </tr>\n",
       "    <tr>\n",
       "      <th>1</th>\n",
       "      <td>18</td>\n",
       "      <td>male</td>\n",
       "      <td>33.770</td>\n",
       "      <td>1</td>\n",
       "      <td>no</td>\n",
       "      <td>southeast</td>\n",
       "      <td>1725.55230</td>\n",
       "    </tr>\n",
       "    <tr>\n",
       "      <th>2</th>\n",
       "      <td>28</td>\n",
       "      <td>male</td>\n",
       "      <td>33.000</td>\n",
       "      <td>3</td>\n",
       "      <td>no</td>\n",
       "      <td>southeast</td>\n",
       "      <td>4449.46200</td>\n",
       "    </tr>\n",
       "    <tr>\n",
       "      <th>3</th>\n",
       "      <td>33</td>\n",
       "      <td>male</td>\n",
       "      <td>22.705</td>\n",
       "      <td>0</td>\n",
       "      <td>no</td>\n",
       "      <td>northwest</td>\n",
       "      <td>21984.47061</td>\n",
       "    </tr>\n",
       "    <tr>\n",
       "      <th>4</th>\n",
       "      <td>32</td>\n",
       "      <td>male</td>\n",
       "      <td>28.880</td>\n",
       "      <td>0</td>\n",
       "      <td>no</td>\n",
       "      <td>northwest</td>\n",
       "      <td>3866.85520</td>\n",
       "    </tr>\n",
       "    <tr>\n",
       "      <th>...</th>\n",
       "      <td>...</td>\n",
       "      <td>...</td>\n",
       "      <td>...</td>\n",
       "      <td>...</td>\n",
       "      <td>...</td>\n",
       "      <td>...</td>\n",
       "      <td>...</td>\n",
       "    </tr>\n",
       "    <tr>\n",
       "      <th>1333</th>\n",
       "      <td>50</td>\n",
       "      <td>male</td>\n",
       "      <td>30.970</td>\n",
       "      <td>3</td>\n",
       "      <td>no</td>\n",
       "      <td>northwest</td>\n",
       "      <td>10600.54830</td>\n",
       "    </tr>\n",
       "    <tr>\n",
       "      <th>1334</th>\n",
       "      <td>18</td>\n",
       "      <td>female</td>\n",
       "      <td>31.920</td>\n",
       "      <td>0</td>\n",
       "      <td>no</td>\n",
       "      <td>northeast</td>\n",
       "      <td>2205.98080</td>\n",
       "    </tr>\n",
       "    <tr>\n",
       "      <th>1335</th>\n",
       "      <td>18</td>\n",
       "      <td>female</td>\n",
       "      <td>36.850</td>\n",
       "      <td>0</td>\n",
       "      <td>no</td>\n",
       "      <td>southeast</td>\n",
       "      <td>1629.83350</td>\n",
       "    </tr>\n",
       "    <tr>\n",
       "      <th>1336</th>\n",
       "      <td>21</td>\n",
       "      <td>female</td>\n",
       "      <td>25.800</td>\n",
       "      <td>0</td>\n",
       "      <td>no</td>\n",
       "      <td>southwest</td>\n",
       "      <td>2007.94500</td>\n",
       "    </tr>\n",
       "    <tr>\n",
       "      <th>1337</th>\n",
       "      <td>61</td>\n",
       "      <td>female</td>\n",
       "      <td>29.070</td>\n",
       "      <td>0</td>\n",
       "      <td>yes</td>\n",
       "      <td>northwest</td>\n",
       "      <td>29141.36030</td>\n",
       "    </tr>\n",
       "  </tbody>\n",
       "</table>\n",
       "<p>1338 rows × 7 columns</p>\n",
       "</div>"
      ],
      "text/plain": [
       "      age     sex     bmi  children smoker     region      charges\n",
       "0      19  female  27.900         0    yes  southwest  16884.92400\n",
       "1      18    male  33.770         1     no  southeast   1725.55230\n",
       "2      28    male  33.000         3     no  southeast   4449.46200\n",
       "3      33    male  22.705         0     no  northwest  21984.47061\n",
       "4      32    male  28.880         0     no  northwest   3866.85520\n",
       "...   ...     ...     ...       ...    ...        ...          ...\n",
       "1333   50    male  30.970         3     no  northwest  10600.54830\n",
       "1334   18  female  31.920         0     no  northeast   2205.98080\n",
       "1335   18  female  36.850         0     no  southeast   1629.83350\n",
       "1336   21  female  25.800         0     no  southwest   2007.94500\n",
       "1337   61  female  29.070         0    yes  northwest  29141.36030\n",
       "\n",
       "[1338 rows x 7 columns]"
      ]
     },
     "execution_count": 146,
     "metadata": {},
     "output_type": "execute_result"
    }
   ],
   "source": [
    "#importing dataset\n",
    "data=pd.read_csv('medical_cost_insurance.txt')\n",
    "data"
   ]
  },
  {
   "cell_type": "code",
   "execution_count": 147,
   "id": "7e519907",
   "metadata": {},
   "outputs": [
    {
     "data": {
      "text/plain": [
       "(1338, 7)"
      ]
     },
     "execution_count": 147,
     "metadata": {},
     "output_type": "execute_result"
    }
   ],
   "source": [
    "data.shape"
   ]
  },
  {
   "cell_type": "markdown",
   "id": "0cb5e8f9",
   "metadata": {},
   "source": [
    "- the dataset has 1338 rows and 7 columns.Of those 7 columns 'charges' column is considered label.  \n"
   ]
  },
  {
   "cell_type": "code",
   "execution_count": 148,
   "id": "da266586",
   "metadata": {},
   "outputs": [
    {
     "data": {
      "text/plain": [
       "age         0\n",
       "sex         0\n",
       "bmi         0\n",
       "children    0\n",
       "smoker      0\n",
       "region      0\n",
       "charges     0\n",
       "dtype: int64"
      ]
     },
     "execution_count": 148,
     "metadata": {},
     "output_type": "execute_result"
    }
   ],
   "source": [
    "#checking for null values in dataset\n",
    "data.isnull().sum() "
   ]
  },
  {
   "cell_type": "markdown",
   "id": "df924954",
   "metadata": {},
   "source": [
    "There are no null values in dataset."
   ]
  },
  {
   "cell_type": "markdown",
   "id": "79230ae6",
   "metadata": {},
   "source": [
    "# converting categorical data into numerical data using .replace method in using pandas\n"
   ]
  },
  {
   "cell_type": "code",
   "execution_count": 149,
   "id": "faa89933",
   "metadata": {},
   "outputs": [],
   "source": [
    "df=data.replace({'sex':{'male':0,'female':1},\n",
    "                  'smoker':{'yes':1,'no':0},\n",
    "                'region':{'northeast':0,'southeast':1,'southwest':2,'northwest':3}})"
   ]
  },
  {
   "cell_type": "code",
   "execution_count": 150,
   "id": "82f6d617",
   "metadata": {},
   "outputs": [
    {
     "data": {
      "text/html": [
       "<div>\n",
       "<style scoped>\n",
       "    .dataframe tbody tr th:only-of-type {\n",
       "        vertical-align: middle;\n",
       "    }\n",
       "\n",
       "    .dataframe tbody tr th {\n",
       "        vertical-align: top;\n",
       "    }\n",
       "\n",
       "    .dataframe thead th {\n",
       "        text-align: right;\n",
       "    }\n",
       "</style>\n",
       "<table border=\"1\" class=\"dataframe\">\n",
       "  <thead>\n",
       "    <tr style=\"text-align: right;\">\n",
       "      <th></th>\n",
       "      <th>age</th>\n",
       "      <th>sex</th>\n",
       "      <th>bmi</th>\n",
       "      <th>children</th>\n",
       "      <th>smoker</th>\n",
       "      <th>region</th>\n",
       "      <th>charges</th>\n",
       "    </tr>\n",
       "  </thead>\n",
       "  <tbody>\n",
       "    <tr>\n",
       "      <th>0</th>\n",
       "      <td>19</td>\n",
       "      <td>1</td>\n",
       "      <td>27.900</td>\n",
       "      <td>0</td>\n",
       "      <td>1</td>\n",
       "      <td>2</td>\n",
       "      <td>16884.92400</td>\n",
       "    </tr>\n",
       "    <tr>\n",
       "      <th>1</th>\n",
       "      <td>18</td>\n",
       "      <td>0</td>\n",
       "      <td>33.770</td>\n",
       "      <td>1</td>\n",
       "      <td>0</td>\n",
       "      <td>1</td>\n",
       "      <td>1725.55230</td>\n",
       "    </tr>\n",
       "    <tr>\n",
       "      <th>2</th>\n",
       "      <td>28</td>\n",
       "      <td>0</td>\n",
       "      <td>33.000</td>\n",
       "      <td>3</td>\n",
       "      <td>0</td>\n",
       "      <td>1</td>\n",
       "      <td>4449.46200</td>\n",
       "    </tr>\n",
       "    <tr>\n",
       "      <th>3</th>\n",
       "      <td>33</td>\n",
       "      <td>0</td>\n",
       "      <td>22.705</td>\n",
       "      <td>0</td>\n",
       "      <td>0</td>\n",
       "      <td>3</td>\n",
       "      <td>21984.47061</td>\n",
       "    </tr>\n",
       "    <tr>\n",
       "      <th>4</th>\n",
       "      <td>32</td>\n",
       "      <td>0</td>\n",
       "      <td>28.880</td>\n",
       "      <td>0</td>\n",
       "      <td>0</td>\n",
       "      <td>3</td>\n",
       "      <td>3866.85520</td>\n",
       "    </tr>\n",
       "    <tr>\n",
       "      <th>...</th>\n",
       "      <td>...</td>\n",
       "      <td>...</td>\n",
       "      <td>...</td>\n",
       "      <td>...</td>\n",
       "      <td>...</td>\n",
       "      <td>...</td>\n",
       "      <td>...</td>\n",
       "    </tr>\n",
       "    <tr>\n",
       "      <th>1333</th>\n",
       "      <td>50</td>\n",
       "      <td>0</td>\n",
       "      <td>30.970</td>\n",
       "      <td>3</td>\n",
       "      <td>0</td>\n",
       "      <td>3</td>\n",
       "      <td>10600.54830</td>\n",
       "    </tr>\n",
       "    <tr>\n",
       "      <th>1334</th>\n",
       "      <td>18</td>\n",
       "      <td>1</td>\n",
       "      <td>31.920</td>\n",
       "      <td>0</td>\n",
       "      <td>0</td>\n",
       "      <td>0</td>\n",
       "      <td>2205.98080</td>\n",
       "    </tr>\n",
       "    <tr>\n",
       "      <th>1335</th>\n",
       "      <td>18</td>\n",
       "      <td>1</td>\n",
       "      <td>36.850</td>\n",
       "      <td>0</td>\n",
       "      <td>0</td>\n",
       "      <td>1</td>\n",
       "      <td>1629.83350</td>\n",
       "    </tr>\n",
       "    <tr>\n",
       "      <th>1336</th>\n",
       "      <td>21</td>\n",
       "      <td>1</td>\n",
       "      <td>25.800</td>\n",
       "      <td>0</td>\n",
       "      <td>0</td>\n",
       "      <td>2</td>\n",
       "      <td>2007.94500</td>\n",
       "    </tr>\n",
       "    <tr>\n",
       "      <th>1337</th>\n",
       "      <td>61</td>\n",
       "      <td>1</td>\n",
       "      <td>29.070</td>\n",
       "      <td>0</td>\n",
       "      <td>1</td>\n",
       "      <td>3</td>\n",
       "      <td>29141.36030</td>\n",
       "    </tr>\n",
       "  </tbody>\n",
       "</table>\n",
       "<p>1338 rows × 7 columns</p>\n",
       "</div>"
      ],
      "text/plain": [
       "      age  sex     bmi  children  smoker  region      charges\n",
       "0      19    1  27.900         0       1       2  16884.92400\n",
       "1      18    0  33.770         1       0       1   1725.55230\n",
       "2      28    0  33.000         3       0       1   4449.46200\n",
       "3      33    0  22.705         0       0       3  21984.47061\n",
       "4      32    0  28.880         0       0       3   3866.85520\n",
       "...   ...  ...     ...       ...     ...     ...          ...\n",
       "1333   50    0  30.970         3       0       3  10600.54830\n",
       "1334   18    1  31.920         0       0       0   2205.98080\n",
       "1335   18    1  36.850         0       0       1   1629.83350\n",
       "1336   21    1  25.800         0       0       2   2007.94500\n",
       "1337   61    1  29.070         0       1       3  29141.36030\n",
       "\n",
       "[1338 rows x 7 columns]"
      ]
     },
     "execution_count": 150,
     "metadata": {},
     "output_type": "execute_result"
    }
   ],
   "source": [
    "df"
   ]
  },
  {
   "cell_type": "code",
   "execution_count": 151,
   "id": "b3f18450",
   "metadata": {},
   "outputs": [],
   "source": [
    "#importing libraries to plot graphs\n",
    "import seaborn as sns\n",
    "import matplotlib.pyplot as plt\n",
    "%matplotlib inline"
   ]
  },
  {
   "cell_type": "code",
   "execution_count": 152,
   "id": "cd7b850c",
   "metadata": {},
   "outputs": [
    {
     "data": {
      "text/plain": [
       "0    1064\n",
       "1     274\n",
       "Name: smoker, dtype: int64"
      ]
     },
     "execution_count": 152,
     "metadata": {},
     "output_type": "execute_result"
    }
   ],
   "source": [
    "#checking for different values and their counts in smoker column\n",
    "df['smoker'].value_counts()"
   ]
  },
  {
   "cell_type": "markdown",
   "id": "1efbe95a",
   "metadata": {},
   "source": [
    "this data conntains 1064 smoking and 274 non smoking people. \n",
    "Countplot for them is shown below"
   ]
  },
  {
   "cell_type": "code",
   "execution_count": 153,
   "id": "38fe90da",
   "metadata": {
    "scrolled": true
   },
   "outputs": [
    {
     "data": {
      "text/plain": [
       "<AxesSubplot:xlabel='smoker', ylabel='count'>"
      ]
     },
     "execution_count": 153,
     "metadata": {},
     "output_type": "execute_result"
    },
    {
     "data": {
      "image/png": "[encoded data removed]",
      "text/plain": [
       "<Figure size 432x288 with 1 Axes>"
      ]
     },
     "metadata": {
      "needs_background": "light"
     },
     "output_type": "display_data"
    }
   ],
   "source": [
    "#plotting countplot for smoker's data\n",
    "sns.countplot(df['smoker'])"
   ]
  },
  {
   "cell_type": "code",
   "execution_count": 154,
   "id": "94b93426",
   "metadata": {},
   "outputs": [
    {
     "data": {
      "text/plain": [
       "0    676\n",
       "1    662\n",
       "Name: sex, dtype: int64"
      ]
     },
     "execution_count": 154,
     "metadata": {},
     "output_type": "execute_result"
    }
   ],
   "source": [
    "#checking for different values and their counts in sex column\n",
    "df['sex'].value_counts()"
   ]
  },
  {
   "cell_type": "markdown",
   "id": "2e906a5f",
   "metadata": {},
   "source": [
    "there are 676 males and 662 females data in this dataset. \n",
    "\n",
    "Countplot of their data is shown below"
   ]
  },
  {
   "cell_type": "code",
   "execution_count": 155,
   "id": "d7508d78",
   "metadata": {},
   "outputs": [
    {
     "data": {
      "text/plain": [
       "<AxesSubplot:xlabel='sex', ylabel='count'>"
      ]
     },
     "execution_count": 155,
     "metadata": {},
     "output_type": "execute_result"
    },
    {
     "data": {
      "image/png": "[encoded data removed]",
      "text/plain": [
       "<Figure size 432x288 with 1 Axes>"
      ]
     },
     "metadata": {
      "needs_background": "light"
     },
     "output_type": "display_data"
    }
   ],
   "source": [
    "#plotting countplot for gender data\n",
    "sns.countplot(df['sex'])"
   ]
  },
  {
   "cell_type": "code",
   "execution_count": 156,
   "id": "1dc2f2cd",
   "metadata": {},
   "outputs": [
    {
     "data": {
      "text/plain": [
       "0    574\n",
       "1    324\n",
       "2    240\n",
       "3    157\n",
       "4     25\n",
       "5     18\n",
       "Name: children, dtype: int64"
      ]
     },
     "execution_count": 156,
     "metadata": {},
     "output_type": "execute_result"
    }
   ],
   "source": [
    "#checking count of no. of children covered under health insurance\n",
    "df['children'].value_counts()"
   ]
  },
  {
   "cell_type": "markdown",
   "id": "aab4cc57",
   "metadata": {},
   "source": [
    "- 574 people do not have their children insured, \n",
    "- 324 people has 1 of their children insured\n",
    "- 240 people has 2 of their children insured\n",
    "- 157 people has 3 of their children insured\n",
    "- 25 people has 4 of their children insured\n",
    "- 18 people has 5 of their children insured\n",
    "- Count plot is shown below for children in family who are health insured"
   ]
  },
  {
   "cell_type": "code",
   "execution_count": 157,
   "id": "2841d335",
   "metadata": {
    "scrolled": true
   },
   "outputs": [
    {
     "data": {
      "text/plain": [
       "<AxesSubplot:xlabel='children', ylabel='count'>"
      ]
     },
     "execution_count": 157,
     "metadata": {},
     "output_type": "execute_result"
    },
    {
     "data": {
      "image/png": "[encoded data removed]",
      "text/plain": [
       "<Figure size 432x288 with 1 Axes>"
      ]
     },
     "metadata": {
      "needs_background": "light"
     },
     "output_type": "display_data"
    }
   ],
   "source": [
    "sns.countplot(df['children'])"
   ]
  },
  {
   "cell_type": "markdown",
   "id": "33c7448a",
   "metadata": {},
   "source": [
    "# describing the dataset"
   ]
  },
  {
   "cell_type": "code",
   "execution_count": 158,
   "id": "c9e9e8b9",
   "metadata": {},
   "outputs": [
    {
     "data": {
      "text/html": [
       "<div>\n",
       "<style scoped>\n",
       "    .dataframe tbody tr th:only-of-type {\n",
       "        vertical-align: middle;\n",
       "    }\n",
       "\n",
       "    .dataframe tbody tr th {\n",
       "        vertical-align: top;\n",
       "    }\n",
       "\n",
       "    .dataframe thead th {\n",
       "        text-align: right;\n",
       "    }\n",
       "</style>\n",
       "<table border=\"1\" class=\"dataframe\">\n",
       "  <thead>\n",
       "    <tr style=\"text-align: right;\">\n",
       "      <th></th>\n",
       "      <th>age</th>\n",
       "      <th>sex</th>\n",
       "      <th>bmi</th>\n",
       "      <th>children</th>\n",
       "      <th>smoker</th>\n",
       "      <th>region</th>\n",
       "      <th>charges</th>\n",
       "    </tr>\n",
       "  </thead>\n",
       "  <tbody>\n",
       "    <tr>\n",
       "      <th>count</th>\n",
       "      <td>1338.000000</td>\n",
       "      <td>1338.000000</td>\n",
       "      <td>1338.000000</td>\n",
       "      <td>1338.000000</td>\n",
       "      <td>1338.000000</td>\n",
       "      <td>1338.000000</td>\n",
       "      <td>1338.000000</td>\n",
       "    </tr>\n",
       "    <tr>\n",
       "      <th>mean</th>\n",
       "      <td>39.207025</td>\n",
       "      <td>0.494768</td>\n",
       "      <td>30.663397</td>\n",
       "      <td>1.094918</td>\n",
       "      <td>0.204783</td>\n",
       "      <td>1.486547</td>\n",
       "      <td>13270.422265</td>\n",
       "    </tr>\n",
       "    <tr>\n",
       "      <th>std</th>\n",
       "      <td>14.049960</td>\n",
       "      <td>0.500160</td>\n",
       "      <td>6.098187</td>\n",
       "      <td>1.205493</td>\n",
       "      <td>0.403694</td>\n",
       "      <td>1.104915</td>\n",
       "      <td>12110.011237</td>\n",
       "    </tr>\n",
       "    <tr>\n",
       "      <th>min</th>\n",
       "      <td>18.000000</td>\n",
       "      <td>0.000000</td>\n",
       "      <td>15.960000</td>\n",
       "      <td>0.000000</td>\n",
       "      <td>0.000000</td>\n",
       "      <td>0.000000</td>\n",
       "      <td>1121.873900</td>\n",
       "    </tr>\n",
       "    <tr>\n",
       "      <th>25%</th>\n",
       "      <td>27.000000</td>\n",
       "      <td>0.000000</td>\n",
       "      <td>26.296250</td>\n",
       "      <td>0.000000</td>\n",
       "      <td>0.000000</td>\n",
       "      <td>1.000000</td>\n",
       "      <td>4740.287150</td>\n",
       "    </tr>\n",
       "    <tr>\n",
       "      <th>50%</th>\n",
       "      <td>39.000000</td>\n",
       "      <td>0.000000</td>\n",
       "      <td>30.400000</td>\n",
       "      <td>1.000000</td>\n",
       "      <td>0.000000</td>\n",
       "      <td>1.000000</td>\n",
       "      <td>9382.033000</td>\n",
       "    </tr>\n",
       "    <tr>\n",
       "      <th>75%</th>\n",
       "      <td>51.000000</td>\n",
       "      <td>1.000000</td>\n",
       "      <td>34.693750</td>\n",
       "      <td>2.000000</td>\n",
       "      <td>0.000000</td>\n",
       "      <td>2.000000</td>\n",
       "      <td>16639.912515</td>\n",
       "    </tr>\n",
       "    <tr>\n",
       "      <th>max</th>\n",
       "      <td>64.000000</td>\n",
       "      <td>1.000000</td>\n",
       "      <td>53.130000</td>\n",
       "      <td>5.000000</td>\n",
       "      <td>1.000000</td>\n",
       "      <td>3.000000</td>\n",
       "      <td>63770.428010</td>\n",
       "    </tr>\n",
       "  </tbody>\n",
       "</table>\n",
       "</div>"
      ],
      "text/plain": [
       "               age          sex          bmi     children       smoker  \\\n",
       "count  1338.000000  1338.000000  1338.000000  1338.000000  1338.000000   \n",
       "mean     39.207025     0.494768    30.663397     1.094918     0.204783   \n",
       "std      14.049960     0.500160     6.098187     1.205493     0.403694   \n",
       "min      18.000000     0.000000    15.960000     0.000000     0.000000   \n",
       "25%      27.000000     0.000000    26.296250     0.000000     0.000000   \n",
       "50%      39.000000     0.000000    30.400000     1.000000     0.000000   \n",
       "75%      51.000000     1.000000    34.693750     2.000000     0.000000   \n",
       "max      64.000000     1.000000    53.130000     5.000000     1.000000   \n",
       "\n",
       "            region       charges  \n",
       "count  1338.000000   1338.000000  \n",
       "mean      1.486547  13270.422265  \n",
       "std       1.104915  12110.011237  \n",
       "min       0.000000   1121.873900  \n",
       "25%       1.000000   4740.287150  \n",
       "50%       1.000000   9382.033000  \n",
       "75%       2.000000  16639.912515  \n",
       "max       3.000000  63770.428010  "
      ]
     },
     "execution_count": 158,
     "metadata": {},
     "output_type": "execute_result"
    }
   ],
   "source": [
    "df.describe()"
   ]
  },
  {
   "cell_type": "markdown",
   "id": "570dab6f",
   "metadata": {},
   "source": [
    "- Age: The persons data recorded in this column are with max. age of 64 years and min. age of 18years.\n",
    "- bmi: It is a countinuous form of data with max.bmi as 53.13 units and min. bmi of 15.96 units.Mean of bmi is 30.66 units   which shows that most person have bmi in that range.\n",
    "- As specified earlier children,smoker and region colums are categorical in nature.\n",
    "- charges: This is label which shows amount of money billed by health insurance to individual.\n",
    "  63770.42 USD is the highest insurance amount and 1121.87 USD being the lowest insurance amounnt billed to individual."
   ]
  },
  {
   "cell_type": "markdown",
   "id": "3b20f642",
   "metadata": {},
   "source": [
    "# Region wise bar plot w.r.t. medical costs (charges) for smoker and non smoker"
   ]
  },
  {
   "cell_type": "code",
   "execution_count": 159,
   "id": "9deb2d51",
   "metadata": {},
   "outputs": [
    {
     "data": {
      "image/png": "[encoded data removed]",
      "text/plain": [
       "<Figure size 432x288 with 1 Axes>"
      ]
     },
     "metadata": {
      "needs_background": "light"
     },
     "output_type": "display_data"
    }
   ],
   "source": [
    "sns.barplot(x='region',y='charges',data=df,hue='smoker')\n",
    "plt.show()"
   ]
  },
  {
   "cell_type": "markdown",
   "id": "583d2409",
   "metadata": {},
   "source": [
    "Values :\n",
    "- smoker: 1 for smoker and 0 for non smoker\n",
    "- region:  0 for northeast ,1 for southeast,2 for southwest,3 for northwest\n",
    "\n",
    "Obesrvations:\n",
    "- The plot shows that smokers have high medical costs then non smokers and this trend is same for all regions.\n",
    "- Above bar plot shows that maximum concentration of smokers is in southeast region with high medical costs\n",
    "- Followed by southwest region and the by northwest  and northeast region."
   ]
  },
  {
   "cell_type": "markdown",
   "id": "548223c5",
   "metadata": {},
   "source": [
    "# Region wise bar plot w.r.t.medical costs(charges) for male and female"
   ]
  },
  {
   "cell_type": "code",
   "execution_count": 160,
   "id": "d08f43aa",
   "metadata": {},
   "outputs": [
    {
     "data": {
      "image/png": "[encoded data removed]",
      "text/plain": [
       "<Figure size 432x288 with 1 Axes>"
      ]
     },
     "metadata": {
      "needs_background": "light"
     },
     "output_type": "display_data"
    }
   ],
   "source": [
    "sns.barplot(x='region',y='charges',hue='sex',data=df)\n",
    "plt.show()"
   ]
  },
  {
   "cell_type": "markdown",
   "id": "fb408fe8",
   "metadata": {},
   "source": [
    "Values:\n",
    "- sex: 0 for male and 1 for female\n",
    "\n",
    "Observations:\n",
    "- The plot shows that medical costs are more or equal to for women than men in all 4 regions.\n",
    "\n",
    "        "
   ]
  },
  {
   "cell_type": "markdown",
   "id": "edfa3848",
   "metadata": {},
   "source": [
    "# Age wise bar plot wrt to charges"
   ]
  },
  {
   "cell_type": "code",
   "execution_count": 161,
   "id": "d76cdee3",
   "metadata": {
    "scrolled": true
   },
   "outputs": [
    {
     "data": {
      "text/plain": [
       "<AxesSubplot:xlabel='age', ylabel='charges'>"
      ]
     },
     "execution_count": 161,
     "metadata": {},
     "output_type": "execute_result"
    },
    {
     "data": {
      "image/png": "[encoded data removed]",
      "text/plain": [
       "<Figure size 3600x1080 with 1 Axes>"
      ]
     },
     "metadata": {
      "needs_background": "light"
     },
     "output_type": "display_data"
    }
   ],
   "source": [
    "plt.figure(figsize=(50,15))\n",
    "sns.barplot(x='age',y='charges',data=df)"
   ]
  },
  {
   "cell_type": "markdown",
   "id": "3d16c23f",
   "metadata": {},
   "source": [
    "Observations:\n",
    "- the above plot shows that there is a good relation between Age and charges which implies that as age increases medical costs also increases.    "
   ]
  },
  {
   "cell_type": "markdown",
   "id": "48101077",
   "metadata": {},
   "source": [
    "# Plotting heatmap to show correlation between features and label"
   ]
  },
  {
   "cell_type": "code",
   "execution_count": 162,
   "id": "1254a5c7",
   "metadata": {},
   "outputs": [
    {
     "data": {
      "text/plain": [
       "<AxesSubplot:>"
      ]
     },
     "execution_count": 162,
     "metadata": {},
     "output_type": "execute_result"
    },
    {
     "data": {
      "image/png": "[encoded data removed]",
      "text/plain": [
       "<Figure size 1080x720 with 2 Axes>"
      ]
     },
     "metadata": {
      "needs_background": "light"
     },
     "output_type": "display_data"
    }
   ],
   "source": [
    "plt.figure(figsize=(15,10))\n",
    "sns.heatmap(df.corr(),annot=True,fmt='.2f')"
   ]
  },
  {
   "cell_type": "markdown",
   "id": "73387eef",
   "metadata": {},
   "source": [
    "Observations from heatmap\n",
    "- It shows a good positive relation between smoker and charges.\n",
    "- age is having low relationship with charges which implies that age is not a promising factor in deciding insurance         premium, which seems odd as person seek more medical attention once they start geeting old.\n",
    "- region and sex have very low relationship with charges implying these are the lowest factors that predict insurance         costs.\n",
    "- there is no promising relationship within features"
   ]
  },
  {
   "cell_type": "markdown",
   "id": "307d977f",
   "metadata": {},
   "source": [
    "# to confirm the observations that are devised from heatmap following plots are plotted"
   ]
  },
  {
   "cell_type": "code",
   "execution_count": 163,
   "id": "869fcd6c",
   "metadata": {
    "scrolled": true
   },
   "outputs": [
    {
     "data": {
      "text/plain": [
       "<AxesSubplot:xlabel='smoker', ylabel='charges'>"
      ]
     },
     "execution_count": 163,
     "metadata": {},
     "output_type": "execute_result"
    },
    {
     "data": {
      "image/png": "[encoded data removed]",
      "text/plain": [
       "<Figure size 432x288 with 1 Axes>"
      ]
     },
     "metadata": {
      "needs_background": "light"
     },
     "output_type": "display_data"
    }
   ],
   "source": [
    "#scatter plot between smoker/non smoker and charges\n",
    "sns.scatterplot(x='smoker',y='charges',data=df)"
   ]
  },
  {
   "cell_type": "markdown",
   "id": "b38aebd5",
   "metadata": {},
   "source": [
    "Observation:\n",
    "- As seen in heatmap, scatter plot shows that smoker person will pay more insurance amount compared to non smoker as smoker tend to get diseases faster.\n"
   ]
  },
  {
   "cell_type": "code",
   "execution_count": 164,
   "id": "e2fd8b1a",
   "metadata": {},
   "outputs": [
    {
     "data": {
      "text/plain": [
       "<AxesSubplot:xlabel='bmi', ylabel='charges'>"
      ]
     },
     "execution_count": 164,
     "metadata": {},
     "output_type": "execute_result"
    },
    {
     "data": {
      "image/png": "[encoded data removed]",
      "text/plain": [
       "<Figure size 432x288 with 1 Axes>"
      ]
     },
     "metadata": {
      "needs_background": "light"
     },
     "output_type": "display_data"
    }
   ],
   "source": [
    "#plotting scatter plot for BMI wrt. to charges\n",
    "sns.scatterplot(x='bmi',y='charges',data=df,hue='bmi')"
   ]
  },
  {
   "cell_type": "markdown",
   "id": "320eae28",
   "metadata": {},
   "source": [
    "Observations:\n",
    "- The above plot shows that, the light shaded points are located in lower left region implying that medical costs are low for people with normal BMI value(*18.5 to 24.9 is considered normal BMI value)\n",
    "- As the BMI value increases, the medical costs increases as person is prone to various diseases.This can be seen with dark   hue points in plot."
   ]
  },
  {
   "cell_type": "code",
   "execution_count": 165,
   "id": "38fbbc80",
   "metadata": {},
   "outputs": [
    {
     "data": {
      "text/plain": [
       "<AxesSubplot:xlabel='age', ylabel='charges'>"
      ]
     },
     "execution_count": 165,
     "metadata": {},
     "output_type": "execute_result"
    },
    {
     "data": {
      "image/png": "[encoded data removed]",
      "text/plain": [
       "<Figure size 432x288 with 1 Axes>"
      ]
     },
     "metadata": {
      "needs_background": "light"
     },
     "output_type": "display_data"
    }
   ],
   "source": [
    "#plotting scatter plot for BMI wrt. to charges\n",
    "sns.scatterplot(x='age',y='charges',data=df,hue='sex')"
   ]
  },
  {
   "cell_type": "markdown",
   "id": "96428068",
   "metadata": {},
   "source": [
    "Observation:\n",
    "- There is a positive relationship between Age and medical charges indicating that as person gets old he seeks more medical advice resulting in higher insurance costs."
   ]
  },
  {
   "cell_type": "code",
   "execution_count": 166,
   "id": "cbecfef5",
   "metadata": {},
   "outputs": [
    {
     "data": {
      "text/plain": [
       "<AxesSubplot:xlabel='bmi', ylabel='Density'>"
      ]
     },
     "execution_count": 166,
     "metadata": {},
     "output_type": "execute_result"
    },
    {
     "data": {
      "image/png": "[encoded data removed]",
      "text/plain": [
       "<Figure size 432x288 with 1 Axes>"
      ]
     },
     "metadata": {
      "needs_background": "light"
     },
     "output_type": "display_data"
    }
   ],
   "source": [
    "#since BMI is continuous data we can plot displot to check its skewness\n",
    "sns.distplot(df['bmi'])"
   ]
  },
  {
   "cell_type": "markdown",
   "id": "f359c11a",
   "metadata": {},
   "source": [
    "observation:\n",
    "- The plot shows perfect bell shaped curve implying there is little or no skewness in this column    "
   ]
  },
  {
   "cell_type": "code",
   "execution_count": 167,
   "id": "8d701cd7",
   "metadata": {},
   "outputs": [
    {
     "data": {
      "image/png": "[encoded data removed]",
      "text/plain": [
       "<Figure size 432x288 with 1 Axes>"
      ]
     },
     "metadata": {
      "needs_background": "light"
     },
     "output_type": "display_data"
    }
   ],
   "source": [
    "#checking for outliers in BMI column\n",
    "sns.boxplot(df['bmi'])\n",
    "plt.show()"
   ]
  },
  {
   "cell_type": "markdown",
   "id": "c4b464f5",
   "metadata": {},
   "source": [
    "Observation:\n",
    "- As per my opinion outliers shown in plot should not be removed as BMI value can be higher in some persons, hence not applying z score method for removing outliers"
   ]
  },
  {
   "cell_type": "markdown",
   "id": "9ee451fe",
   "metadata": {},
   "source": [
    "# As features given are very low in number and they show very low(sex,region) to higher(smoker) relationship to label, hence not dropping any of the columns and moving forward with model building part."
   ]
  },
  {
   "cell_type": "code",
   "execution_count": 168,
   "id": "5b8adfd0",
   "metadata": {},
   "outputs": [],
   "source": [
    "#importing library that standardize the data\n",
    "from sklearn.preprocessing import StandardScaler"
   ]
  },
  {
   "cell_type": "code",
   "execution_count": 169,
   "id": "aeb1cbc8",
   "metadata": {},
   "outputs": [],
   "source": [
    "scaler=StandardScaler()"
   ]
  },
  {
   "cell_type": "markdown",
   "id": "a4b17f7f",
   "metadata": {},
   "source": [
    "# splitting data into features and labels"
   ]
  },
  {
   "cell_type": "code",
   "execution_count": 170,
   "id": "f40469dc",
   "metadata": {},
   "outputs": [],
   "source": [
    "x=df.drop('charges',axis=1) #consists of only features\n",
    "y=df['charges'] # consists of only label column"
   ]
  },
  {
   "cell_type": "code",
   "execution_count": 171,
   "id": "5c8c2d10",
   "metadata": {},
   "outputs": [
    {
     "name": "stdout",
     "output_type": "stream",
     "text": [
      "      age  sex     bmi  children  smoker  region\n",
      "0      19    1  27.900         0       1       2\n",
      "1      18    0  33.770         1       0       1\n",
      "2      28    0  33.000         3       0       1\n",
      "3      33    0  22.705         0       0       3\n",
      "4      32    0  28.880         0       0       3\n",
      "...   ...  ...     ...       ...     ...     ...\n",
      "1333   50    0  30.970         3       0       3\n",
      "1334   18    1  31.920         0       0       0\n",
      "1335   18    1  36.850         0       0       1\n",
      "1336   21    1  25.800         0       0       2\n",
      "1337   61    1  29.070         0       1       3\n",
      "\n",
      "[1338 rows x 6 columns]\n"
     ]
    }
   ],
   "source": [
    "#printing only features\n",
    "\n",
    "print(x)   "
   ]
  },
  {
   "cell_type": "code",
   "execution_count": 172,
   "id": "3b199d40",
   "metadata": {},
   "outputs": [
    {
     "name": "stdout",
     "output_type": "stream",
     "text": [
      "0       16884.92400\n",
      "1        1725.55230\n",
      "2        4449.46200\n",
      "3       21984.47061\n",
      "4        3866.85520\n",
      "           ...     \n",
      "1333    10600.54830\n",
      "1334     2205.98080\n",
      "1335     1629.83350\n",
      "1336     2007.94500\n",
      "1337    29141.36030\n",
      "Name: charges, Length: 1338, dtype: float64\n"
     ]
    }
   ],
   "source": [
    "#printing only label\n",
    "\n",
    "\n",
    "print(y)"
   ]
  },
  {
   "cell_type": "code",
   "execution_count": 173,
   "id": "b646bfdf",
   "metadata": {},
   "outputs": [
    {
     "data": {
      "text/plain": [
       "array([[-1.43876426,  1.0105187 , -0.45332   , -0.90861367,  1.97058663,\n",
       "         0.46487297],\n",
       "       [-1.50996545, -0.98959079,  0.5096211 , -0.07876719, -0.5074631 ,\n",
       "        -0.44051282],\n",
       "       [-0.79795355, -0.98959079,  0.38330685,  1.58092576, -0.5074631 ,\n",
       "        -0.44051282],\n",
       "       ...,\n",
       "       [-1.50996545,  1.0105187 ,  1.0148781 , -0.90861367, -0.5074631 ,\n",
       "        -0.44051282],\n",
       "       [-1.29636188,  1.0105187 , -0.79781341, -0.90861367, -0.5074631 ,\n",
       "         0.46487297],\n",
       "       [ 1.55168573,  1.0105187 , -0.26138796, -0.90861367,  1.97058663,\n",
       "         1.37025876]])"
      ]
     },
     "execution_count": 173,
     "metadata": {},
     "output_type": "execute_result"
    }
   ],
   "source": [
    "#stantardizing feature data\n",
    "\n",
    "x_scaled=scaler.fit_transform(x)\n",
    "\n",
    "x_scaled   #printing standardized feature data"
   ]
  },
  {
   "cell_type": "markdown",
   "id": "1bd9c0ec",
   "metadata": {},
   "source": [
    "# Using Linear regression to build model"
   ]
  },
  {
   "cell_type": "code",
   "execution_count": 174,
   "id": "2f639885",
   "metadata": {},
   "outputs": [],
   "source": [
    "#importing library for regression model\n",
    "from sklearn.linear_model import LinearRegression\n",
    "\n",
    "#importing r2 score\n",
    "from sklearn.metrics import r2_score\n",
    "\n",
    "#importing train test split\n",
    "from sklearn.model_selection import train_test_split\n",
    "\n",
    "from sklearn import metrics"
   ]
  },
  {
   "cell_type": "code",
   "execution_count": 175,
   "id": "05201a5a",
   "metadata": {},
   "outputs": [],
   "source": [
    "#assigning variable lr for linear regression model\n",
    "\n",
    "lr=LinearRegression() "
   ]
  },
  {
   "cell_type": "code",
   "execution_count": 176,
   "id": "1dbe81e7",
   "metadata": {},
   "outputs": [
    {
     "name": "stdout",
     "output_type": "stream",
     "text": [
      "training score is  73.2754763737192  for random state  0\n",
      "testing score is  79.53553122367146  for random state  0\n",
      "training score is  75.46030164001685  for random state  1\n",
      "testing score is  73.17081113612525  for random state  1\n",
      "training score is  74.96398954754177  for random state  2\n",
      "testing score is  74.83248109527155  for random state  2\n",
      "training score is  75.49930660471325  for random state  3\n",
      "testing score is  73.20208700439548  for random state  3\n",
      "training score is  76.17416220226141  for random state  4\n",
      "testing score is  71.08795319298355  for random state  4\n",
      "training score is  74.51612948651794  for random state  5\n",
      "testing score is  76.06278698161509  for random state  5\n",
      "training score is  73.99745555204873  for random state  6\n",
      "testing score is  78.00974475031869  for random state  6\n",
      "training score is  74.97222792212597  for random state  7\n",
      "testing score is  74.91179429160506  for random state  7\n",
      "training score is  75.02130297296807  for random state  8\n",
      "testing score is  74.45985821555895  for random state  8\n",
      "training score is  74.70883847050928  for random state  9\n",
      "testing score is  75.8538772325509  for random state  9\n",
      "training score is  75.94645521332536  for random state  10\n",
      "testing score is  71.48334680909821  for random state  10\n",
      "training score is  73.49597736688202  for random state  11\n",
      "testing score is  79.54903957409694  for random state  11\n",
      "training score is  76.71853049412324  for random state  12\n",
      "testing score is  68.92905224714498  for random state  12\n",
      "training score is  73.68674075215904  for random state  13\n",
      "testing score is  78.61035186010015  for random state  13\n",
      "training score is  75.05940270751512  for random state  14\n",
      "testing score is  74.68745134956347  for random state  14\n",
      "training score is  73.71366640172057  for random state  15\n",
      "testing score is  78.70552714517419  for random state  15\n",
      "training score is  75.4258888810224  for random state  16\n",
      "testing score is  73.50610112108788  for random state  16\n",
      "training score is  74.62916619872615  for random state  17\n",
      "testing score is  75.29623196515234  for random state  17\n",
      "training score is  73.86231591794976  for random state  18\n",
      "testing score is  77.70420987324628  for random state  18\n",
      "training score is  75.71232034699678  for random state  19\n",
      "testing score is  72.552993040441  for random state  19\n",
      "training score is  74.21913283126025  for random state  20\n",
      "testing score is  76.97939803465844  for random state  20\n",
      "training score is  76.01604714275958  for random state  21\n",
      "testing score is  71.29116801384572  for random state  21\n",
      "training score is  74.62017354929048  for random state  22\n",
      "testing score is  75.7569068957511  for random state  22\n",
      "training score is  75.49095882394512  for random state  23\n",
      "testing score is  72.7570420551251  for random state  23\n",
      "training score is  74.00984798604891  for random state  24\n",
      "testing score is  77.2247143442322  for random state  24\n",
      "training score is  74.34086534055912  for random state  25\n",
      "testing score is  76.68857866978988  for random state  25\n",
      "training score is  74.06119779959096  for random state  26\n",
      "testing score is  76.70831812359611  for random state  26\n",
      "training score is  74.55208069013291  for random state  27\n",
      "testing score is  76.00219470999052  for random state  27\n",
      "training score is  75.93257819644639  for random state  28\n",
      "testing score is  71.26125648885761  for random state  28\n",
      "training score is  75.89331254098886  for random state  29\n",
      "testing score is  72.06802641719466  for random state  29\n",
      "training score is  74.57818956743797  for random state  30\n",
      "testing score is  76.01588521885135  for random state  30\n",
      "training score is  76.16810555327771  for random state  31\n",
      "testing score is  70.45256868962025  for random state  31\n",
      "training score is  73.41252807368804  for random state  32\n",
      "testing score is  79.72962650607255  for random state  32\n",
      "training score is  75.19155312961267  for random state  33\n",
      "testing score is  74.18045516497315  for random state  33\n",
      "training score is  75.01522759407491  for random state  34\n",
      "testing score is  74.65044254703339  for random state  34\n",
      "training score is  76.00910410787878  for random state  35\n",
      "testing score is  71.9123393906178  for random state  35\n",
      "training score is  74.98574702660544  for random state  36\n",
      "testing score is  74.28889202492147  for random state  36\n",
      "training score is  75.65374893673624  for random state  37\n",
      "testing score is  71.98110098362778  for random state  37\n",
      "training score is  75.51227601917616  for random state  38\n",
      "testing score is  72.91569891245804  for random state  38\n",
      "training score is  74.77139669901796  for random state  39\n",
      "testing score is  75.53216819426709  for random state  39\n",
      "training score is  75.73860374213209  for random state  40\n",
      "testing score is  72.42091536062131  for random state  40\n",
      "training score is  75.59968204362428  for random state  41\n",
      "testing score is  71.8712909070549  for random state  41\n",
      "training score is  74.42821514204438  for random state  42\n",
      "testing score is  76.51406878763022  for random state  42\n",
      "training score is  75.66900063055274  for random state  43\n",
      "testing score is  72.51445532800824  for random state  43\n",
      "training score is  75.02376172067112  for random state  44\n",
      "testing score is  74.55463621177883  for random state  44\n",
      "training score is  76.17783814427717  for random state  45\n",
      "testing score is  70.42524628695122  for random state  45\n",
      "training score is  75.49683134551879  for random state  46\n",
      "testing score is  72.85215974075369  for random state  46\n",
      "training score is  73.9417800145541  for random state  47\n",
      "testing score is  77.67955387186962  for random state  47\n",
      "training score is  75.07018915662847  for random state  48\n",
      "testing score is  74.44916539909043  for random state  48\n",
      "training score is  74.5555580015771  for random state  49\n",
      "testing score is  75.94055047691191  for random state  49\n"
     ]
    }
   ],
   "source": [
    "#finding best random state for linear regression model\n",
    "\n",
    "for i in range(0,50):\n",
    "    x_train,x_test,y_train,y_test=train_test_split(x_scaled,y,test_size=0.25,random_state=i)\n",
    "    lr.fit(x_train,y_train)\n",
    "    y_pred=lr.predict(x_train)\n",
    "    pred=lr.predict(x_test)\n",
    "    print('training score is ',(metrics.r2_score(y_train,y_pred)*100),' for random state ',i)\n",
    "    print('testing score is ',(metrics.r2_score(y_test,pred)*100),' for random state ',i)"
   ]
  },
  {
   "cell_type": "markdown",
   "id": "0179e663",
   "metadata": {},
   "source": [
    "taking random state of 2 as training and testing score is 74.96 and 74.86 respectively."
   ]
  },
  {
   "cell_type": "code",
   "execution_count": 177,
   "id": "2e3f75fa",
   "metadata": {},
   "outputs": [],
   "source": [
    "#making train and test data split\n",
    "\n",
    "x_train,x_test,y_train,y_test=train_test_split(x_scaled,y,test_size=0.25,random_state=2)"
   ]
  },
  {
   "cell_type": "code",
   "execution_count": 178,
   "id": "4f57095a",
   "metadata": {},
   "outputs": [
    {
     "data": {
      "text/html": [
       "<style>#sk-container-id-12 {color: black;background-color: white;}#sk-container-id-12 pre{padding: 0;}#sk-container-id-12 div.sk-toggleable {background-color: white;}#sk-container-id-12 label.sk-toggleable__label {cursor: pointer;display: block;width: 100%;margin-bottom: 0;padding: 0.3em;box-sizing: border-box;text-align: center;}#sk-container-id-12 label.sk-toggleable__label-arrow:before {content: \"▸\";float: left;margin-right: 0.25em;color: #696969;}#sk-container-id-12 label.sk-toggleable__label-arrow:hover:before {color: black;}#sk-container-id-12 div.sk-estimator:hover label.sk-toggleable__label-arrow:before {color: black;}#sk-container-id-12 div.sk-toggleable__content {max-height: 0;max-width: 0;overflow: hidden;text-align: left;background-color: #f0f8ff;}#sk-container-id-12 div.sk-toggleable__content pre {margin: 0.2em;color: black;border-radius: 0.25em;background-color: #f0f8ff;}#sk-container-id-12 input.sk-toggleable__control:checked~div.sk-toggleable__content {max-height: 200px;max-width: 100%;overflow: auto;}#sk-container-id-12 input.sk-toggleable__control:checked~label.sk-toggleable__label-arrow:before {content: \"▾\";}#sk-container-id-12 div.sk-estimator input.sk-toggleable__control:checked~label.sk-toggleable__label {background-color: #d4ebff;}#sk-container-id-12 div.sk-label input.sk-toggleable__control:checked~label.sk-toggleable__label {background-color: #d4ebff;}#sk-container-id-12 input.sk-hidden--visually {border: 0;clip: rect(1px 1px 1px 1px);clip: rect(1px, 1px, 1px, 1px);height: 1px;margin: -1px;overflow: hidden;padding: 0;position: absolute;width: 1px;}#sk-container-id-12 div.sk-estimator {font-family: monospace;background-color: #f0f8ff;border: 1px dotted black;border-radius: 0.25em;box-sizing: border-box;margin-bottom: 0.5em;}#sk-container-id-12 div.sk-estimator:hover {background-color: #d4ebff;}#sk-container-id-12 div.sk-parallel-item::after {content: \"\";width: 100%;border-bottom: 1px solid gray;flex-grow: 1;}#sk-container-id-12 div.sk-label:hover label.sk-toggleable__label {background-color: #d4ebff;}#sk-container-id-12 div.sk-serial::before {content: \"\";position: absolute;border-left: 1px solid gray;box-sizing: border-box;top: 0;bottom: 0;left: 50%;z-index: 0;}#sk-container-id-12 div.sk-serial {display: flex;flex-direction: column;align-items: center;background-color: white;padding-right: 0.2em;padding-left: 0.2em;position: relative;}#sk-container-id-12 div.sk-item {position: relative;z-index: 1;}#sk-container-id-12 div.sk-parallel {display: flex;align-items: stretch;justify-content: center;background-color: white;position: relative;}#sk-container-id-12 div.sk-item::before, #sk-container-id-12 div.sk-parallel-item::before {content: \"\";position: absolute;border-left: 1px solid gray;box-sizing: border-box;top: 0;bottom: 0;left: 50%;z-index: -1;}#sk-container-id-12 div.sk-parallel-item {display: flex;flex-direction: column;z-index: 1;position: relative;background-color: white;}#sk-container-id-12 div.sk-parallel-item:first-child::after {align-self: flex-end;width: 50%;}#sk-container-id-12 div.sk-parallel-item:last-child::after {align-self: flex-start;width: 50%;}#sk-container-id-12 div.sk-parallel-item:only-child::after {width: 0;}#sk-container-id-12 div.sk-dashed-wrapped {border: 1px dashed gray;margin: 0 0.4em 0.5em 0.4em;box-sizing: border-box;padding-bottom: 0.4em;background-color: white;}#sk-container-id-12 div.sk-label label {font-family: monospace;font-weight: bold;display: inline-block;line-height: 1.2em;}#sk-container-id-12 div.sk-label-container {text-align: center;}#sk-container-id-12 div.sk-container {/* jupyter's `normalize.less` sets `[hidden] { display: none; }` but bootstrap.min.css set `[hidden] { display: none !important; }` so we also need the `!important` here to be able to override the default hidden behavior on the sphinx rendered scikit-learn.org. See: https://github.com/scikit-learn/scikit-learn/issues/21755 */display: inline-block !important;position: relative;}#sk-container-id-12 div.sk-text-repr-fallback {display: none;}</style><div id=\"sk-container-id-12\" class=\"sk-top-container\"><div class=\"sk-text-repr-fallback\"><pre>LinearRegression()</pre><b>In a Jupyter environment, please rerun this cell to show the HTML representation or trust the notebook. <br />On GitHub, the HTML representation is unable to render, please try loading this page with nbviewer.org.</b></div><div class=\"sk-container\" hidden><div class=\"sk-item\"><div class=\"sk-estimator sk-toggleable\"><input class=\"sk-toggleable__control sk-hidden--visually\" id=\"sk-estimator-id-16\" type=\"checkbox\" checked><label for=\"sk-estimator-id-16\" class=\"sk-toggleable__label sk-toggleable__label-arrow\">LinearRegression</label><div class=\"sk-toggleable__content\"><pre>LinearRegression()</pre></div></div></div></div></div>"
      ],
      "text/plain": [
       "LinearRegression()"
      ]
     },
     "execution_count": 178,
     "metadata": {},
     "output_type": "execute_result"
    }
   ],
   "source": [
    "#training the model\n",
    "\n",
    "lr=LinearRegression()\n",
    "lr.fit(x_train,y_train)"
   ]
  },
  {
   "cell_type": "code",
   "execution_count": 179,
   "id": "97b347d6",
   "metadata": {},
   "outputs": [],
   "source": [
    "# since thge model is already trained, below code will help to predict based on train and test data\n",
    "\n",
    "y_pred=lr.predict(x_train) \n",
    "\n",
    "pred=lr.predict(x_test)"
   ]
  },
  {
   "cell_type": "code",
   "execution_count": 180,
   "id": "61549dfa",
   "metadata": {},
   "outputs": [
    {
     "name": "stdout",
     "output_type": "stream",
     "text": [
      "training R2 score:74.96%\n",
      "testing R2 score:74.83%\n"
     ]
    }
   ],
   "source": [
    "#printing r2 score for testing and training models.\n",
    "#r2 score give value of how good the model has studied and learnt the data\n",
    "\n",
    "print(f'training R2 score:{r2_score(y_train,y_pred)*100:.2f}%')\n",
    "print(f'testing R2 score:{r2_score(y_test,pred)*100:.2f}%')"
   ]
  },
  {
   "cell_type": "code",
   "execution_count": 181,
   "id": "3759d349",
   "metadata": {
    "scrolled": true
   },
   "outputs": [
    {
     "data": {
      "image/png": "[encoded data removed]",
      "text/plain": [
       "<Figure size 432x288 with 1 Axes>"
      ]
     },
     "metadata": {
      "needs_background": "light"
     },
     "output_type": "display_data"
    }
   ],
   "source": [
    "#plotting scatter plot for predicted vs actual\n",
    "\n",
    "plt.scatter(y_test,pred)\n",
    "plt.plot(y_test,y_test,color='r')\n",
    "plt.xlabel('actual chance of prediction')\n",
    "plt.ylabel('predicted chance of admission')\n",
    "plt.title('actual vs model predicted')\n",
    "plt.show()"
   ]
  },
  {
   "cell_type": "code",
   "execution_count": 182,
   "id": "fd954b46",
   "metadata": {},
   "outputs": [],
   "source": [
    "from sklearn.metrics import mean_squared_error, mean_absolute_error"
   ]
  },
  {
   "cell_type": "code",
   "execution_count": 183,
   "id": "5b42b349",
   "metadata": {},
   "outputs": [
    {
     "data": {
      "text/plain": [
       "4180.054162022129"
      ]
     },
     "execution_count": 183,
     "metadata": {},
     "output_type": "execute_result"
    }
   ],
   "source": [
    "#finding mean absolute error() for above model(MAE)\n",
    "mean_absolute_error(y_test,pred)"
   ]
  },
  {
   "cell_type": "code",
   "execution_count": 190,
   "id": "b75e1784",
   "metadata": {},
   "outputs": [
    {
     "data": {
      "text/plain": [
       "6163.125852972705"
      ]
     },
     "execution_count": 190,
     "metadata": {},
     "output_type": "execute_result"
    }
   ],
   "source": [
    "#finding root mean_squared_error(RMSE)\n",
    "np.sqrt(mean_squared_error(y_test,pred))"
   ]
  },
  {
   "cell_type": "markdown",
   "id": "7597d357",
   "metadata": {},
   "source": [
    "# Checking if the model is overfitted or not hence ;applying LASSO and RIDGE regularization methods"
   ]
  },
  {
   "cell_type": "code",
   "execution_count": 185,
   "id": "9b48cbad",
   "metadata": {},
   "outputs": [],
   "source": [
    "#importing necessary library\n",
    "\n",
    "from sklearn.linear_model import Ridge,Lasso,RidgeCV,LassoCV"
   ]
  },
  {
   "cell_type": "markdown",
   "id": "dc29cc76",
   "metadata": {},
   "source": [
    "# LASSO CV"
   ]
  },
  {
   "cell_type": "code",
   "execution_count": 186,
   "id": "68247475",
   "metadata": {},
   "outputs": [
    {
     "data": {
      "text/html": [
       "<style>#sk-container-id-13 {color: black;background-color: white;}#sk-container-id-13 pre{padding: 0;}#sk-container-id-13 div.sk-toggleable {background-color: white;}#sk-container-id-13 label.sk-toggleable__label {cursor: pointer;display: block;width: 100%;margin-bottom: 0;padding: 0.3em;box-sizing: border-box;text-align: center;}#sk-container-id-13 label.sk-toggleable__label-arrow:before {content: \"▸\";float: left;margin-right: 0.25em;color: #696969;}#sk-container-id-13 label.sk-toggleable__label-arrow:hover:before {color: black;}#sk-container-id-13 div.sk-estimator:hover label.sk-toggleable__label-arrow:before {color: black;}#sk-container-id-13 div.sk-toggleable__content {max-height: 0;max-width: 0;overflow: hidden;text-align: left;background-color: #f0f8ff;}#sk-container-id-13 div.sk-toggleable__content pre {margin: 0.2em;color: black;border-radius: 0.25em;background-color: #f0f8ff;}#sk-container-id-13 input.sk-toggleable__control:checked~div.sk-toggleable__content {max-height: 200px;max-width: 100%;overflow: auto;}#sk-container-id-13 input.sk-toggleable__control:checked~label.sk-toggleable__label-arrow:before {content: \"▾\";}#sk-container-id-13 div.sk-estimator input.sk-toggleable__control:checked~label.sk-toggleable__label {background-color: #d4ebff;}#sk-container-id-13 div.sk-label input.sk-toggleable__control:checked~label.sk-toggleable__label {background-color: #d4ebff;}#sk-container-id-13 input.sk-hidden--visually {border: 0;clip: rect(1px 1px 1px 1px);clip: rect(1px, 1px, 1px, 1px);height: 1px;margin: -1px;overflow: hidden;padding: 0;position: absolute;width: 1px;}#sk-container-id-13 div.sk-estimator {font-family: monospace;background-color: #f0f8ff;border: 1px dotted black;border-radius: 0.25em;box-sizing: border-box;margin-bottom: 0.5em;}#sk-container-id-13 div.sk-estimator:hover {background-color: #d4ebff;}#sk-container-id-13 div.sk-parallel-item::after {content: \"\";width: 100%;border-bottom: 1px solid gray;flex-grow: 1;}#sk-container-id-13 div.sk-label:hover label.sk-toggleable__label {background-color: #d4ebff;}#sk-container-id-13 div.sk-serial::before {content: \"\";position: absolute;border-left: 1px solid gray;box-sizing: border-box;top: 0;bottom: 0;left: 50%;z-index: 0;}#sk-container-id-13 div.sk-serial {display: flex;flex-direction: column;align-items: center;background-color: white;padding-right: 0.2em;padding-left: 0.2em;position: relative;}#sk-container-id-13 div.sk-item {position: relative;z-index: 1;}#sk-container-id-13 div.sk-parallel {display: flex;align-items: stretch;justify-content: center;background-color: white;position: relative;}#sk-container-id-13 div.sk-item::before, #sk-container-id-13 div.sk-parallel-item::before {content: \"\";position: absolute;border-left: 1px solid gray;box-sizing: border-box;top: 0;bottom: 0;left: 50%;z-index: -1;}#sk-container-id-13 div.sk-parallel-item {display: flex;flex-direction: column;z-index: 1;position: relative;background-color: white;}#sk-container-id-13 div.sk-parallel-item:first-child::after {align-self: flex-end;width: 50%;}#sk-container-id-13 div.sk-parallel-item:last-child::after {align-self: flex-start;width: 50%;}#sk-container-id-13 div.sk-parallel-item:only-child::after {width: 0;}#sk-container-id-13 div.sk-dashed-wrapped {border: 1px dashed gray;margin: 0 0.4em 0.5em 0.4em;box-sizing: border-box;padding-bottom: 0.4em;background-color: white;}#sk-container-id-13 div.sk-label label {font-family: monospace;font-weight: bold;display: inline-block;line-height: 1.2em;}#sk-container-id-13 div.sk-label-container {text-align: center;}#sk-container-id-13 div.sk-container {/* jupyter's `normalize.less` sets `[hidden] { display: none; }` but bootstrap.min.css set `[hidden] { display: none !important; }` so we also need the `!important` here to be able to override the default hidden behavior on the sphinx rendered scikit-learn.org. See: https://github.com/scikit-learn/scikit-learn/issues/21755 */display: inline-block !important;position: relative;}#sk-container-id-13 div.sk-text-repr-fallback {display: none;}</style><div id=\"sk-container-id-13\" class=\"sk-top-container\"><div class=\"sk-text-repr-fallback\"><pre>LassoCV(max_iter=100, normalize=True)</pre><b>In a Jupyter environment, please rerun this cell to show the HTML representation or trust the notebook. <br />On GitHub, the HTML representation is unable to render, please try loading this page with nbviewer.org.</b></div><div class=\"sk-container\" hidden><div class=\"sk-item\"><div class=\"sk-estimator sk-toggleable\"><input class=\"sk-toggleable__control sk-hidden--visually\" id=\"sk-estimator-id-17\" type=\"checkbox\" checked><label for=\"sk-estimator-id-17\" class=\"sk-toggleable__label sk-toggleable__label-arrow\">LassoCV</label><div class=\"sk-toggleable__content\"><pre>LassoCV(max_iter=100, normalize=True)</pre></div></div></div></div></div>"
      ],
      "text/plain": [
       "LassoCV(max_iter=100, normalize=True)"
      ]
     },
     "execution_count": 186,
     "metadata": {},
     "output_type": "execute_result"
    }
   ],
   "source": [
    "#instantiating LASSOCV\n",
    "    \n",
    "lasscv=LassoCV(alphas=None,max_iter=100,normalize=True) #finding learning rate\n",
    "\n",
    "#LASSOCV getting trained on training data\n",
    "lasscv.fit(x_train,y_train) "
   ]
  },
  {
   "cell_type": "markdown",
   "id": "51757df0",
   "metadata": {},
   "source": [
    "max_iter=100 is the learning rate at which model should learn"
   ]
  },
  {
   "cell_type": "code",
   "execution_count": 187,
   "id": "21af1cd8",
   "metadata": {},
   "outputs": [
    {
     "data": {
      "text/plain": [
       "1.0584518109535876"
      ]
     },
     "execution_count": 187,
     "metadata": {},
     "output_type": "execute_result"
    }
   ],
   "source": [
    "#using learning rate the model learnt and gave alpha value\n",
    "alpha=lasscv.alpha_\n",
    "alpha"
   ]
  },
  {
   "cell_type": "code",
   "execution_count": 188,
   "id": "d57b8ce7",
   "metadata": {},
   "outputs": [
    {
     "data": {
      "text/html": [
       "<style>#sk-container-id-14 {color: black;background-color: white;}#sk-container-id-14 pre{padding: 0;}#sk-container-id-14 div.sk-toggleable {background-color: white;}#sk-container-id-14 label.sk-toggleable__label {cursor: pointer;display: block;width: 100%;margin-bottom: 0;padding: 0.3em;box-sizing: border-box;text-align: center;}#sk-container-id-14 label.sk-toggleable__label-arrow:before {content: \"▸\";float: left;margin-right: 0.25em;color: #696969;}#sk-container-id-14 label.sk-toggleable__label-arrow:hover:before {color: black;}#sk-container-id-14 div.sk-estimator:hover label.sk-toggleable__label-arrow:before {color: black;}#sk-container-id-14 div.sk-toggleable__content {max-height: 0;max-width: 0;overflow: hidden;text-align: left;background-color: #f0f8ff;}#sk-container-id-14 div.sk-toggleable__content pre {margin: 0.2em;color: black;border-radius: 0.25em;background-color: #f0f8ff;}#sk-container-id-14 input.sk-toggleable__control:checked~div.sk-toggleable__content {max-height: 200px;max-width: 100%;overflow: auto;}#sk-container-id-14 input.sk-toggleable__control:checked~label.sk-toggleable__label-arrow:before {content: \"▾\";}#sk-container-id-14 div.sk-estimator input.sk-toggleable__control:checked~label.sk-toggleable__label {background-color: #d4ebff;}#sk-container-id-14 div.sk-label input.sk-toggleable__control:checked~label.sk-toggleable__label {background-color: #d4ebff;}#sk-container-id-14 input.sk-hidden--visually {border: 0;clip: rect(1px 1px 1px 1px);clip: rect(1px, 1px, 1px, 1px);height: 1px;margin: -1px;overflow: hidden;padding: 0;position: absolute;width: 1px;}#sk-container-id-14 div.sk-estimator {font-family: monospace;background-color: #f0f8ff;border: 1px dotted black;border-radius: 0.25em;box-sizing: border-box;margin-bottom: 0.5em;}#sk-container-id-14 div.sk-estimator:hover {background-color: #d4ebff;}#sk-container-id-14 div.sk-parallel-item::after {content: \"\";width: 100%;border-bottom: 1px solid gray;flex-grow: 1;}#sk-container-id-14 div.sk-label:hover label.sk-toggleable__label {background-color: #d4ebff;}#sk-container-id-14 div.sk-serial::before {content: \"\";position: absolute;border-left: 1px solid gray;box-sizing: border-box;top: 0;bottom: 0;left: 50%;z-index: 0;}#sk-container-id-14 div.sk-serial {display: flex;flex-direction: column;align-items: center;background-color: white;padding-right: 0.2em;padding-left: 0.2em;position: relative;}#sk-container-id-14 div.sk-item {position: relative;z-index: 1;}#sk-container-id-14 div.sk-parallel {display: flex;align-items: stretch;justify-content: center;background-color: white;position: relative;}#sk-container-id-14 div.sk-item::before, #sk-container-id-14 div.sk-parallel-item::before {content: \"\";position: absolute;border-left: 1px solid gray;box-sizing: border-box;top: 0;bottom: 0;left: 50%;z-index: -1;}#sk-container-id-14 div.sk-parallel-item {display: flex;flex-direction: column;z-index: 1;position: relative;background-color: white;}#sk-container-id-14 div.sk-parallel-item:first-child::after {align-self: flex-end;width: 50%;}#sk-container-id-14 div.sk-parallel-item:last-child::after {align-self: flex-start;width: 50%;}#sk-container-id-14 div.sk-parallel-item:only-child::after {width: 0;}#sk-container-id-14 div.sk-dashed-wrapped {border: 1px dashed gray;margin: 0 0.4em 0.5em 0.4em;box-sizing: border-box;padding-bottom: 0.4em;background-color: white;}#sk-container-id-14 div.sk-label label {font-family: monospace;font-weight: bold;display: inline-block;line-height: 1.2em;}#sk-container-id-14 div.sk-label-container {text-align: center;}#sk-container-id-14 div.sk-container {/* jupyter's `normalize.less` sets `[hidden] { display: none; }` but bootstrap.min.css set `[hidden] { display: none !important; }` so we also need the `!important` here to be able to override the default hidden behavior on the sphinx rendered scikit-learn.org. See: https://github.com/scikit-learn/scikit-learn/issues/21755 */display: inline-block !important;position: relative;}#sk-container-id-14 div.sk-text-repr-fallback {display: none;}</style><div id=\"sk-container-id-14\" class=\"sk-top-container\"><div class=\"sk-text-repr-fallback\"><pre>Lasso(alpha=1.0584518109535876)</pre><b>In a Jupyter environment, please rerun this cell to show the HTML representation or trust the notebook. <br />On GitHub, the HTML representation is unable to render, please try loading this page with nbviewer.org.</b></div><div class=\"sk-container\" hidden><div class=\"sk-item\"><div class=\"sk-estimator sk-toggleable\"><input class=\"sk-toggleable__control sk-hidden--visually\" id=\"sk-estimator-id-18\" type=\"checkbox\" checked><label for=\"sk-estimator-id-18\" class=\"sk-toggleable__label sk-toggleable__label-arrow\">Lasso</label><div class=\"sk-toggleable__content\"><pre>Lasso(alpha=1.0584518109535876)</pre></div></div></div></div></div>"
      ],
      "text/plain": [
       "Lasso(alpha=1.0584518109535876)"
      ]
     },
     "execution_count": 188,
     "metadata": {},
     "output_type": "execute_result"
    }
   ],
   "source": [
    "#using Lasso regression with best alpha value provided\n",
    "\n",
    "lasso_reg=Lasso(alpha)\n",
    "\n",
    "#Training model with lasso regression\n",
    "lasso_reg.fit(x_train,y_train) "
   ]
  },
  {
   "cell_type": "code",
   "execution_count": 192,
   "id": "6e5ff7fe",
   "metadata": {
    "scrolled": true
   },
   "outputs": [
    {
     "name": "stdout",
     "output_type": "stream",
     "text": [
      "Lasso CV score for training data 74.96398485384701\n",
      "Lasso CV score for testing data 74.83278492899736\n"
     ]
    }
   ],
   "source": [
    "#printing Lasso regression score \n",
    "\n",
    "print('Lasso CV score for training data',(lasso_reg.score(x_train,y_train))*100)\n",
    "print('Lasso CV score for testing data',(lasso_reg.score(x_test,y_test))*100)"
   ]
  },
  {
   "cell_type": "markdown",
   "id": "a0a92f32",
   "metadata": {},
   "source": [
    "# RIDGE CV"
   ]
  },
  {
   "cell_type": "code",
   "execution_count": 193,
   "id": "c122010f",
   "metadata": {},
   "outputs": [
    {
     "data": {
      "text/html": [
       "<style>#sk-container-id-15 {color: black;background-color: white;}#sk-container-id-15 pre{padding: 0;}#sk-container-id-15 div.sk-toggleable {background-color: white;}#sk-container-id-15 label.sk-toggleable__label {cursor: pointer;display: block;width: 100%;margin-bottom: 0;padding: 0.3em;box-sizing: border-box;text-align: center;}#sk-container-id-15 label.sk-toggleable__label-arrow:before {content: \"▸\";float: left;margin-right: 0.25em;color: #696969;}#sk-container-id-15 label.sk-toggleable__label-arrow:hover:before {color: black;}#sk-container-id-15 div.sk-estimator:hover label.sk-toggleable__label-arrow:before {color: black;}#sk-container-id-15 div.sk-toggleable__content {max-height: 0;max-width: 0;overflow: hidden;text-align: left;background-color: #f0f8ff;}#sk-container-id-15 div.sk-toggleable__content pre {margin: 0.2em;color: black;border-radius: 0.25em;background-color: #f0f8ff;}#sk-container-id-15 input.sk-toggleable__control:checked~div.sk-toggleable__content {max-height: 200px;max-width: 100%;overflow: auto;}#sk-container-id-15 input.sk-toggleable__control:checked~label.sk-toggleable__label-arrow:before {content: \"▾\";}#sk-container-id-15 div.sk-estimator input.sk-toggleable__control:checked~label.sk-toggleable__label {background-color: #d4ebff;}#sk-container-id-15 div.sk-label input.sk-toggleable__control:checked~label.sk-toggleable__label {background-color: #d4ebff;}#sk-container-id-15 input.sk-hidden--visually {border: 0;clip: rect(1px 1px 1px 1px);clip: rect(1px, 1px, 1px, 1px);height: 1px;margin: -1px;overflow: hidden;padding: 0;position: absolute;width: 1px;}#sk-container-id-15 div.sk-estimator {font-family: monospace;background-color: #f0f8ff;border: 1px dotted black;border-radius: 0.25em;box-sizing: border-box;margin-bottom: 0.5em;}#sk-container-id-15 div.sk-estimator:hover {background-color: #d4ebff;}#sk-container-id-15 div.sk-parallel-item::after {content: \"\";width: 100%;border-bottom: 1px solid gray;flex-grow: 1;}#sk-container-id-15 div.sk-label:hover label.sk-toggleable__label {background-color: #d4ebff;}#sk-container-id-15 div.sk-serial::before {content: \"\";position: absolute;border-left: 1px solid gray;box-sizing: border-box;top: 0;bottom: 0;left: 50%;z-index: 0;}#sk-container-id-15 div.sk-serial {display: flex;flex-direction: column;align-items: center;background-color: white;padding-right: 0.2em;padding-left: 0.2em;position: relative;}#sk-container-id-15 div.sk-item {position: relative;z-index: 1;}#sk-container-id-15 div.sk-parallel {display: flex;align-items: stretch;justify-content: center;background-color: white;position: relative;}#sk-container-id-15 div.sk-item::before, #sk-container-id-15 div.sk-parallel-item::before {content: \"\";position: absolute;border-left: 1px solid gray;box-sizing: border-box;top: 0;bottom: 0;left: 50%;z-index: -1;}#sk-container-id-15 div.sk-parallel-item {display: flex;flex-direction: column;z-index: 1;position: relative;background-color: white;}#sk-container-id-15 div.sk-parallel-item:first-child::after {align-self: flex-end;width: 50%;}#sk-container-id-15 div.sk-parallel-item:last-child::after {align-self: flex-start;width: 50%;}#sk-container-id-15 div.sk-parallel-item:only-child::after {width: 0;}#sk-container-id-15 div.sk-dashed-wrapped {border: 1px dashed gray;margin: 0 0.4em 0.5em 0.4em;box-sizing: border-box;padding-bottom: 0.4em;background-color: white;}#sk-container-id-15 div.sk-label label {font-family: monospace;font-weight: bold;display: inline-block;line-height: 1.2em;}#sk-container-id-15 div.sk-label-container {text-align: center;}#sk-container-id-15 div.sk-container {/* jupyter's `normalize.less` sets `[hidden] { display: none; }` but bootstrap.min.css set `[hidden] { display: none !important; }` so we also need the `!important` here to be able to override the default hidden behavior on the sphinx rendered scikit-learn.org. See: https://github.com/scikit-learn/scikit-learn/issues/21755 */display: inline-block !important;position: relative;}#sk-container-id-15 div.sk-text-repr-fallback {display: none;}</style><div id=\"sk-container-id-15\" class=\"sk-top-container\"><div class=\"sk-text-repr-fallback\"><pre>RidgeCV(alphas=array([0.001, 0.011, 0.021, 0.031, 0.041, 0.051, 0.061, 0.071, 0.081,\n",
       "       0.091]),\n",
       "        normalize=True)</pre><b>In a Jupyter environment, please rerun this cell to show the HTML representation or trust the notebook. <br />On GitHub, the HTML representation is unable to render, please try loading this page with nbviewer.org.</b></div><div class=\"sk-container\" hidden><div class=\"sk-item\"><div class=\"sk-estimator sk-toggleable\"><input class=\"sk-toggleable__control sk-hidden--visually\" id=\"sk-estimator-id-19\" type=\"checkbox\" checked><label for=\"sk-estimator-id-19\" class=\"sk-toggleable__label sk-toggleable__label-arrow\">RidgeCV</label><div class=\"sk-toggleable__content\"><pre>RidgeCV(alphas=array([0.001, 0.011, 0.021, 0.031, 0.041, 0.051, 0.061, 0.071, 0.081,\n",
       "       0.091]),\n",
       "        normalize=True)</pre></div></div></div></div></div>"
      ],
      "text/plain": [
       "RidgeCV(alphas=array([0.001, 0.011, 0.021, 0.031, 0.041, 0.051, 0.061, 0.071, 0.081,\n",
       "       0.091]),\n",
       "        normalize=True)"
      ]
     },
     "execution_count": 193,
     "metadata": {},
     "output_type": "execute_result"
    }
   ],
   "source": [
    "#setting parameters for ridge CV\n",
    "\n",
    "ridgeCV=RidgeCV(alphas=np.arange(0.001,0.1,0.01),normalize=True)\n",
    "\n",
    "#training on training  dataset with above mentioned parameters that will provide best alpha rate\n",
    "ridgeCV.fit(x_train,y_train) "
   ]
  },
  {
   "cell_type": "code",
   "execution_count": 194,
   "id": "72e79ea9",
   "metadata": {},
   "outputs": [
    {
     "data": {
      "text/plain": [
       "0.001"
      ]
     },
     "execution_count": 194,
     "metadata": {},
     "output_type": "execute_result"
    }
   ],
   "source": [
    "ridgeCV.alpha_ #best alpha value for model"
   ]
  },
  {
   "cell_type": "code",
   "execution_count": 195,
   "id": "743f5c72",
   "metadata": {},
   "outputs": [
    {
     "data": {
      "text/html": [
       "<style>#sk-container-id-16 {color: black;background-color: white;}#sk-container-id-16 pre{padding: 0;}#sk-container-id-16 div.sk-toggleable {background-color: white;}#sk-container-id-16 label.sk-toggleable__label {cursor: pointer;display: block;width: 100%;margin-bottom: 0;padding: 0.3em;box-sizing: border-box;text-align: center;}#sk-container-id-16 label.sk-toggleable__label-arrow:before {content: \"▸\";float: left;margin-right: 0.25em;color: #696969;}#sk-container-id-16 label.sk-toggleable__label-arrow:hover:before {color: black;}#sk-container-id-16 div.sk-estimator:hover label.sk-toggleable__label-arrow:before {color: black;}#sk-container-id-16 div.sk-toggleable__content {max-height: 0;max-width: 0;overflow: hidden;text-align: left;background-color: #f0f8ff;}#sk-container-id-16 div.sk-toggleable__content pre {margin: 0.2em;color: black;border-radius: 0.25em;background-color: #f0f8ff;}#sk-container-id-16 input.sk-toggleable__control:checked~div.sk-toggleable__content {max-height: 200px;max-width: 100%;overflow: auto;}#sk-container-id-16 input.sk-toggleable__control:checked~label.sk-toggleable__label-arrow:before {content: \"▾\";}#sk-container-id-16 div.sk-estimator input.sk-toggleable__control:checked~label.sk-toggleable__label {background-color: #d4ebff;}#sk-container-id-16 div.sk-label input.sk-toggleable__control:checked~label.sk-toggleable__label {background-color: #d4ebff;}#sk-container-id-16 input.sk-hidden--visually {border: 0;clip: rect(1px 1px 1px 1px);clip: rect(1px, 1px, 1px, 1px);height: 1px;margin: -1px;overflow: hidden;padding: 0;position: absolute;width: 1px;}#sk-container-id-16 div.sk-estimator {font-family: monospace;background-color: #f0f8ff;border: 1px dotted black;border-radius: 0.25em;box-sizing: border-box;margin-bottom: 0.5em;}#sk-container-id-16 div.sk-estimator:hover {background-color: #d4ebff;}#sk-container-id-16 div.sk-parallel-item::after {content: \"\";width: 100%;border-bottom: 1px solid gray;flex-grow: 1;}#sk-container-id-16 div.sk-label:hover label.sk-toggleable__label {background-color: #d4ebff;}#sk-container-id-16 div.sk-serial::before {content: \"\";position: absolute;border-left: 1px solid gray;box-sizing: border-box;top: 0;bottom: 0;left: 50%;z-index: 0;}#sk-container-id-16 div.sk-serial {display: flex;flex-direction: column;align-items: center;background-color: white;padding-right: 0.2em;padding-left: 0.2em;position: relative;}#sk-container-id-16 div.sk-item {position: relative;z-index: 1;}#sk-container-id-16 div.sk-parallel {display: flex;align-items: stretch;justify-content: center;background-color: white;position: relative;}#sk-container-id-16 div.sk-item::before, #sk-container-id-16 div.sk-parallel-item::before {content: \"\";position: absolute;border-left: 1px solid gray;box-sizing: border-box;top: 0;bottom: 0;left: 50%;z-index: -1;}#sk-container-id-16 div.sk-parallel-item {display: flex;flex-direction: column;z-index: 1;position: relative;background-color: white;}#sk-container-id-16 div.sk-parallel-item:first-child::after {align-self: flex-end;width: 50%;}#sk-container-id-16 div.sk-parallel-item:last-child::after {align-self: flex-start;width: 50%;}#sk-container-id-16 div.sk-parallel-item:only-child::after {width: 0;}#sk-container-id-16 div.sk-dashed-wrapped {border: 1px dashed gray;margin: 0 0.4em 0.5em 0.4em;box-sizing: border-box;padding-bottom: 0.4em;background-color: white;}#sk-container-id-16 div.sk-label label {font-family: monospace;font-weight: bold;display: inline-block;line-height: 1.2em;}#sk-container-id-16 div.sk-label-container {text-align: center;}#sk-container-id-16 div.sk-container {/* jupyter's `normalize.less` sets `[hidden] { display: none; }` but bootstrap.min.css set `[hidden] { display: none !important; }` so we also need the `!important` here to be able to override the default hidden behavior on the sphinx rendered scikit-learn.org. See: https://github.com/scikit-learn/scikit-learn/issues/21755 */display: inline-block !important;position: relative;}#sk-container-id-16 div.sk-text-repr-fallback {display: none;}</style><div id=\"sk-container-id-16\" class=\"sk-top-container\"><div class=\"sk-text-repr-fallback\"><pre>Ridge(alpha=0.001)</pre><b>In a Jupyter environment, please rerun this cell to show the HTML representation or trust the notebook. <br />On GitHub, the HTML representation is unable to render, please try loading this page with nbviewer.org.</b></div><div class=\"sk-container\" hidden><div class=\"sk-item\"><div class=\"sk-estimator sk-toggleable\"><input class=\"sk-toggleable__control sk-hidden--visually\" id=\"sk-estimator-id-20\" type=\"checkbox\" checked><label for=\"sk-estimator-id-20\" class=\"sk-toggleable__label sk-toggleable__label-arrow\">Ridge</label><div class=\"sk-toggleable__content\"><pre>Ridge(alpha=0.001)</pre></div></div></div></div></div>"
      ],
      "text/plain": [
       "Ridge(alpha=0.001)"
      ]
     },
     "execution_count": 195,
     "metadata": {},
     "output_type": "execute_result"
    }
   ],
   "source": [
    "#using alpha value to train ridge model\n",
    "\n",
    "ridge_model=Ridge(alpha=ridgeCV.alpha_)\n",
    "\n",
    "\n",
    "#training model on train data set\n",
    "ridge_model.fit(x_train,y_train)"
   ]
  },
  {
   "cell_type": "code",
   "execution_count": 198,
   "id": "c24a2264",
   "metadata": {},
   "outputs": [
    {
     "name": "stdout",
     "output_type": "stream",
     "text": [
      "RidgeCV score  for training data 74.83247735564218\n",
      "RidgeCV score for testing data 74.83247735564218\n"
     ]
    }
   ],
   "source": [
    "#printing rdge CV score\n",
    "print('RidgeCV score  for training data' ,(ridge_model.score(x_test,y_test))*100) \n",
    "print('RidgeCV score for testing data' ,(ridge_model.score(x_test,y_test))*100) "
   ]
  },
  {
   "cell_type": "markdown",
   "id": "c3ffe12e",
   "metadata": {},
   "source": [
    "Since the r2 score for linear regresion, Lasso Cv and Ridge Cv all are approximately same, hence the model is not overfitted."
   ]
  },
  {
   "cell_type": "code",
   "execution_count": 199,
   "id": "31f0b49c",
   "metadata": {},
   "outputs": [],
   "source": [
    "#importing library for cross validation score\n",
    "\n",
    "from sklearn.model_selection import cross_val_score"
   ]
  },
  {
   "cell_type": "code",
   "execution_count": 236,
   "id": "4e18c83b",
   "metadata": {},
   "outputs": [
    {
     "name": "stdout",
     "output_type": "stream",
     "text": [
      "Cross Validation Score for Linear Regression model is-  73.93383645434388\n"
     ]
    }
   ],
   "source": [
    "# since cv=14, it will create 14 scores hence taking their mean\n",
    "cvs_lr=cross_val_score(lr,x_scaled,y,cv=14).mean()\n",
    "print('Cross Validation Score for Linear Regression model is- ',(cvs_lr)*100)"
   ]
  },
  {
   "cell_type": "markdown",
   "id": "eb7da125",
   "metadata": {},
   "source": [
    "# Using hyperparameter tuning for linear regression model"
   ]
  },
  {
   "cell_type": "code",
   "execution_count": 205,
   "id": "620644d0",
   "metadata": {},
   "outputs": [],
   "source": [
    "#importing library for grid search cv\n",
    "\n",
    "from sklearn.model_selection import GridSearchCV"
   ]
  },
  {
   "cell_type": "code",
   "execution_count": 206,
   "id": "1bfc4758",
   "metadata": {},
   "outputs": [],
   "source": [
    "#saving model in new variable\n",
    "\n",
    "lr1=LinearRegression()"
   ]
  },
  {
   "cell_type": "code",
   "execution_count": 207,
   "id": "6e534b77",
   "metadata": {},
   "outputs": [],
   "source": [
    "#setting parameters for hyperparameter tuning\n",
    "\n",
    "params={'fit_intercept':[True,False],\n",
    "    'normalize':[True,False],\n",
    "    'copy_X':[True,False],\n",
    "    'n_jobs':[-1,0,1,2,3,4,5,6],\n",
    "    'positive':[True,False]}"
   ]
  },
  {
   "cell_type": "code",
   "execution_count": 208,
   "id": "71449576",
   "metadata": {},
   "outputs": [
    {
     "data": {
      "text/html": [
       "<style>#sk-container-id-17 {color: black;background-color: white;}#sk-container-id-17 pre{padding: 0;}#sk-container-id-17 div.sk-toggleable {background-color: white;}#sk-container-id-17 label.sk-toggleable__label {cursor: pointer;display: block;width: 100%;margin-bottom: 0;padding: 0.3em;box-sizing: border-box;text-align: center;}#sk-container-id-17 label.sk-toggleable__label-arrow:before {content: \"▸\";float: left;margin-right: 0.25em;color: #696969;}#sk-container-id-17 label.sk-toggleable__label-arrow:hover:before {color: black;}#sk-container-id-17 div.sk-estimator:hover label.sk-toggleable__label-arrow:before {color: black;}#sk-container-id-17 div.sk-toggleable__content {max-height: 0;max-width: 0;overflow: hidden;text-align: left;background-color: #f0f8ff;}#sk-container-id-17 div.sk-toggleable__content pre {margin: 0.2em;color: black;border-radius: 0.25em;background-color: #f0f8ff;}#sk-container-id-17 input.sk-toggleable__control:checked~div.sk-toggleable__content {max-height: 200px;max-width: 100%;overflow: auto;}#sk-container-id-17 input.sk-toggleable__control:checked~label.sk-toggleable__label-arrow:before {content: \"▾\";}#sk-container-id-17 div.sk-estimator input.sk-toggleable__control:checked~label.sk-toggleable__label {background-color: #d4ebff;}#sk-container-id-17 div.sk-label input.sk-toggleable__control:checked~label.sk-toggleable__label {background-color: #d4ebff;}#sk-container-id-17 input.sk-hidden--visually {border: 0;clip: rect(1px 1px 1px 1px);clip: rect(1px, 1px, 1px, 1px);height: 1px;margin: -1px;overflow: hidden;padding: 0;position: absolute;width: 1px;}#sk-container-id-17 div.sk-estimator {font-family: monospace;background-color: #f0f8ff;border: 1px dotted black;border-radius: 0.25em;box-sizing: border-box;margin-bottom: 0.5em;}#sk-container-id-17 div.sk-estimator:hover {background-color: #d4ebff;}#sk-container-id-17 div.sk-parallel-item::after {content: \"\";width: 100%;border-bottom: 1px solid gray;flex-grow: 1;}#sk-container-id-17 div.sk-label:hover label.sk-toggleable__label {background-color: #d4ebff;}#sk-container-id-17 div.sk-serial::before {content: \"\";position: absolute;border-left: 1px solid gray;box-sizing: border-box;top: 0;bottom: 0;left: 50%;z-index: 0;}#sk-container-id-17 div.sk-serial {display: flex;flex-direction: column;align-items: center;background-color: white;padding-right: 0.2em;padding-left: 0.2em;position: relative;}#sk-container-id-17 div.sk-item {position: relative;z-index: 1;}#sk-container-id-17 div.sk-parallel {display: flex;align-items: stretch;justify-content: center;background-color: white;position: relative;}#sk-container-id-17 div.sk-item::before, #sk-container-id-17 div.sk-parallel-item::before {content: \"\";position: absolute;border-left: 1px solid gray;box-sizing: border-box;top: 0;bottom: 0;left: 50%;z-index: -1;}#sk-container-id-17 div.sk-parallel-item {display: flex;flex-direction: column;z-index: 1;position: relative;background-color: white;}#sk-container-id-17 div.sk-parallel-item:first-child::after {align-self: flex-end;width: 50%;}#sk-container-id-17 div.sk-parallel-item:last-child::after {align-self: flex-start;width: 50%;}#sk-container-id-17 div.sk-parallel-item:only-child::after {width: 0;}#sk-container-id-17 div.sk-dashed-wrapped {border: 1px dashed gray;margin: 0 0.4em 0.5em 0.4em;box-sizing: border-box;padding-bottom: 0.4em;background-color: white;}#sk-container-id-17 div.sk-label label {font-family: monospace;font-weight: bold;display: inline-block;line-height: 1.2em;}#sk-container-id-17 div.sk-label-container {text-align: center;}#sk-container-id-17 div.sk-container {/* jupyter's `normalize.less` sets `[hidden] { display: none; }` but bootstrap.min.css set `[hidden] { display: none !important; }` so we also need the `!important` here to be able to override the default hidden behavior on the sphinx rendered scikit-learn.org. See: https://github.com/scikit-learn/scikit-learn/issues/21755 */display: inline-block !important;position: relative;}#sk-container-id-17 div.sk-text-repr-fallback {display: none;}</style><div id=\"sk-container-id-17\" class=\"sk-top-container\"><div class=\"sk-text-repr-fallback\"><pre>GridSearchCV(cv=5, estimator=LinearRegression(),\n",
       "             param_grid={&#x27;copy_X&#x27;: [True, False],\n",
       "                         &#x27;fit_intercept&#x27;: [True, False],\n",
       "                         &#x27;n_jobs&#x27;: [-1, 0, 1, 2, 3, 4, 5, 6],\n",
       "                         &#x27;normalize&#x27;: [True, False],\n",
       "                         &#x27;positive&#x27;: [True, False]})</pre><b>In a Jupyter environment, please rerun this cell to show the HTML representation or trust the notebook. <br />On GitHub, the HTML representation is unable to render, please try loading this page with nbviewer.org.</b></div><div class=\"sk-container\" hidden><div class=\"sk-item sk-dashed-wrapped\"><div class=\"sk-label-container\"><div class=\"sk-label sk-toggleable\"><input class=\"sk-toggleable__control sk-hidden--visually\" id=\"sk-estimator-id-21\" type=\"checkbox\" ><label for=\"sk-estimator-id-21\" class=\"sk-toggleable__label sk-toggleable__label-arrow\">GridSearchCV</label><div class=\"sk-toggleable__content\"><pre>GridSearchCV(cv=5, estimator=LinearRegression(),\n",
       "             param_grid={&#x27;copy_X&#x27;: [True, False],\n",
       "                         &#x27;fit_intercept&#x27;: [True, False],\n",
       "                         &#x27;n_jobs&#x27;: [-1, 0, 1, 2, 3, 4, 5, 6],\n",
       "                         &#x27;normalize&#x27;: [True, False],\n",
       "                         &#x27;positive&#x27;: [True, False]})</pre></div></div></div><div class=\"sk-parallel\"><div class=\"sk-parallel-item\"><div class=\"sk-item\"><div class=\"sk-label-container\"><div class=\"sk-label sk-toggleable\"><input class=\"sk-toggleable__control sk-hidden--visually\" id=\"sk-estimator-id-22\" type=\"checkbox\" ><label for=\"sk-estimator-id-22\" class=\"sk-toggleable__label sk-toggleable__label-arrow\">estimator: LinearRegression</label><div class=\"sk-toggleable__content\"><pre>LinearRegression()</pre></div></div></div><div class=\"sk-serial\"><div class=\"sk-item\"><div class=\"sk-estimator sk-toggleable\"><input class=\"sk-toggleable__control sk-hidden--visually\" id=\"sk-estimator-id-23\" type=\"checkbox\" ><label for=\"sk-estimator-id-23\" class=\"sk-toggleable__label sk-toggleable__label-arrow\">LinearRegression</label><div class=\"sk-toggleable__content\"><pre>LinearRegression()</pre></div></div></div></div></div></div></div></div></div></div>"
      ],
      "text/plain": [
       "GridSearchCV(cv=5, estimator=LinearRegression(),\n",
       "             param_grid={'copy_X': [True, False],\n",
       "                         'fit_intercept': [True, False],\n",
       "                         'n_jobs': [-1, 0, 1, 2, 3, 4, 5, 6],\n",
       "                         'normalize': [True, False],\n",
       "                         'positive': [True, False]})"
      ]
     },
     "execution_count": 208,
     "metadata": {},
     "output_type": "execute_result"
    }
   ],
   "source": [
    "#instantiating grid_search model with parameters provided  \n",
    "grid_search=GridSearchCV(estimator=lr1,param_grid=params,cv=5)\n",
    "\n",
    "#training the model with with combinations of parameters specified\n",
    "grid_search.fit(x_train,y_train) \n"
   ]
  },
  {
   "cell_type": "code",
   "execution_count": 79,
   "id": "08dee372",
   "metadata": {},
   "outputs": [
    {
     "name": "stdout",
     "output_type": "stream",
     "text": [
      "{'copy_X': True, 'fit_intercept': True, 'n_jobs': -1, 'normalize': False, 'positive': True}\n"
     ]
    }
   ],
   "source": [
    "#following command will provide us with best parameters from above list of parameters which helps in increasing accuracy.\n",
    "best_parameters=grid_search.best_params_\n",
    "\n",
    "#printing the final best parameters\n",
    "print(best_parameters)"
   ]
  },
  {
   "cell_type": "code",
   "execution_count": 209,
   "id": "66d1867b",
   "metadata": {},
   "outputs": [
    {
     "data": {
      "text/html": [
       "<style>#sk-container-id-18 {color: black;background-color: white;}#sk-container-id-18 pre{padding: 0;}#sk-container-id-18 div.sk-toggleable {background-color: white;}#sk-container-id-18 label.sk-toggleable__label {cursor: pointer;display: block;width: 100%;margin-bottom: 0;padding: 0.3em;box-sizing: border-box;text-align: center;}#sk-container-id-18 label.sk-toggleable__label-arrow:before {content: \"▸\";float: left;margin-right: 0.25em;color: #696969;}#sk-container-id-18 label.sk-toggleable__label-arrow:hover:before {color: black;}#sk-container-id-18 div.sk-estimator:hover label.sk-toggleable__label-arrow:before {color: black;}#sk-container-id-18 div.sk-toggleable__content {max-height: 0;max-width: 0;overflow: hidden;text-align: left;background-color: #f0f8ff;}#sk-container-id-18 div.sk-toggleable__content pre {margin: 0.2em;color: black;border-radius: 0.25em;background-color: #f0f8ff;}#sk-container-id-18 input.sk-toggleable__control:checked~div.sk-toggleable__content {max-height: 200px;max-width: 100%;overflow: auto;}#sk-container-id-18 input.sk-toggleable__control:checked~label.sk-toggleable__label-arrow:before {content: \"▾\";}#sk-container-id-18 div.sk-estimator input.sk-toggleable__control:checked~label.sk-toggleable__label {background-color: #d4ebff;}#sk-container-id-18 div.sk-label input.sk-toggleable__control:checked~label.sk-toggleable__label {background-color: #d4ebff;}#sk-container-id-18 input.sk-hidden--visually {border: 0;clip: rect(1px 1px 1px 1px);clip: rect(1px, 1px, 1px, 1px);height: 1px;margin: -1px;overflow: hidden;padding: 0;position: absolute;width: 1px;}#sk-container-id-18 div.sk-estimator {font-family: monospace;background-color: #f0f8ff;border: 1px dotted black;border-radius: 0.25em;box-sizing: border-box;margin-bottom: 0.5em;}#sk-container-id-18 div.sk-estimator:hover {background-color: #d4ebff;}#sk-container-id-18 div.sk-parallel-item::after {content: \"\";width: 100%;border-bottom: 1px solid gray;flex-grow: 1;}#sk-container-id-18 div.sk-label:hover label.sk-toggleable__label {background-color: #d4ebff;}#sk-container-id-18 div.sk-serial::before {content: \"\";position: absolute;border-left: 1px solid gray;box-sizing: border-box;top: 0;bottom: 0;left: 50%;z-index: 0;}#sk-container-id-18 div.sk-serial {display: flex;flex-direction: column;align-items: center;background-color: white;padding-right: 0.2em;padding-left: 0.2em;position: relative;}#sk-container-id-18 div.sk-item {position: relative;z-index: 1;}#sk-container-id-18 div.sk-parallel {display: flex;align-items: stretch;justify-content: center;background-color: white;position: relative;}#sk-container-id-18 div.sk-item::before, #sk-container-id-18 div.sk-parallel-item::before {content: \"\";position: absolute;border-left: 1px solid gray;box-sizing: border-box;top: 0;bottom: 0;left: 50%;z-index: -1;}#sk-container-id-18 div.sk-parallel-item {display: flex;flex-direction: column;z-index: 1;position: relative;background-color: white;}#sk-container-id-18 div.sk-parallel-item:first-child::after {align-self: flex-end;width: 50%;}#sk-container-id-18 div.sk-parallel-item:last-child::after {align-self: flex-start;width: 50%;}#sk-container-id-18 div.sk-parallel-item:only-child::after {width: 0;}#sk-container-id-18 div.sk-dashed-wrapped {border: 1px dashed gray;margin: 0 0.4em 0.5em 0.4em;box-sizing: border-box;padding-bottom: 0.4em;background-color: white;}#sk-container-id-18 div.sk-label label {font-family: monospace;font-weight: bold;display: inline-block;line-height: 1.2em;}#sk-container-id-18 div.sk-label-container {text-align: center;}#sk-container-id-18 div.sk-container {/* jupyter's `normalize.less` sets `[hidden] { display: none; }` but bootstrap.min.css set `[hidden] { display: none !important; }` so we also need the `!important` here to be able to override the default hidden behavior on the sphinx rendered scikit-learn.org. See: https://github.com/scikit-learn/scikit-learn/issues/21755 */display: inline-block !important;position: relative;}#sk-container-id-18 div.sk-text-repr-fallback {display: none;}</style><div id=\"sk-container-id-18\" class=\"sk-top-container\"><div class=\"sk-text-repr-fallback\"><pre>LinearRegression(n_jobs=-1, normalize=False, positive=True)</pre><b>In a Jupyter environment, please rerun this cell to show the HTML representation or trust the notebook. <br />On GitHub, the HTML representation is unable to render, please try loading this page with nbviewer.org.</b></div><div class=\"sk-container\" hidden><div class=\"sk-item\"><div class=\"sk-estimator sk-toggleable\"><input class=\"sk-toggleable__control sk-hidden--visually\" id=\"sk-estimator-id-24\" type=\"checkbox\" checked><label for=\"sk-estimator-id-24\" class=\"sk-toggleable__label sk-toggleable__label-arrow\">LinearRegression</label><div class=\"sk-toggleable__content\"><pre>LinearRegression(n_jobs=-1, normalize=False, positive=True)</pre></div></div></div></div></div>"
      ],
      "text/plain": [
       "LinearRegression(n_jobs=-1, normalize=False, positive=True)"
      ]
     },
     "execution_count": 209,
     "metadata": {},
     "output_type": "execute_result"
    }
   ],
   "source": [
    "#inputting finla parameters in regression model and training it\n",
    "\n",
    "lr1=LinearRegression(copy_X=True, fit_intercept=True, n_jobs=-1, normalize=False, positive=True)\n",
    "\n",
    "\n",
    "#training the model\n",
    "lr1.fit(x_train,y_train)"
   ]
  },
  {
   "cell_type": "code",
   "execution_count": 210,
   "id": "0c2ffab7",
   "metadata": {},
   "outputs": [],
   "source": [
    "# training on features\n",
    "y_pred1=lr1.predict(x_train)\n",
    "\n",
    "pred1=lr1.predict(x_test)"
   ]
  },
  {
   "cell_type": "code",
   "execution_count": 211,
   "id": "8cb7beba",
   "metadata": {},
   "outputs": [
    {
     "name": "stdout",
     "output_type": "stream",
     "text": [
      "training R2 score after hyperparameter tuning:74.95%\n",
      "testing R2 score after hyperparameter tuning:74.86%\n"
     ]
    }
   ],
   "source": [
    "#printing r2 score for testing and training models.\n",
    "#r2 score give value of how good the model has studied and learnt the data\n",
    "\n",
    "print(f'training R2 score after hyperparameter tuning:{r2_score(y_train,y_pred1)*100:.2f}%')\n",
    "print(f'testing R2 score after hyperparameter tuning:{r2_score(y_test,pred1)*100:.2f}%')"
   ]
  },
  {
   "cell_type": "markdown",
   "id": "d6b5f42b",
   "metadata": {},
   "source": [
    "# Using other regression  models"
   ]
  },
  {
   "cell_type": "code",
   "execution_count": 219,
   "id": "f5194b98",
   "metadata": {},
   "outputs": [],
   "source": [
    "#importing libraries for Random forests,KNeighbors and Decision Tree regressor\n",
    "\n",
    "from sklearn.ensemble import RandomForestRegressor\n",
    "from sklearn.neighbors import KNeighborsRegressor\n",
    "from sklearn.tree import DecisionTreeRegressor \n"
   ]
  },
  {
   "cell_type": "code",
   "execution_count": 220,
   "id": "a8267e84",
   "metadata": {},
   "outputs": [],
   "source": [
    "#saving models in variables\n",
    "rf=RandomForestRegressor()\n",
    "knn=KNeighborsRegressor()\n",
    "dt=DecisionTreeRegressor()"
   ]
  },
  {
   "cell_type": "markdown",
   "id": "f4933023",
   "metadata": {},
   "source": [
    "# Decision Tree Regressor Model"
   ]
  },
  {
   "cell_type": "code",
   "execution_count": 221,
   "id": "6ceee593",
   "metadata": {},
   "outputs": [
    {
     "name": "stdout",
     "output_type": "stream",
     "text": [
      "training score is  99.94547916438285  for random state  0\n",
      "testing score is  73.98102954614801  for random state  0\n",
      "training score is  100.0  for random state  1\n",
      "testing score is  70.1261839170039  for random state  1\n",
      "training score is  100.0  for random state  2\n",
      "testing score is  72.69761512408888  for random state  2\n",
      "training score is  99.82456382035372  for random state  3\n",
      "testing score is  70.75803977553062  for random state  3\n",
      "training score is  100.0  for random state  4\n",
      "testing score is  70.70744224859841  for random state  4\n",
      "training score is  100.0  for random state  5\n",
      "testing score is  67.09989584427774  for random state  5\n",
      "training score is  99.82524586207884  for random state  6\n",
      "testing score is  69.86637236778941  for random state  6\n",
      "training score is  99.94659932194966  for random state  7\n",
      "testing score is  76.65108209566714  for random state  7\n",
      "training score is  100.0  for random state  8\n",
      "testing score is  73.03524706342273  for random state  8\n",
      "training score is  100.0  for random state  9\n",
      "testing score is  65.1688573262201  for random state  9\n",
      "training score is  100.0  for random state  10\n",
      "testing score is  69.25627146145175  for random state  10\n",
      "training score is  99.8771836619706  for random state  11\n",
      "testing score is  73.52562762978113  for random state  11\n",
      "training score is  99.8269012669394  for random state  12\n",
      "testing score is  72.2836171752847  for random state  12\n",
      "training score is  99.87745119794553  for random state  13\n",
      "testing score is  75.98519742744658  for random state  13\n",
      "training score is  99.94714093961092  for random state  14\n",
      "testing score is  68.09755672540317  for random state  14\n",
      "training score is  99.82316075752392  for random state  15\n",
      "testing score is  75.82598909812144  for random state  15\n",
      "training score is  99.87667790121483  for random state  16\n",
      "testing score is  73.2988559139097  for random state  16\n",
      "training score is  99.88173813684658  for random state  17\n",
      "testing score is  68.61387833074315  for random state  17\n",
      "training score is  100.0  for random state  18\n",
      "testing score is  71.07656613380723  for random state  18\n",
      "training score is  99.8747491448138  for random state  19\n",
      "testing score is  66.91461915158683  for random state  19\n",
      "training score is  99.82060600117458  for random state  20\n",
      "testing score is  77.60764128840158  for random state  20\n",
      "training score is  99.9484055827453  for random state  21\n",
      "testing score is  64.3110348574693  for random state  21\n",
      "training score is  100.0  for random state  22\n",
      "testing score is  67.13660553149276  for random state  22\n",
      "training score is  99.87920550674806  for random state  23\n",
      "testing score is  68.19158137470285  for random state  23\n",
      "training score is  99.81573555347333  for random state  24\n",
      "testing score is  72.63546138964162  for random state  24\n",
      "training score is  100.0  for random state  25\n",
      "testing score is  75.66501620077261  for random state  25\n",
      "training score is  100.0  for random state  26\n",
      "testing score is  79.99785966526726  for random state  26\n",
      "training score is  99.94554839624273  for random state  27\n",
      "testing score is  72.10322003738602  for random state  27\n",
      "training score is  100.0  for random state  28\n",
      "testing score is  66.12237735675981  for random state  28\n",
      "training score is  99.87165053138861  for random state  29\n",
      "testing score is  71.12642641446895  for random state  29\n",
      "training score is  99.82059776615266  for random state  30\n",
      "testing score is  74.95256250657243  for random state  30\n",
      "training score is  99.8286622195235  for random state  31\n",
      "testing score is  70.37489101050144  for random state  31\n",
      "training score is  99.94727091888684  for random state  32\n",
      "testing score is  73.65401350893234  for random state  32\n",
      "training score is  99.82467650763226  for random state  33\n",
      "testing score is  74.92761744723259  for random state  33\n",
      "training score is  99.94546907511396  for random state  34\n",
      "testing score is  71.05461121497541  for random state  34\n",
      "training score is  99.81949508319224  for random state  35\n",
      "testing score is  70.6991178377973  for random state  35\n",
      "training score is  99.9504524434252  for random state  36\n",
      "testing score is  59.5960518637648  for random state  36\n",
      "training score is  99.88141785262027  for random state  37\n",
      "testing score is  67.4593552948137  for random state  37\n",
      "training score is  99.87935232670122  for random state  38\n",
      "testing score is  67.21915554777713  for random state  38\n",
      "training score is  100.0  for random state  39\n",
      "testing score is  75.00850261462828  for random state  39\n",
      "training score is  99.87670149630922  for random state  40\n",
      "testing score is  65.3989895934872  for random state  40\n",
      "training score is  99.88375457446449  for random state  41\n",
      "testing score is  72.28592899186586  for random state  41\n",
      "training score is  99.87411422200097  for random state  42\n",
      "testing score is  75.84501115494622  for random state  42\n",
      "training score is  99.87014968237814  for random state  43\n",
      "testing score is  67.83656742048082  for random state  43\n",
      "training score is  99.83053728798583  for random state  44\n",
      "testing score is  73.81714265269876  for random state  44\n",
      "training score is  99.82917579945335  for random state  45\n",
      "testing score is  71.34858189164297  for random state  45\n",
      "training score is  100.0  for random state  46\n",
      "testing score is  64.70537799106191  for random state  46\n",
      "training score is  99.94591532097704  for random state  47\n",
      "testing score is  69.93280005665228  for random state  47\n",
      "training score is  100.0  for random state  48\n",
      "testing score is  70.82675389230546  for random state  48\n",
      "training score is  100.0  for random state  49\n",
      "testing score is  66.61891499840854  for random state  49\n"
     ]
    }
   ],
   "source": [
    "#finding best random state for knn model\n",
    "\n",
    "for i in range(0,50):\n",
    "    x_train,x_test,y_train,y_test=train_test_split(x_scaled,y,test_size=0.25,random_state=i)\n",
    "    dt.fit(x_train,y_train)\n",
    "    y_pred_dt=dt.predict(x_train)\n",
    "    pred_dt=dt.predict(x_test)\n",
    "    print('training score is ',(metrics.r2_score(y_train,y_pred_dt)*100),' for random state ',i)\n",
    "    print('testing score is ',(metrics.r2_score(y_test,pred_dt)*100),' for random state ',i)"
   ]
  },
  {
   "cell_type": "markdown",
   "id": "197c0d52",
   "metadata": {},
   "source": [
    " best random state for decision tree model is 26 providing training and testing score of 100 and 79.99 repectively"
   ]
  },
  {
   "cell_type": "code",
   "execution_count": 222,
   "id": "4bf99676",
   "metadata": {},
   "outputs": [
    {
     "data": {
      "text/html": [
       "<style>#sk-container-id-20 {color: black;background-color: white;}#sk-container-id-20 pre{padding: 0;}#sk-container-id-20 div.sk-toggleable {background-color: white;}#sk-container-id-20 label.sk-toggleable__label {cursor: pointer;display: block;width: 100%;margin-bottom: 0;padding: 0.3em;box-sizing: border-box;text-align: center;}#sk-container-id-20 label.sk-toggleable__label-arrow:before {content: \"▸\";float: left;margin-right: 0.25em;color: #696969;}#sk-container-id-20 label.sk-toggleable__label-arrow:hover:before {color: black;}#sk-container-id-20 div.sk-estimator:hover label.sk-toggleable__label-arrow:before {color: black;}#sk-container-id-20 div.sk-toggleable__content {max-height: 0;max-width: 0;overflow: hidden;text-align: left;background-color: #f0f8ff;}#sk-container-id-20 div.sk-toggleable__content pre {margin: 0.2em;color: black;border-radius: 0.25em;background-color: #f0f8ff;}#sk-container-id-20 input.sk-toggleable__control:checked~div.sk-toggleable__content {max-height: 200px;max-width: 100%;overflow: auto;}#sk-container-id-20 input.sk-toggleable__control:checked~label.sk-toggleable__label-arrow:before {content: \"▾\";}#sk-container-id-20 div.sk-estimator input.sk-toggleable__control:checked~label.sk-toggleable__label {background-color: #d4ebff;}#sk-container-id-20 div.sk-label input.sk-toggleable__control:checked~label.sk-toggleable__label {background-color: #d4ebff;}#sk-container-id-20 input.sk-hidden--visually {border: 0;clip: rect(1px 1px 1px 1px);clip: rect(1px, 1px, 1px, 1px);height: 1px;margin: -1px;overflow: hidden;padding: 0;position: absolute;width: 1px;}#sk-container-id-20 div.sk-estimator {font-family: monospace;background-color: #f0f8ff;border: 1px dotted black;border-radius: 0.25em;box-sizing: border-box;margin-bottom: 0.5em;}#sk-container-id-20 div.sk-estimator:hover {background-color: #d4ebff;}#sk-container-id-20 div.sk-parallel-item::after {content: \"\";width: 100%;border-bottom: 1px solid gray;flex-grow: 1;}#sk-container-id-20 div.sk-label:hover label.sk-toggleable__label {background-color: #d4ebff;}#sk-container-id-20 div.sk-serial::before {content: \"\";position: absolute;border-left: 1px solid gray;box-sizing: border-box;top: 0;bottom: 0;left: 50%;z-index: 0;}#sk-container-id-20 div.sk-serial {display: flex;flex-direction: column;align-items: center;background-color: white;padding-right: 0.2em;padding-left: 0.2em;position: relative;}#sk-container-id-20 div.sk-item {position: relative;z-index: 1;}#sk-container-id-20 div.sk-parallel {display: flex;align-items: stretch;justify-content: center;background-color: white;position: relative;}#sk-container-id-20 div.sk-item::before, #sk-container-id-20 div.sk-parallel-item::before {content: \"\";position: absolute;border-left: 1px solid gray;box-sizing: border-box;top: 0;bottom: 0;left: 50%;z-index: -1;}#sk-container-id-20 div.sk-parallel-item {display: flex;flex-direction: column;z-index: 1;position: relative;background-color: white;}#sk-container-id-20 div.sk-parallel-item:first-child::after {align-self: flex-end;width: 50%;}#sk-container-id-20 div.sk-parallel-item:last-child::after {align-self: flex-start;width: 50%;}#sk-container-id-20 div.sk-parallel-item:only-child::after {width: 0;}#sk-container-id-20 div.sk-dashed-wrapped {border: 1px dashed gray;margin: 0 0.4em 0.5em 0.4em;box-sizing: border-box;padding-bottom: 0.4em;background-color: white;}#sk-container-id-20 div.sk-label label {font-family: monospace;font-weight: bold;display: inline-block;line-height: 1.2em;}#sk-container-id-20 div.sk-label-container {text-align: center;}#sk-container-id-20 div.sk-container {/* jupyter's `normalize.less` sets `[hidden] { display: none; }` but bootstrap.min.css set `[hidden] { display: none !important; }` so we also need the `!important` here to be able to override the default hidden behavior on the sphinx rendered scikit-learn.org. See: https://github.com/scikit-learn/scikit-learn/issues/21755 */display: inline-block !important;position: relative;}#sk-container-id-20 div.sk-text-repr-fallback {display: none;}</style><div id=\"sk-container-id-20\" class=\"sk-top-container\"><div class=\"sk-text-repr-fallback\"><pre>DecisionTreeRegressor()</pre><b>In a Jupyter environment, please rerun this cell to show the HTML representation or trust the notebook. <br />On GitHub, the HTML representation is unable to render, please try loading this page with nbviewer.org.</b></div><div class=\"sk-container\" hidden><div class=\"sk-item\"><div class=\"sk-estimator sk-toggleable\"><input class=\"sk-toggleable__control sk-hidden--visually\" id=\"sk-estimator-id-26\" type=\"checkbox\" checked><label for=\"sk-estimator-id-26\" class=\"sk-toggleable__label sk-toggleable__label-arrow\">DecisionTreeRegressor</label><div class=\"sk-toggleable__content\"><pre>DecisionTreeRegressor()</pre></div></div></div></div></div>"
      ],
      "text/plain": [
       "DecisionTreeRegressor()"
      ]
     },
     "execution_count": 222,
     "metadata": {},
     "output_type": "execute_result"
    }
   ],
   "source": [
    "#train test split and training model with training dataset\n",
    "\n",
    "x_train,x_test,y_train,y_test=train_test_split(x_scaled,y,test_size=0.25,random_state=26)\n",
    "dt.fit(x_train,y_train)"
   ]
  },
  {
   "cell_type": "code",
   "execution_count": 223,
   "id": "81403836",
   "metadata": {},
   "outputs": [],
   "source": [
    "#learning the model for train and test datasets\n",
    "y_pred_dt=dt.predict(x_train)\n",
    "\n",
    "pred_dt=dt.predict(x_test)"
   ]
  },
  {
   "cell_type": "code",
   "execution_count": 224,
   "id": "978ce23a",
   "metadata": {},
   "outputs": [
    {
     "name": "stdout",
     "output_type": "stream",
     "text": [
      "training R2 score for Decision Tree Regressor:100.00%\n",
      "testing R2 score for Decision Tree Regressor:80.11%\n"
     ]
    }
   ],
   "source": [
    "#printing r2 score for testing and training models.\n",
    "#r2 score give value of how good the model has studied and learnt the data\n",
    "\n",
    "print(f'training R2 score for Decision Tree Regressor:{r2_score(y_train,y_pred_dt)*100:.2f}%')\n",
    "print(f'testing R2 score for Decision Tree Regressor:{r2_score(y_test,pred_dt)*100:.2f}%')"
   ]
  },
  {
   "cell_type": "markdown",
   "id": "77919877",
   "metadata": {},
   "source": [
    "# Finding cross validation score for decision tree model"
   ]
  },
  {
   "cell_type": "code",
   "execution_count": 235,
   "id": "7eabc232",
   "metadata": {},
   "outputs": [
    {
     "name": "stdout",
     "output_type": "stream",
     "text": [
      "Cross Validation Score for Decision Tree Regressor model is-  71.49140781907816\n"
     ]
    }
   ],
   "source": [
    "cvs_dt=cross_val_score(dt,x_scaled,y,cv=14).mean()\n",
    "print('Cross Validation Score for Decision Tree Regressor model is- ',(cvs_dt)*100)"
   ]
  },
  {
   "cell_type": "markdown",
   "id": "8f2876fe",
   "metadata": {},
   "source": [
    "# K Neighbors regressor Model"
   ]
  },
  {
   "cell_type": "code",
   "execution_count": 227,
   "id": "d93ecee7",
   "metadata": {},
   "outputs": [
    {
     "name": "stdout",
     "output_type": "stream",
     "text": [
      "training score is  86.07908131943789  for random state  0\n",
      "testing score is  85.48938068474641  for random state  0\n",
      "training score is  87.59826922080607  for random state  1\n",
      "testing score is  80.21151121510302  for random state  1\n",
      "training score is  87.38414345022619  for random state  2\n",
      "testing score is  81.38355206139097  for random state  2\n",
      "training score is  87.73266304961591  for random state  3\n",
      "testing score is  81.07130187550449  for random state  3\n",
      "training score is  88.20997685957228  for random state  4\n",
      "testing score is  79.12941580992214  for random state  4\n",
      "training score is  86.93381359169045  for random state  5\n",
      "testing score is  82.95031835605675  for random state  5\n",
      "training score is  87.56832932091274  for random state  6\n",
      "testing score is  82.10664578728667  for random state  6\n",
      "training score is  87.73764228492045  for random state  7\n",
      "testing score is  82.42926521441882  for random state  7\n",
      "training score is  87.64727481669267  for random state  8\n",
      "testing score is  79.79010521558163  for random state  8\n",
      "training score is  87.47196961050676  for random state  9\n",
      "testing score is  81.48909941062689  for random state  9\n",
      "training score is  88.14046345788957  for random state  10\n",
      "testing score is  78.86101908359615  for random state  10\n",
      "training score is  87.30355940051146  for random state  11\n",
      "testing score is  83.11317299714567  for random state  11\n",
      "training score is  88.34543608612739  for random state  12\n",
      "testing score is  76.18233841517672  for random state  12\n",
      "training score is  86.26778662761225  for random state  13\n",
      "testing score is  86.19634692160032  for random state  13\n",
      "training score is  87.4544742718324  for random state  14\n",
      "testing score is  81.7746336785951  for random state  14\n",
      "training score is  86.02823586699994  for random state  15\n",
      "testing score is  85.62610993070942  for random state  15\n",
      "training score is  88.11862428481022  for random state  16\n",
      "testing score is  79.34687570035818  for random state  16\n",
      "training score is  87.3007389747889  for random state  17\n",
      "testing score is  81.82853322088238  for random state  17\n",
      "training score is  87.22933243184427  for random state  18\n",
      "testing score is  83.12490860037927  for random state  18\n",
      "training score is  87.15013322532255  for random state  19\n",
      "testing score is  81.47639335765072  for random state  19\n",
      "training score is  86.3906482495833  for random state  20\n",
      "testing score is  86.36216216043425  for random state  20\n",
      "training score is  88.43823243678251  for random state  21\n",
      "testing score is  76.83755928362397  for random state  21\n",
      "training score is  87.70497693733886  for random state  22\n",
      "testing score is  80.96704878391222  for random state  22\n",
      "training score is  87.58959193204753  for random state  23\n",
      "testing score is  80.77264320816666  for random state  23\n",
      "training score is  87.19441887078007  for random state  24\n",
      "testing score is  82.22305845124619  for random state  24\n",
      "training score is  86.29317878338637  for random state  25\n",
      "testing score is  85.5305530013159  for random state  25\n",
      "training score is  86.9781077476786  for random state  26\n",
      "testing score is  82.37390514284019  for random state  26\n",
      "training score is  87.52195563965721  for random state  27\n",
      "testing score is  80.74829614495057  for random state  27\n",
      "training score is  87.96989159369923  for random state  28\n",
      "testing score is  78.47108593714049  for random state  28\n",
      "training score is  88.07964170930197  for random state  29\n",
      "testing score is  79.87719723407987  for random state  29\n",
      "training score is  87.44724645458328  for random state  30\n",
      "testing score is  79.5662388375886  for random state  30\n",
      "training score is  88.0941729240525  for random state  31\n",
      "testing score is  78.66243160838702  for random state  31\n",
      "training score is  87.13118295300997  for random state  32\n",
      "testing score is  84.9578291007564  for random state  32\n",
      "training score is  87.79058761740065  for random state  33\n",
      "testing score is  79.41741783148306  for random state  33\n",
      "training score is  87.14041034867198  for random state  34\n",
      "testing score is  82.1236200122036  for random state  34\n",
      "training score is  87.81681396123375  for random state  35\n",
      "testing score is  79.06299750449286  for random state  35\n",
      "training score is  87.87420348752723  for random state  36\n",
      "testing score is  80.35784583965898  for random state  36\n",
      "training score is  88.15483469456755  for random state  37\n",
      "testing score is  79.13041878862144  for random state  37\n",
      "training score is  88.41287170585568  for random state  38\n",
      "testing score is  79.8486904143065  for random state  38\n",
      "training score is  87.59888739394466  for random state  39\n",
      "testing score is  80.89957628324242  for random state  39\n",
      "training score is  87.95476347018639  for random state  40\n",
      "testing score is  79.94722801229503  for random state  40\n",
      "training score is  87.25825927969628  for random state  41\n",
      "testing score is  81.56937457338351  for random state  41\n",
      "training score is  86.9135236129178  for random state  42\n",
      "testing score is  82.68961235918243  for random state  42\n",
      "training score is  88.25475388494422  for random state  43\n",
      "testing score is  78.05078991484949  for random state  43\n",
      "training score is  87.8166302347078  for random state  44\n",
      "testing score is  80.72632594715053  for random state  44\n",
      "training score is  87.49722340758701  for random state  45\n",
      "testing score is  78.8929406522633  for random state  45\n",
      "training score is  87.19426727201805  for random state  46\n",
      "testing score is  80.08237670938011  for random state  46\n",
      "training score is  86.78629126847267  for random state  47\n",
      "testing score is  82.99503990703178  for random state  47\n",
      "training score is  87.93102612117742  for random state  48\n",
      "testing score is  79.90449247114874  for random state  48\n",
      "training score is  86.70474951314624  for random state  49\n",
      "testing score is  82.53538534688911  for random state  49\n"
     ]
    }
   ],
   "source": [
    "#Finding best random state for knn model\n",
    "\n",
    "for i in range(0,50):\n",
    "    x_train,x_test,y_train,y_test=train_test_split(x_scaled,y,test_size=0.25,random_state=i)\n",
    "    knn.fit(x_train,y_train)\n",
    "    y_pred_knn=knn.predict(x_train)\n",
    "    pred_knn=knn.predict(x_test)\n",
    "    print('training score is ',(metrics.r2_score(y_train,y_pred_knn)*100),' for random state ',i)\n",
    "    print('testing score is ',(metrics.r2_score(y_test,pred_knn)*100),' for random state ',i)"
   ]
  },
  {
   "cell_type": "markdown",
   "id": "16bb1d8a",
   "metadata": {},
   "source": [
    "best random state for decision tree model is 20 providing training and testing score of 86.39 and 86.66 repectively\n"
   ]
  },
  {
   "cell_type": "code",
   "execution_count": 229,
   "id": "ba8e0a0d",
   "metadata": {},
   "outputs": [
    {
     "name": "stdout",
     "output_type": "stream",
     "text": [
      "training R2 score for KNeighbors Regressor model:86.39%\n",
      "testing R2 score for KNeighbors Regressor model:86.36%\n"
     ]
    }
   ],
   "source": [
    "#train_test split\n",
    "x_train,x_test,y_train,y_test=train_test_split(x_scaled,y,test_size=0.25,random_state=20)\n",
    "\n",
    "#training the model on train data\n",
    "knn.fit(x_train,y_train)\n",
    "\n",
    "#predicting model on train and test data\n",
    "y_pred_knn=knn.predict(x_train)\n",
    "pred_knn=knn.predict(x_test)\n",
    "\n",
    "\n",
    "print(f'training R2 score for KNeighbors Regressor model:{r2_score(y_train,y_pred_knn)*100:.2f}%')\n",
    "print(f'testing R2 score for KNeighbors Regressor model:{r2_score(y_test,pred_knn)*100:.2f}%')"
   ]
  },
  {
   "cell_type": "markdown",
   "id": "a31fefe4",
   "metadata": {},
   "source": [
    "# Cross Validation Score for KNeighbors Regressor model"
   ]
  },
  {
   "cell_type": "code",
   "execution_count": 231,
   "id": "73504df9",
   "metadata": {
    "scrolled": true
   },
   "outputs": [
    {
     "name": "stdout",
     "output_type": "stream",
     "text": [
      "Cross Validation Score for KNeighbors Regresssor model-  80.69292121841744\n"
     ]
    }
   ],
   "source": [
    "cvs_knn=cross_val_score(knn,x_scaled,y,cv=14).mean()\n",
    "print('Cross Validation Score for KNeighbors Regresssor model- ',((cvs_knn)*100))"
   ]
  },
  {
   "cell_type": "markdown",
   "id": "5a375630",
   "metadata": {},
   "source": [
    "# Random Forests model"
   ]
  },
  {
   "cell_type": "code",
   "execution_count": 232,
   "id": "160c2c36",
   "metadata": {},
   "outputs": [
    {
     "name": "stdout",
     "output_type": "stream",
     "text": [
      "training score is  97.43408403407516  for random state  0\n",
      "testing score is  87.25179624012796  for random state  0\n",
      "training score is  97.67412505064037  for random state  1\n",
      "testing score is  82.56987668708535  for random state  1\n",
      "training score is  97.71293632302189  for random state  2\n",
      "testing score is  84.31537129898821  for random state  2\n",
      "training score is  97.64117711434899  for random state  3\n",
      "testing score is  84.47189561135364  for random state  3\n",
      "training score is  97.84525091821685  for random state  4\n",
      "testing score is  81.44387772252102  for random state  4\n",
      "training score is  97.6702493560964  for random state  5\n",
      "testing score is  85.09898156219644  for random state  5\n",
      "training score is  97.5349799653919  for random state  6\n",
      "testing score is  86.63625508530856  for random state  6\n",
      "training score is  97.7543643420856  for random state  7\n",
      "testing score is  83.72173617057031  for random state  7\n",
      "training score is  97.77627219290983  for random state  8\n",
      "testing score is  84.56381111235399  for random state  8\n",
      "training score is  97.68291966829057  for random state  9\n",
      "testing score is  83.32090785472194  for random state  9\n",
      "training score is  97.77411087728551  for random state  10\n",
      "testing score is  83.35355961941184  for random state  10\n",
      "training score is  97.62312446468322  for random state  11\n",
      "testing score is  86.09648336106217  for random state  11\n",
      "training score is  97.69107498398259  for random state  12\n",
      "testing score is  81.78463286165147  for random state  12\n",
      "training score is  97.39623424287504  for random state  13\n",
      "testing score is  88.71285030116144  for random state  13\n",
      "training score is  97.6076505937266  for random state  14\n",
      "testing score is  85.1012761348322  for random state  14\n",
      "training score is  97.39841166305155  for random state  15\n",
      "testing score is  88.5056590278104  for random state  15\n",
      "training score is  97.86115583825926  for random state  16\n",
      "testing score is  82.34007522825246  for random state  16\n",
      "training score is  97.67663289699767  for random state  17\n",
      "testing score is  85.14354691483365  for random state  17\n",
      "training score is  97.74650314669843  for random state  18\n",
      "testing score is  84.33934391926185  for random state  18\n",
      "training score is  97.6614831496636  for random state  19\n",
      "testing score is  84.39489023566786  for random state  19\n",
      "training score is  97.49604698033878  for random state  20\n",
      "testing score is  87.48549642485867  for random state  20\n",
      "training score is  97.87311637770897  for random state  21\n",
      "testing score is  80.28061678734754  for random state  21\n",
      "training score is  97.82313863005598  for random state  22\n",
      "testing score is  82.66906588386477  for random state  22\n",
      "training score is  97.78048335273832  for random state  23\n",
      "testing score is  81.31102566106084  for random state  23\n",
      "training score is  97.43314026605324  for random state  24\n",
      "testing score is  85.87918600946395  for random state  24\n",
      "training score is  97.59637709744248  for random state  25\n",
      "testing score is  86.63426646905333  for random state  25\n",
      "training score is  97.57263273791666  for random state  26\n",
      "testing score is  85.51312783278128  for random state  26\n",
      "training score is  97.79491934536213  for random state  27\n",
      "testing score is  82.66891981858372  for random state  27\n",
      "training score is  97.88940871654107  for random state  28\n",
      "testing score is  81.52046639125805  for random state  28\n",
      "training score is  97.67521934328582  for random state  29\n",
      "testing score is  83.08520535182184  for random state  29\n",
      "training score is  97.80516029199471  for random state  30\n",
      "testing score is  81.9584001028561  for random state  30\n",
      "training score is  97.75416999793183  for random state  31\n",
      "testing score is  82.19806021777704  for random state  31\n",
      "training score is  97.63313456970934  for random state  32\n",
      "testing score is  85.48714636492409  for random state  32\n",
      "training score is  97.6013467911817  for random state  33\n",
      "testing score is  83.55707813084979  for random state  33\n",
      "training score is  97.53459996209176  for random state  34\n",
      "testing score is  84.84021422441398  for random state  34\n",
      "training score is  97.82013452332343  for random state  35\n",
      "testing score is  81.76402456143326  for random state  35\n",
      "training score is  97.73689550371878  for random state  36\n",
      "testing score is  80.76394956208061  for random state  36\n",
      "training score is  97.72896463415627  for random state  37\n",
      "testing score is  83.53939271630054  for random state  37\n",
      "training score is  97.73881290559872  for random state  38\n",
      "testing score is  83.08195055343073  for random state  38\n",
      "training score is  97.7234929621763  for random state  39\n",
      "testing score is  84.31123415234778  for random state  39\n",
      "training score is  97.66006055495761  for random state  40\n",
      "testing score is  84.36414498353034  for random state  40\n",
      "training score is  97.64391324311528  for random state  41\n",
      "testing score is  83.62265385505975  for random state  41\n",
      "training score is  97.5024574786472  for random state  42\n",
      "testing score is  84.87272719637258  for random state  42\n",
      "training score is  97.98330436306183  for random state  43\n",
      "testing score is  80.42665165906074  for random state  43\n",
      "training score is  97.47256352678228  for random state  44\n",
      "testing score is  84.61053023160416  for random state  44\n",
      "training score is  97.59155713385897  for random state  45\n",
      "testing score is  83.89414989726556  for random state  45\n",
      "training score is  97.76465707840242  for random state  46\n",
      "testing score is  82.52207928717185  for random state  46\n",
      "training score is  97.78764729669638  for random state  47\n",
      "testing score is  84.38229373057811  for random state  47\n",
      "training score is  97.85870050044396  for random state  48\n",
      "testing score is  80.95805824305388  for random state  48\n",
      "training score is  97.62849804342896  for random state  49\n",
      "testing score is  84.7932125062442  for random state  49\n"
     ]
    }
   ],
   "source": [
    "#finding best random state for Random Forests model\n",
    "\n",
    "for i in range(0,50):\n",
    "    x_train,x_test,y_train,y_test=train_test_split(x_scaled,y,test_size=0.25,random_state=i)\n",
    "    rf.fit(x_train,y_train)\n",
    "    y_pred_rf=rf.predict(x_train)\n",
    "    pred_rf=rf.predict(x_test)\n",
    "    print('training score is ',(metrics.r2_score(y_train,y_pred_rf)*100),' for random state ',i)\n",
    "    print('testing score is ',(metrics.r2_score(y_test,pred_rf)*100),' for random state ',i)"
   ]
  },
  {
   "cell_type": "markdown",
   "id": "5074c653",
   "metadata": {},
   "source": [
    "best random state for Random forests regressor model is 13 with training and testing score of 97.39 and 88.71 respectively."
   ]
  },
  {
   "cell_type": "code",
   "execution_count": 233,
   "id": "e5a4cb3b",
   "metadata": {},
   "outputs": [
    {
     "name": "stdout",
     "output_type": "stream",
     "text": [
      "Training R2 score for random forests regressor model:97.51%\n",
      "Testing R2 score for random forests regressor model:87.25%\n"
     ]
    }
   ],
   "source": [
    "#train_test split\n",
    "x_train,x_test,y_train,y_test=train_test_split(x_scaled,y,test_size=0.25,random_state=20)\n",
    "\n",
    "#training the model\n",
    "rf.fit(x_train,y_train)\n",
    "\n",
    "#predicting model on train and test data\n",
    "y_pred_rf=rf.predict(x_train)\n",
    "pred_rf=rf.predict(x_test)\n",
    "\n",
    "\n",
    "print(f'Training R2 score for random forests regressor model:{r2_score(y_train,y_pred_rf)*100:.2f}%')\n",
    "print(f'Testing R2 score for random forests regressor model:{r2_score(y_test,pred_rf)*100:.2f}%')"
   ]
  },
  {
   "cell_type": "markdown",
   "id": "57202760",
   "metadata": {},
   "source": [
    "# Cross Validation Score for Random Forests Regressor model"
   ]
  },
  {
   "cell_type": "code",
   "execution_count": 234,
   "id": "f2d5219f",
   "metadata": {},
   "outputs": [
    {
     "name": "stdout",
     "output_type": "stream",
     "text": [
      "Cross Validation Score for Random forests regressor model is-  83.31297042048931\n"
     ]
    }
   ],
   "source": [
    "cvs_rf=cross_val_score(rf,x_scaled,y,cv=14).mean()\n",
    "print('Cross Validation Score for Random forests regressor model is- ',((cvs_rf)*100))"
   ]
  },
  {
   "cell_type": "markdown",
   "id": "b99190c9",
   "metadata": {},
   "source": [
    "# Dataframe showing all the training,testing and cross validation scores of different models used."
   ]
  },
  {
   "cell_type": "code",
   "execution_count": 238,
   "id": "1f7f8682",
   "metadata": {
    "scrolled": true
   },
   "outputs": [
    {
     "data": {
      "text/html": [
       "<div>\n",
       "<style scoped>\n",
       "    .dataframe tbody tr th:only-of-type {\n",
       "        vertical-align: middle;\n",
       "    }\n",
       "\n",
       "    .dataframe tbody tr th {\n",
       "        vertical-align: top;\n",
       "    }\n",
       "\n",
       "    .dataframe thead th {\n",
       "        text-align: right;\n",
       "    }\n",
       "</style>\n",
       "<table border=\"1\" class=\"dataframe\">\n",
       "  <thead>\n",
       "    <tr style=\"text-align: right;\">\n",
       "      <th></th>\n",
       "      <th>Model</th>\n",
       "      <th>Training scores</th>\n",
       "      <th>Testing scores</th>\n",
       "      <th>Cross validation score</th>\n",
       "    </tr>\n",
       "  </thead>\n",
       "  <tbody>\n",
       "    <tr>\n",
       "      <th>0</th>\n",
       "      <td>Linear Regression</td>\n",
       "      <td>74.83</td>\n",
       "      <td>74.83</td>\n",
       "      <td>73.93</td>\n",
       "    </tr>\n",
       "    <tr>\n",
       "      <th>1</th>\n",
       "      <td>Decision Tree</td>\n",
       "      <td>100.00</td>\n",
       "      <td>80.11</td>\n",
       "      <td>71.49</td>\n",
       "    </tr>\n",
       "    <tr>\n",
       "      <th>2</th>\n",
       "      <td>KNeighbors</td>\n",
       "      <td>86.39</td>\n",
       "      <td>86.36</td>\n",
       "      <td>80.69</td>\n",
       "    </tr>\n",
       "    <tr>\n",
       "      <th>3</th>\n",
       "      <td>Random Forests</td>\n",
       "      <td>97.51</td>\n",
       "      <td>87.25</td>\n",
       "      <td>83.31</td>\n",
       "    </tr>\n",
       "  </tbody>\n",
       "</table>\n",
       "</div>"
      ],
      "text/plain": [
       "               Model  Training scores  Testing scores  Cross validation score\n",
       "0  Linear Regression            74.83           74.83                   73.93\n",
       "1      Decision Tree           100.00           80.11                   71.49\n",
       "2         KNeighbors            86.39           86.36                   80.69\n",
       "3     Random Forests            97.51           87.25                   83.31"
      ]
     },
     "execution_count": 238,
     "metadata": {},
     "output_type": "execute_result"
    }
   ],
   "source": [
    "column=pd.DataFrame({'Model':['Linear Regression','Decision Tree','KNeighbors','Random Forests'],\n",
    "                    'Training scores':[74.83,100,86.39,97.51],\n",
    "                    'Testing scores':[74.83,80.11,86.36,87.25],\n",
    "                    'Cross validation score':[73.93,71.49,80.69,83.31]})\n",
    "column"
   ]
  },
  {
   "cell_type": "markdown",
   "id": "0350aadf",
   "metadata": {},
   "source": [
    "#in my opinion random forest is the best model as it has higher r2 score in training as well as testing"
   ]
  },
  {
   "cell_type": "markdown",
   "id": "acedcf77",
   "metadata": {},
   "source": [
    "# Performing hyperparameter tuning on random Forest model"
   ]
  },
  {
   "cell_type": "code",
   "execution_count": 137,
   "id": "8582d737",
   "metadata": {},
   "outputs": [],
   "source": [
    "#hyperparameter tuning on random forests model\n",
    "rf1=RandomForestRegressor()"
   ]
  },
  {
   "cell_type": "code",
   "execution_count": 138,
   "id": "22ffc71e",
   "metadata": {},
   "outputs": [],
   "source": [
    "#setting parameters for model\n",
    "\n",
    "params=[{'n_estimators':[10,20],\n",
    "       'criterion':['squared_error', 'absolute_error', 'poisson'],\n",
    "       'max_depth':[10,15],\n",
    "        'min_samples_split':[10,11],\n",
    "        'min_samples_leaf':[5,6]}]"
   ]
  },
  {
   "cell_type": "code",
   "execution_count": 139,
   "id": "1a05fc18",
   "metadata": {},
   "outputs": [],
   "source": [
    "#instantiating model with parameters provided\n",
    "\n",
    "grid_search=GridSearchCV(estimator=rf1,param_grid=params,cv=14)"
   ]
  },
  {
   "cell_type": "code",
   "execution_count": 140,
   "id": "b6e81d68",
   "metadata": {},
   "outputs": [
    {
     "data": {
      "text/html": [
       "<style>#sk-container-id-9 {color: black;background-color: white;}#sk-container-id-9 pre{padding: 0;}#sk-container-id-9 div.sk-toggleable {background-color: white;}#sk-container-id-9 label.sk-toggleable__label {cursor: pointer;display: block;width: 100%;margin-bottom: 0;padding: 0.3em;box-sizing: border-box;text-align: center;}#sk-container-id-9 label.sk-toggleable__label-arrow:before {content: \"▸\";float: left;margin-right: 0.25em;color: #696969;}#sk-container-id-9 label.sk-toggleable__label-arrow:hover:before {color: black;}#sk-container-id-9 div.sk-estimator:hover label.sk-toggleable__label-arrow:before {color: black;}#sk-container-id-9 div.sk-toggleable__content {max-height: 0;max-width: 0;overflow: hidden;text-align: left;background-color: #f0f8ff;}#sk-container-id-9 div.sk-toggleable__content pre {margin: 0.2em;color: black;border-radius: 0.25em;background-color: #f0f8ff;}#sk-container-id-9 input.sk-toggleable__control:checked~div.sk-toggleable__content {max-height: 200px;max-width: 100%;overflow: auto;}#sk-container-id-9 input.sk-toggleable__control:checked~label.sk-toggleable__label-arrow:before {content: \"▾\";}#sk-container-id-9 div.sk-estimator input.sk-toggleable__control:checked~label.sk-toggleable__label {background-color: #d4ebff;}#sk-container-id-9 div.sk-label input.sk-toggleable__control:checked~label.sk-toggleable__label {background-color: #d4ebff;}#sk-container-id-9 input.sk-hidden--visually {border: 0;clip: rect(1px 1px 1px 1px);clip: rect(1px, 1px, 1px, 1px);height: 1px;margin: -1px;overflow: hidden;padding: 0;position: absolute;width: 1px;}#sk-container-id-9 div.sk-estimator {font-family: monospace;background-color: #f0f8ff;border: 1px dotted black;border-radius: 0.25em;box-sizing: border-box;margin-bottom: 0.5em;}#sk-container-id-9 div.sk-estimator:hover {background-color: #d4ebff;}#sk-container-id-9 div.sk-parallel-item::after {content: \"\";width: 100%;border-bottom: 1px solid gray;flex-grow: 1;}#sk-container-id-9 div.sk-label:hover label.sk-toggleable__label {background-color: #d4ebff;}#sk-container-id-9 div.sk-serial::before {content: \"\";position: absolute;border-left: 1px solid gray;box-sizing: border-box;top: 0;bottom: 0;left: 50%;z-index: 0;}#sk-container-id-9 div.sk-serial {display: flex;flex-direction: column;align-items: center;background-color: white;padding-right: 0.2em;padding-left: 0.2em;position: relative;}#sk-container-id-9 div.sk-item {position: relative;z-index: 1;}#sk-container-id-9 div.sk-parallel {display: flex;align-items: stretch;justify-content: center;background-color: white;position: relative;}#sk-container-id-9 div.sk-item::before, #sk-container-id-9 div.sk-parallel-item::before {content: \"\";position: absolute;border-left: 1px solid gray;box-sizing: border-box;top: 0;bottom: 0;left: 50%;z-index: -1;}#sk-container-id-9 div.sk-parallel-item {display: flex;flex-direction: column;z-index: 1;position: relative;background-color: white;}#sk-container-id-9 div.sk-parallel-item:first-child::after {align-self: flex-end;width: 50%;}#sk-container-id-9 div.sk-parallel-item:last-child::after {align-self: flex-start;width: 50%;}#sk-container-id-9 div.sk-parallel-item:only-child::after {width: 0;}#sk-container-id-9 div.sk-dashed-wrapped {border: 1px dashed gray;margin: 0 0.4em 0.5em 0.4em;box-sizing: border-box;padding-bottom: 0.4em;background-color: white;}#sk-container-id-9 div.sk-label label {font-family: monospace;font-weight: bold;display: inline-block;line-height: 1.2em;}#sk-container-id-9 div.sk-label-container {text-align: center;}#sk-container-id-9 div.sk-container {/* jupyter's `normalize.less` sets `[hidden] { display: none; }` but bootstrap.min.css set `[hidden] { display: none !important; }` so we also need the `!important` here to be able to override the default hidden behavior on the sphinx rendered scikit-learn.org. See: https://github.com/scikit-learn/scikit-learn/issues/21755 */display: inline-block !important;position: relative;}#sk-container-id-9 div.sk-text-repr-fallback {display: none;}</style><div id=\"sk-container-id-9\" class=\"sk-top-container\"><div class=\"sk-text-repr-fallback\"><pre>GridSearchCV(cv=14, estimator=RandomForestRegressor(),\n",
       "             param_grid=[{&#x27;criterion&#x27;: [&#x27;squared_error&#x27;, &#x27;absolute_error&#x27;,\n",
       "                                        &#x27;poisson&#x27;],\n",
       "                          &#x27;max_depth&#x27;: [10, 15], &#x27;min_samples_leaf&#x27;: [5, 6],\n",
       "                          &#x27;min_samples_split&#x27;: [10, 11],\n",
       "                          &#x27;n_estimators&#x27;: [10, 20]}])</pre><b>In a Jupyter environment, please rerun this cell to show the HTML representation or trust the notebook. <br />On GitHub, the HTML representation is unable to render, please try loading this page with nbviewer.org.</b></div><div class=\"sk-container\" hidden><div class=\"sk-item sk-dashed-wrapped\"><div class=\"sk-label-container\"><div class=\"sk-label sk-toggleable\"><input class=\"sk-toggleable__control sk-hidden--visually\" id=\"sk-estimator-id-11\" type=\"checkbox\" ><label for=\"sk-estimator-id-11\" class=\"sk-toggleable__label sk-toggleable__label-arrow\">GridSearchCV</label><div class=\"sk-toggleable__content\"><pre>GridSearchCV(cv=14, estimator=RandomForestRegressor(),\n",
       "             param_grid=[{&#x27;criterion&#x27;: [&#x27;squared_error&#x27;, &#x27;absolute_error&#x27;,\n",
       "                                        &#x27;poisson&#x27;],\n",
       "                          &#x27;max_depth&#x27;: [10, 15], &#x27;min_samples_leaf&#x27;: [5, 6],\n",
       "                          &#x27;min_samples_split&#x27;: [10, 11],\n",
       "                          &#x27;n_estimators&#x27;: [10, 20]}])</pre></div></div></div><div class=\"sk-parallel\"><div class=\"sk-parallel-item\"><div class=\"sk-item\"><div class=\"sk-label-container\"><div class=\"sk-label sk-toggleable\"><input class=\"sk-toggleable__control sk-hidden--visually\" id=\"sk-estimator-id-12\" type=\"checkbox\" ><label for=\"sk-estimator-id-12\" class=\"sk-toggleable__label sk-toggleable__label-arrow\">estimator: RandomForestRegressor</label><div class=\"sk-toggleable__content\"><pre>RandomForestRegressor()</pre></div></div></div><div class=\"sk-serial\"><div class=\"sk-item\"><div class=\"sk-estimator sk-toggleable\"><input class=\"sk-toggleable__control sk-hidden--visually\" id=\"sk-estimator-id-13\" type=\"checkbox\" ><label for=\"sk-estimator-id-13\" class=\"sk-toggleable__label sk-toggleable__label-arrow\">RandomForestRegressor</label><div class=\"sk-toggleable__content\"><pre>RandomForestRegressor()</pre></div></div></div></div></div></div></div></div></div></div>"
      ],
      "text/plain": [
       "GridSearchCV(cv=14, estimator=RandomForestRegressor(),\n",
       "             param_grid=[{'criterion': ['squared_error', 'absolute_error',\n",
       "                                        'poisson'],\n",
       "                          'max_depth': [10, 15], 'min_samples_leaf': [5, 6],\n",
       "                          'min_samples_split': [10, 11],\n",
       "                          'n_estimators': [10, 20]}])"
      ]
     },
     "execution_count": 140,
     "metadata": {},
     "output_type": "execute_result"
    }
   ],
   "source": [
    "#training model with all the parameters to find best parameters\n",
    "grid_search.fit(x_train,y_train)"
   ]
  },
  {
   "cell_type": "code",
   "execution_count": 141,
   "id": "88daf4b6",
   "metadata": {},
   "outputs": [
    {
     "name": "stdout",
     "output_type": "stream",
     "text": [
      "{'criterion': 'absolute_error', 'max_depth': 10, 'min_samples_leaf': 6, 'min_samples_split': 10, 'n_estimators': 20}\n"
     ]
    }
   ],
   "source": [
    "#printing best parameters that increases score \n",
    "best_parameters=grid_search.best_params_\n",
    "print(best_parameters)"
   ]
  },
  {
   "cell_type": "code",
   "execution_count": 258,
   "id": "0dd7d3c2",
   "metadata": {},
   "outputs": [
    {
     "data": {
      "text/html": [
       "<style>#sk-container-id-31 {color: black;background-color: white;}#sk-container-id-31 pre{padding: 0;}#sk-container-id-31 div.sk-toggleable {background-color: white;}#sk-container-id-31 label.sk-toggleable__label {cursor: pointer;display: block;width: 100%;margin-bottom: 0;padding: 0.3em;box-sizing: border-box;text-align: center;}#sk-container-id-31 label.sk-toggleable__label-arrow:before {content: \"▸\";float: left;margin-right: 0.25em;color: #696969;}#sk-container-id-31 label.sk-toggleable__label-arrow:hover:before {color: black;}#sk-container-id-31 div.sk-estimator:hover label.sk-toggleable__label-arrow:before {color: black;}#sk-container-id-31 div.sk-toggleable__content {max-height: 0;max-width: 0;overflow: hidden;text-align: left;background-color: #f0f8ff;}#sk-container-id-31 div.sk-toggleable__content pre {margin: 0.2em;color: black;border-radius: 0.25em;background-color: #f0f8ff;}#sk-container-id-31 input.sk-toggleable__control:checked~div.sk-toggleable__content {max-height: 200px;max-width: 100%;overflow: auto;}#sk-container-id-31 input.sk-toggleable__control:checked~label.sk-toggleable__label-arrow:before {content: \"▾\";}#sk-container-id-31 div.sk-estimator input.sk-toggleable__control:checked~label.sk-toggleable__label {background-color: #d4ebff;}#sk-container-id-31 div.sk-label input.sk-toggleable__control:checked~label.sk-toggleable__label {background-color: #d4ebff;}#sk-container-id-31 input.sk-hidden--visually {border: 0;clip: rect(1px 1px 1px 1px);clip: rect(1px, 1px, 1px, 1px);height: 1px;margin: -1px;overflow: hidden;padding: 0;position: absolute;width: 1px;}#sk-container-id-31 div.sk-estimator {font-family: monospace;background-color: #f0f8ff;border: 1px dotted black;border-radius: 0.25em;box-sizing: border-box;margin-bottom: 0.5em;}#sk-container-id-31 div.sk-estimator:hover {background-color: #d4ebff;}#sk-container-id-31 div.sk-parallel-item::after {content: \"\";width: 100%;border-bottom: 1px solid gray;flex-grow: 1;}#sk-container-id-31 div.sk-label:hover label.sk-toggleable__label {background-color: #d4ebff;}#sk-container-id-31 div.sk-serial::before {content: \"\";position: absolute;border-left: 1px solid gray;box-sizing: border-box;top: 0;bottom: 0;left: 50%;z-index: 0;}#sk-container-id-31 div.sk-serial {display: flex;flex-direction: column;align-items: center;background-color: white;padding-right: 0.2em;padding-left: 0.2em;position: relative;}#sk-container-id-31 div.sk-item {position: relative;z-index: 1;}#sk-container-id-31 div.sk-parallel {display: flex;align-items: stretch;justify-content: center;background-color: white;position: relative;}#sk-container-id-31 div.sk-item::before, #sk-container-id-31 div.sk-parallel-item::before {content: \"\";position: absolute;border-left: 1px solid gray;box-sizing: border-box;top: 0;bottom: 0;left: 50%;z-index: -1;}#sk-container-id-31 div.sk-parallel-item {display: flex;flex-direction: column;z-index: 1;position: relative;background-color: white;}#sk-container-id-31 div.sk-parallel-item:first-child::after {align-self: flex-end;width: 50%;}#sk-container-id-31 div.sk-parallel-item:last-child::after {align-self: flex-start;width: 50%;}#sk-container-id-31 div.sk-parallel-item:only-child::after {width: 0;}#sk-container-id-31 div.sk-dashed-wrapped {border: 1px dashed gray;margin: 0 0.4em 0.5em 0.4em;box-sizing: border-box;padding-bottom: 0.4em;background-color: white;}#sk-container-id-31 div.sk-label label {font-family: monospace;font-weight: bold;display: inline-block;line-height: 1.2em;}#sk-container-id-31 div.sk-label-container {text-align: center;}#sk-container-id-31 div.sk-container {/* jupyter's `normalize.less` sets `[hidden] { display: none; }` but bootstrap.min.css set `[hidden] { display: none !important; }` so we also need the `!important` here to be able to override the default hidden behavior on the sphinx rendered scikit-learn.org. See: https://github.com/scikit-learn/scikit-learn/issues/21755 */display: inline-block !important;position: relative;}#sk-container-id-31 div.sk-text-repr-fallback {display: none;}</style><div id=\"sk-container-id-31\" class=\"sk-top-container\"><div class=\"sk-text-repr-fallback\"><pre>RandomForestRegressor(max_depth=16, min_samples_leaf=4, min_samples_split=15,\n",
       "                      n_estimators=50)</pre><b>In a Jupyter environment, please rerun this cell to show the HTML representation or trust the notebook. <br />On GitHub, the HTML representation is unable to render, please try loading this page with nbviewer.org.</b></div><div class=\"sk-container\" hidden><div class=\"sk-item\"><div class=\"sk-estimator sk-toggleable\"><input class=\"sk-toggleable__control sk-hidden--visually\" id=\"sk-estimator-id-37\" type=\"checkbox\" checked><label for=\"sk-estimator-id-37\" class=\"sk-toggleable__label sk-toggleable__label-arrow\">RandomForestRegressor</label><div class=\"sk-toggleable__content\"><pre>RandomForestRegressor(max_depth=16, min_samples_leaf=4, min_samples_split=15,\n",
       "                      n_estimators=50)</pre></div></div></div></div></div>"
      ],
      "text/plain": [
       "RandomForestRegressor(max_depth=16, min_samples_leaf=4, min_samples_split=15,\n",
       "                      n_estimators=50)"
      ]
     },
     "execution_count": 258,
     "metadata": {},
     "output_type": "execute_result"
    }
   ],
   "source": [
    "#using best parameters fetched into random forest model and using it on train data\n",
    "\n",
    "rf1=RandomForestRegressor(criterion='squared_error',\n",
    "                          max_depth=16, \n",
    "                          min_samples_leaf= 4, \n",
    "                          min_samples_split= 15, \n",
    "                          n_estimators= 50)\n",
    "rf1.fit(x_train,y_train)"
   ]
  },
  {
   "cell_type": "code",
   "execution_count": 260,
   "id": "695c532f",
   "metadata": {},
   "outputs": [
    {
     "name": "stdout",
     "output_type": "stream",
     "text": [
      "Training R2 score for random forests after hyperparameter tuning:89.69%\n",
      "Testing R2 score for random forests after hyperparameter tuning:88.49%\n"
     ]
    }
   ],
   "source": [
    "#learning model on train and test data and printing score\n",
    "\n",
    "y_pred_rf1=rf1.predict(x_train)\n",
    "pred_rf1=rf1.predict(x_test)\n",
    "print(f'Training R2 score for random forests after hyperparameter tuning:{r2_score(y_train,y_pred_rf1)*100:.2f}%')\n",
    "print(f'Testing R2 score for random forests after hyperparameter tuning:{r2_score(y_test,pred_rf1)*100:.2f}%')"
   ]
  },
  {
   "cell_type": "markdown",
   "id": "0e4ec8f8",
   "metadata": {},
   "source": [
    "# saving the model using pickle"
   ]
  },
  {
   "cell_type": "code",
   "execution_count": 263,
   "id": "caa47ad6",
   "metadata": {},
   "outputs": [],
   "source": [
    "import pickle"
   ]
  },
  {
   "cell_type": "code",
   "execution_count": 264,
   "id": "482869a4",
   "metadata": {},
   "outputs": [],
   "source": [
    "pickle.dump(rf1,open('medical charges_rf','wb'))"
   ]
  },
  {
   "cell_type": "code",
   "execution_count": null,
   "id": "66def1a5",
   "metadata": {},
   "outputs": [],
   "source": []
  }
 ],
 "metadata": {
  "kernelspec": {
   "display_name": "Python 3 (ipykernel)",
   "language": "python",
   "name": "python3"
  },
  "language_info": {
   "codemirror_mode": {
    "name": "ipython",
    "version": 3
   },
   "file_extension": ".py",
   "mimetype": "text/x-python",
   "name": "python",
   "nbconvert_exporter": "python",
   "pygments_lexer": "ipython3",
   "version": "3.9.12"
  }
 },
 "nbformat": 4,
 "nbformat_minor": 5
}
